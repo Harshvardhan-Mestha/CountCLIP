{
  "cells": [
    {
      "cell_type": "code",
      "source": [
        "!pip -q install ultralytics"
      ],
      "metadata": {
        "id": "QCiCyIwZHeud"
      },
      "execution_count": 1,
      "outputs": []
    },
    {
      "cell_type": "code",
      "source": [
        "!wget https://the-eye.eu/public/AI/cah/laion400m-met-release/laion400m-meta/part-00000-5b54c5d5-bbcf-484d-a2ce-0d6f73df1a36-c000.snappy.parquet"
      ],
      "metadata": {
        "colab": {
          "base_uri": "https://localhost:8080/"
        },
        "id": "By8P_NcJGtt0",
        "outputId": "4f7b7deb-fde8-4c4d-ef38-5606bb70a720"
      },
      "execution_count": 2,
      "outputs": [
        {
          "output_type": "stream",
          "name": "stdout",
          "text": [
            "--2024-02-16 00:50:38--  https://the-eye.eu/public/AI/cah/laion400m-met-release/laion400m-meta/part-00000-5b54c5d5-bbcf-484d-a2ce-0d6f73df1a36-c000.snappy.parquet\n",
            "Resolving the-eye.eu (the-eye.eu)... 162.213.130.6\n",
            "Connecting to the-eye.eu (the-eye.eu)|162.213.130.6|:443... connected.\n",
            "^C\n"
          ]
        }
      ]
    },
    {
      "cell_type": "code",
      "execution_count": 1,
      "metadata": {
        "id": "ZnoyNecKGoxj"
      },
      "outputs": [],
      "source": [
        "import json\n",
        "import pandas as pd\n",
        "import numpy as np\n",
        "import urllib3\n",
        "from tqdm import trange\n",
        "import os\n",
        "import torch\n",
        "from ultralytics import YOLO\n",
        "from collections import Counter\n",
        "from scipy import stats\n",
        "import requests\n",
        "from datetime import datetime\n"
      ]
    },
    {
      "cell_type": "code",
      "execution_count": 2,
      "metadata": {
        "colab": {
          "base_uri": "https://localhost:8080/"
        },
        "id": "KyryxEdoGoxl",
        "outputId": "72a49f76-f605-4e12-aad4-1eafa58f8ee1"
      },
      "outputs": [
        {
          "output_type": "stream",
          "name": "stdout",
          "text": [
            "(12933524, 8)\n"
          ]
        }
      ],
      "source": [
        "metadata = pd.read_parquet(\"/content/part-00000-5b54c5d5-bbcf-484d-a2ce-0d6f73df1a36-c000.snappy.parquet\")\n",
        "print(metadata.shape)\n",
        "metadata = metadata[0:600000]"
      ]
    },
    {
      "cell_type": "code",
      "execution_count": 3,
      "metadata": {
        "id": "WdwKMLzkGoxm"
      },
      "outputs": [],
      "source": [
        "model = YOLO(\"yolov8n.pt\")\n",
        "IMG_FORMATS = ['bmp', 'dng', 'jpeg', 'jpg', 'mpo', 'png', 'tif', 'tiff', 'webp', 'pfm']\n",
        "urls_raw = list(metadata[\"URL\"])\n",
        "caps_raw = list(metadata[\"TEXT\"])"
      ]
    },
    {
      "cell_type": "code",
      "execution_count": 4,
      "metadata": {
        "colab": {
          "base_uri": "https://localhost:8080/",
          "height": 98
        },
        "id": "OABHQUT8Goxn",
        "outputId": "44249948-8783-47fc-8e22-5b2dfd590e43"
      },
      "outputs": [
        {
          "output_type": "execute_result",
          "data": {
            "text/plain": [
              "      SAMPLE_ID                                                URL  \\\n",
              "0  1.581282e+12  http://media.rightmove.co.uk/148k/147518/58718...   \n",
              "\n",
              "                                      TEXT  HEIGHT  WIDTH LICENSE    NSFW  \\\n",
              "0  View EPC Rating Graph for this property   109.0  100.0       ?  UNSURE   \n",
              "\n",
              "   similarity  \n",
              "0    0.312813  "
            ],
            "text/html": [
              "\n",
              "  <div id=\"df-75528ff0-8d7b-4c57-941e-31a93b5bd9c3\" class=\"colab-df-container\">\n",
              "    <div>\n",
              "<style scoped>\n",
              "    .dataframe tbody tr th:only-of-type {\n",
              "        vertical-align: middle;\n",
              "    }\n",
              "\n",
              "    .dataframe tbody tr th {\n",
              "        vertical-align: top;\n",
              "    }\n",
              "\n",
              "    .dataframe thead th {\n",
              "        text-align: right;\n",
              "    }\n",
              "</style>\n",
              "<table border=\"1\" class=\"dataframe\">\n",
              "  <thead>\n",
              "    <tr style=\"text-align: right;\">\n",
              "      <th></th>\n",
              "      <th>SAMPLE_ID</th>\n",
              "      <th>URL</th>\n",
              "      <th>TEXT</th>\n",
              "      <th>HEIGHT</th>\n",
              "      <th>WIDTH</th>\n",
              "      <th>LICENSE</th>\n",
              "      <th>NSFW</th>\n",
              "      <th>similarity</th>\n",
              "    </tr>\n",
              "  </thead>\n",
              "  <tbody>\n",
              "    <tr>\n",
              "      <th>0</th>\n",
              "      <td>1.581282e+12</td>\n",
              "      <td>http://media.rightmove.co.uk/148k/147518/58718...</td>\n",
              "      <td>View EPC Rating Graph for this property</td>\n",
              "      <td>109.0</td>\n",
              "      <td>100.0</td>\n",
              "      <td>?</td>\n",
              "      <td>UNSURE</td>\n",
              "      <td>0.312813</td>\n",
              "    </tr>\n",
              "  </tbody>\n",
              "</table>\n",
              "</div>\n",
              "    <div class=\"colab-df-buttons\">\n",
              "\n",
              "  <div class=\"colab-df-container\">\n",
              "    <button class=\"colab-df-convert\" onclick=\"convertToInteractive('df-75528ff0-8d7b-4c57-941e-31a93b5bd9c3')\"\n",
              "            title=\"Convert this dataframe to an interactive table.\"\n",
              "            style=\"display:none;\">\n",
              "\n",
              "  <svg xmlns=\"http://www.w3.org/2000/svg\" height=\"24px\" viewBox=\"0 -960 960 960\">\n",
              "    <path d=\"M120-120v-720h720v720H120Zm60-500h600v-160H180v160Zm220 220h160v-160H400v160Zm0 220h160v-160H400v160ZM180-400h160v-160H180v160Zm440 0h160v-160H620v160ZM180-180h160v-160H180v160Zm440 0h160v-160H620v160Z\"/>\n",
              "  </svg>\n",
              "    </button>\n",
              "\n",
              "  <style>\n",
              "    .colab-df-container {\n",
              "      display:flex;\n",
              "      gap: 12px;\n",
              "    }\n",
              "\n",
              "    .colab-df-convert {\n",
              "      background-color: #E8F0FE;\n",
              "      border: none;\n",
              "      border-radius: 50%;\n",
              "      cursor: pointer;\n",
              "      display: none;\n",
              "      fill: #1967D2;\n",
              "      height: 32px;\n",
              "      padding: 0 0 0 0;\n",
              "      width: 32px;\n",
              "    }\n",
              "\n",
              "    .colab-df-convert:hover {\n",
              "      background-color: #E2EBFA;\n",
              "      box-shadow: 0px 1px 2px rgba(60, 64, 67, 0.3), 0px 1px 3px 1px rgba(60, 64, 67, 0.15);\n",
              "      fill: #174EA6;\n",
              "    }\n",
              "\n",
              "    .colab-df-buttons div {\n",
              "      margin-bottom: 4px;\n",
              "    }\n",
              "\n",
              "    [theme=dark] .colab-df-convert {\n",
              "      background-color: #3B4455;\n",
              "      fill: #D2E3FC;\n",
              "    }\n",
              "\n",
              "    [theme=dark] .colab-df-convert:hover {\n",
              "      background-color: #434B5C;\n",
              "      box-shadow: 0px 1px 3px 1px rgba(0, 0, 0, 0.15);\n",
              "      filter: drop-shadow(0px 1px 2px rgba(0, 0, 0, 0.3));\n",
              "      fill: #FFFFFF;\n",
              "    }\n",
              "  </style>\n",
              "\n",
              "    <script>\n",
              "      const buttonEl =\n",
              "        document.querySelector('#df-75528ff0-8d7b-4c57-941e-31a93b5bd9c3 button.colab-df-convert');\n",
              "      buttonEl.style.display =\n",
              "        google.colab.kernel.accessAllowed ? 'block' : 'none';\n",
              "\n",
              "      async function convertToInteractive(key) {\n",
              "        const element = document.querySelector('#df-75528ff0-8d7b-4c57-941e-31a93b5bd9c3');\n",
              "        const dataTable =\n",
              "          await google.colab.kernel.invokeFunction('convertToInteractive',\n",
              "                                                    [key], {});\n",
              "        if (!dataTable) return;\n",
              "\n",
              "        const docLinkHtml = 'Like what you see? Visit the ' +\n",
              "          '<a target=\"_blank\" href=https://colab.research.google.com/notebooks/data_table.ipynb>data table notebook</a>'\n",
              "          + ' to learn more about interactive tables.';\n",
              "        element.innerHTML = '';\n",
              "        dataTable['output_type'] = 'display_data';\n",
              "        await google.colab.output.renderOutput(dataTable, element);\n",
              "        const docLink = document.createElement('div');\n",
              "        docLink.innerHTML = docLinkHtml;\n",
              "        element.appendChild(docLink);\n",
              "      }\n",
              "    </script>\n",
              "  </div>\n",
              "\n",
              "    </div>\n",
              "  </div>\n"
            ],
            "application/vnd.google.colaboratory.intrinsic+json": {
              "type": "dataframe",
              "summary": "{\n  \"name\": \"metadata[0:1]\",\n  \"rows\": 1,\n  \"fields\": [\n    {\n      \"column\": \"SAMPLE_ID\",\n      \"properties\": {\n        \"dtype\": \"number\",\n        \"std\": NaN,\n        \"min\": 1581282014547.0,\n        \"max\": 1581282014547.0,\n        \"samples\": [\n          1581282014547.0\n        ],\n        \"num_unique_values\": 1,\n        \"semantic_type\": \"\",\n        \"description\": \"\"\n      }\n    },\n    {\n      \"column\": \"URL\",\n      \"properties\": {\n        \"dtype\": \"string\",\n        \"samples\": [\n          \"http://media.rightmove.co.uk/148k/147518/58718876/147518_SWO160154_EPCGRAPH_01_0000_max_135x100.png\"\n        ],\n        \"num_unique_values\": 1,\n        \"semantic_type\": \"\",\n        \"description\": \"\"\n      }\n    },\n    {\n      \"column\": \"TEXT\",\n      \"properties\": {\n        \"dtype\": \"string\",\n        \"samples\": [\n          \"View EPC Rating Graph for this property\"\n        ],\n        \"num_unique_values\": 1,\n        \"semantic_type\": \"\",\n        \"description\": \"\"\n      }\n    },\n    {\n      \"column\": \"HEIGHT\",\n      \"properties\": {\n        \"dtype\": \"number\",\n        \"std\": NaN,\n        \"min\": 109.0,\n        \"max\": 109.0,\n        \"samples\": [\n          109.0\n        ],\n        \"num_unique_values\": 1,\n        \"semantic_type\": \"\",\n        \"description\": \"\"\n      }\n    },\n    {\n      \"column\": \"WIDTH\",\n      \"properties\": {\n        \"dtype\": \"number\",\n        \"std\": NaN,\n        \"min\": 100.0,\n        \"max\": 100.0,\n        \"samples\": [\n          100.0\n        ],\n        \"num_unique_values\": 1,\n        \"semantic_type\": \"\",\n        \"description\": \"\"\n      }\n    },\n    {\n      \"column\": \"LICENSE\",\n      \"properties\": {\n        \"dtype\": \"string\",\n        \"samples\": [\n          \"?\"\n        ],\n        \"num_unique_values\": 1,\n        \"semantic_type\": \"\",\n        \"description\": \"\"\n      }\n    },\n    {\n      \"column\": \"NSFW\",\n      \"properties\": {\n        \"dtype\": \"string\",\n        \"samples\": [\n          \"UNSURE\"\n        ],\n        \"num_unique_values\": 1,\n        \"semantic_type\": \"\",\n        \"description\": \"\"\n      }\n    },\n    {\n      \"column\": \"similarity\",\n      \"properties\": {\n        \"dtype\": \"number\",\n        \"std\": NaN,\n        \"min\": 0.312813401222229,\n        \"max\": 0.312813401222229,\n        \"samples\": [\n          0.312813401222229\n        ],\n        \"num_unique_values\": 1,\n        \"semantic_type\": \"\",\n        \"description\": \"\"\n      }\n    }\n  ]\n}"
            }
          },
          "metadata": {},
          "execution_count": 4
        }
      ],
      "source": [
        "metadata[0:1]"
      ]
    },
    {
      "cell_type": "code",
      "execution_count": 5,
      "metadata": {
        "colab": {
          "base_uri": "https://localhost:8080/"
        },
        "id": "5WbByfCRGoxn",
        "outputId": "56b5713d-8465-4e67-f633-d3d4cf23dbbe"
      },
      "outputs": [
        {
          "output_type": "execute_result",
          "data": {
            "text/plain": [
              "(False, -1)"
            ]
          },
          "metadata": {},
          "execution_count": 5
        }
      ],
      "source": [
        "import re\n",
        "def cap_parse(cap):\n",
        "    nums = []\n",
        "    num2word = {\n",
        "        'two':2,\n",
        "        'three':3,\n",
        "        'four':4,\n",
        "        'five':5,\n",
        "        'six':6,\n",
        "        'seven':7,\n",
        "        'eight':8,\n",
        "        'nine':9,\n",
        "        'ten':10\n",
        "    }\n",
        "    try:\n",
        "        x = re.findall(r'\\b(two|three|four|five|six|seven|eight|nine|ten)\\b', cap, flags=re.IGNORECASE)\n",
        "    except:\n",
        "        return (False,-1)\n",
        "    if len(x) == 0 :return (False,-1)\n",
        "    else:\n",
        "        max_freq = max(num2word[i.lower()] for i in x)\n",
        "        return (True,max_freq)\n",
        "\n",
        "\n",
        "\n",
        "txt0 = \"vintage silver plate tablespoons, serving spoon set of six 1847 Rogers pattern\"\n",
        "txt1 = \"A preview of seven printable dot marker coloring pages. Each page has a large 4th of July themed image with dots to color in with a dauber style marker.\"\n",
        "txt2 = \"bag of chips\"\n",
        "cap_parse(txt2)\n"
      ]
    },
    {
      "cell_type": "code",
      "execution_count": 6,
      "metadata": {
        "id": "GqKxd4u4Goxn"
      },
      "outputs": [],
      "source": [
        "\n",
        "def validate_urls(urls,caps):\n",
        "    valid_urls = []\n",
        "    valid_caps = []\n",
        "    for url,cap in zip(urls,caps):\n",
        "        for img_format in IMG_FORMATS:\n",
        "            idx = url.lower().find(\".\" + img_format)\n",
        "            if idx == -1:\n",
        "                continue\n",
        "            valid_urls.append(url[:idx + len(img_format) + 1])\n",
        "            valid_caps.append(cap)\n",
        "    return (valid_urls,valid_caps)\n",
        "\n",
        "\n"
      ]
    },
    {
      "cell_type": "code",
      "execution_count": 7,
      "metadata": {
        "id": "LVlKdMW_Goxn"
      },
      "outputs": [],
      "source": [
        "def validate_counts(counting):\n",
        "    final = []\n",
        "    for i in range(len(counting)):\n",
        "        print(counting[i])\n",
        "        x,cap,url,num = counting[i]\n",
        "        if len(x)!=0:\n",
        "            counts = Counter(map(int, x))\n",
        "            max_freq = max(counts.values())\n",
        "            print(max_freq)\n",
        "            if max_freq == num:\n",
        "                final.append(counting[i])\n",
        "    return final\n"
      ]
    },
    {
      "cell_type": "code",
      "execution_count": 8,
      "metadata": {
        "colab": {
          "base_uri": "https://localhost:8080/"
        },
        "id": "47sglBlJGoxo",
        "outputId": "4dba37dd-113a-4562-8bf5-d9f190fe643c"
      },
      "outputs": [
        {
          "output_type": "stream",
          "name": "stdout",
          "text": [
            "([tensor(39), tensor(39)], 'aa', 'bb', 3)\n",
            "2\n",
            "([39, 39, 39], 'aa', 'bb', 2)\n",
            "3\n"
          ]
        },
        {
          "output_type": "execute_result",
          "data": {
            "text/plain": [
              "[]"
            ]
          },
          "metadata": {},
          "execution_count": 8
        }
      ],
      "source": [
        "a = [([torch.tensor(39., dtype=int), torch.tensor(39., dtype=int)],\"aa\",\"bb\",3),([39,39,39],\"aa\",\"bb\",2)]\n",
        "final = validate_counts(a)\n",
        "final\n",
        "# a[0]\n",
        "# x,cap,url,num = a[0]"
      ]
    },
    {
      "cell_type": "code",
      "execution_count": 9,
      "metadata": {
        "colab": {
          "base_uri": "https://localhost:8080/"
        },
        "id": "7uvdi0wdGoxo",
        "outputId": "6e774de7-adb0-4f52-fee5-3e27e29d701e"
      },
      "outputs": [
        {
          "output_type": "stream",
          "name": "stdout",
          "text": [
            "([tensor(32), tensor(32), tensor(0)], 'http://s3./bncore/wp-conten.jpg', 'Matthew Anderson', 5)\n",
            "2\n"
          ]
        },
        {
          "output_type": "execute_result",
          "data": {
            "text/plain": [
              "[]"
            ]
          },
          "metadata": {},
          "execution_count": 9
        }
      ],
      "source": [
        "validate_counts([([torch.tensor(32), torch.tensor(32), torch.tensor(0)], 'http://s3./bncore/wp-conten.jpg', 'Matthew Anderson', 5)])"
      ]
    },
    {
      "cell_type": "code",
      "execution_count": 10,
      "metadata": {
        "id": "PnxDRWzVGoxp"
      },
      "outputs": [],
      "source": [
        "def save_counts(counting):\n",
        "    print(len(counting))\n",
        "    counting[0:5]\n",
        "    f = open(\"segments0.npy\",\"wb\")\n",
        "    np.save(f,pd.DataFrame(counting))\n",
        "    print(\"counting set saved\")\n"
      ]
    },
    {
      "cell_type": "code",
      "execution_count": 11,
      "metadata": {
        "id": "ehaUxsC5Goxp"
      },
      "outputs": [],
      "source": [
        "# import sys, os\n",
        "\n",
        "# def blockPrint():\n",
        "#     sys.stdout = open(os.devnull, 'w')\n",
        "\n",
        "# # Restore\n",
        "# def enablePrint():\n",
        "#     sys.stdout = sys.__stdout__\n"
      ]
    },
    {
      "cell_type": "code",
      "source": [
        "# def verify_url(url, timeout=1):\n",
        "#     try:\n",
        "#         start_time = datetime.now()\n",
        "#         response = requests.get(url, timeout=timeout)\n",
        "#         end_time = datetime.now()\n",
        "#         time_taken = (end_time - start_time).total_seconds()\n",
        "#         if response.status_code == 200 and time_taken <= timeout:\n",
        "#             # print(f\"URL {url} is reachable and took {time_taken} seconds to fetch.\")\n",
        "#             return True\n",
        "#         else:\n",
        "#             # print(f\"URL {url} is unreachable or took more than {timeout} seconds to fetch.\")\n",
        "#             return False\n",
        "#     except:\n",
        "#         pass"
      ],
      "metadata": {
        "id": "19quPvfjcZPC"
      },
      "execution_count": 12,
      "outputs": []
    },
    {
      "cell_type": "code",
      "execution_count": 13,
      "metadata": {
        "id": "Fz8uHKX_Goxp"
      },
      "outputs": [],
      "source": [
        "\n",
        "def filter_laion(urls_raw,caps_raw):\n",
        "    urls,caps = validate_urls(urls_raw,caps_raw)\n",
        "    counting = []\n",
        "    timeout = 1\n",
        "    print(len(urls))\n",
        "    for i in trange(len(urls)):\n",
        "        # blockPrint()\n",
        "        cap_data = cap_parse(caps[i])\n",
        "        # print(cap_data,caps[i])\n",
        "        if cap_data[0] == True:\n",
        "            try:\n",
        "                start_time = datetime.now()\n",
        "                response = requests.get(urls[i], timeout=timeout)\n",
        "                end_time = datetime.now()\n",
        "                time_taken = (end_time - start_time).total_seconds()\n",
        "\n",
        "                if response.status_code == 200 and time_taken <= timeout:\n",
        "                  results = model(str(urls[i]),verbose=False,stream=False)\n",
        "                  x = list(results[0].boxes.cls)\n",
        "                else:\n",
        "                  x=[]\n",
        "            except:\n",
        "                x = []\n",
        "            counting.append((x,urls[i],caps[i],cap_data[1]))\n",
        "        # enablePrint()\n",
        "    counting = validate_counts(counting)\n",
        "    save_counts(counting)\n",
        "    return counting\n",
        "\n"
      ]
    },
    {
      "cell_type": "code",
      "execution_count": null,
      "metadata": {
        "id": "x3ISA-RqGoxp"
      },
      "outputs": [],
      "source": [
        "filter_laion(urls_raw,caps_raw)\n",
        "\n"
      ]
    },
    {
      "cell_type": "code",
      "execution_count": null,
      "metadata": {
        "id": "xQiSobbMGoxq"
      },
      "outputs": [],
      "source": [
        "f = open(\"segments0.npy\",\"rb\")\n",
        "out = np.load(f,allow_pickle=True)\n",
        "len(out)"
      ]
    },
    {
      "cell_type": "code",
      "source": [
        "out"
      ],
      "metadata": {
        "id": "wEGdXVhpPl9Q"
      },
      "execution_count": null,
      "outputs": []
    },
    {
      "cell_type": "code",
      "execution_count": null,
      "metadata": {
        "id": "agcx1M3gGoxq"
      },
      "outputs": [],
      "source": [
        "validate_counts([(list([torch.tensor(39.),torch.tensor(39.),torch.tensor(39.)]),\"aa\",\"bb\",3)])"
      ]
    },
    {
      "cell_type": "code",
      "execution_count": null,
      "metadata": {
        "id": "kubWHTUdGoxq"
      },
      "outputs": [],
      "source": [
        "import requests\n",
        "\n",
        "def is_url_image(image_url):\n",
        "   image_formats = (\"image/png\", \"image/jpeg\", \"image/jpg\")\n",
        "   try:\n",
        "      r = requests.head(image_url)\n",
        "   except:\n",
        "      return False\n",
        "   try:\n",
        "      if r.headers[\"content-type\"] in image_formats:\n",
        "         return True\n",
        "   except:\n",
        "         return True\n",
        "\n",
        "   return False"
      ]
    }
  ],
  "metadata": {
    "kernelspec": {
      "display_name": "Python 3",
      "name": "python3"
    },
    "language_info": {
      "codemirror_mode": {
        "name": "ipython",
        "version": 3
      },
      "file_extension": ".py",
      "mimetype": "text/x-python",
      "name": "python",
      "nbconvert_exporter": "python",
      "pygments_lexer": "ipython3",
      "version": "3.11.2"
    },
    "colab": {
      "provenance": [],
      "gpuType": "T4"
    },
    "accelerator": "GPU"
  },
  "nbformat": 4,
  "nbformat_minor": 0
}