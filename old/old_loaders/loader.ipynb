{
 "cells": [
  {
   "cell_type": "code",
   "execution_count": 14,
   "metadata": {},
   "outputs": [],
   "source": [
    "import json\n",
    "import pandas as pd\n",
    "import numpy as np\n",
    "import pyarrow\n",
    "import urllib3\n",
    "from tqdm import trange\n",
    "import os\n",
    "from ping3 import ping, verbose_ping\n"
   ]
  },
  {
   "cell_type": "code",
   "execution_count": 15,
   "metadata": {},
   "outputs": [
    {
     "name": "stdout",
     "output_type": "stream",
     "text": [
      "(12933524, 8)\n"
     ]
    }
   ],
   "source": [
    "\n",
    "\n",
    "metadata = pd.read_parquet(\"dataset/the-eye.eu/public/AI/cah/laion400m-met-release/laion400m-meta/part-00000-5b54c5d5-bbcf-484d-a2ce-0d6f73df1a36-c000.snappy.parquet\")\n",
    "\n",
    "print(metadata.shape)"
   ]
  },
  {
   "cell_type": "code",
   "execution_count": 16,
   "metadata": {},
   "outputs": [],
   "source": [
    "metadata = metadata[0:100]"
   ]
  },
  {
   "cell_type": "code",
   "execution_count": 17,
   "metadata": {},
   "outputs": [],
   "source": [
    "from icmplib import ping\n",
    "from icmplib.exceptions import NameLookupError\n",
    "\n",
    "\n",
    "def host_up(hostname: str):\n",
    "    try:\n",
    "        host = ping(hostname, count=5, interval=0.2, timeout=1, privileged=False)\n",
    "    except NameLookupError:\n",
    "        return False\n",
    "    return host.packets_sent == host.packets_received"
   ]
  },
  {
   "cell_type": "code",
   "execution_count": 37,
   "metadata": {},
   "outputs": [],
   "source": [
    "import requests\n",
    "\n",
    "def is_url_image(image_url):\n",
    "   image_formats = (\"image/png\", \"image/jpeg\", \"image/jpg\")\n",
    "   try:\n",
    "      r = requests.head(image_url)\n",
    "   except:\n",
    "      return False\n",
    "   try:\n",
    "      if r.headers[\"content-type\"] in image_formats:\n",
    "         return True\n",
    "   except:\n",
    "         return True\n",
    "      \n",
    "   return False"
   ]
  },
  {
   "cell_type": "code",
   "execution_count": 53,
   "metadata": {},
   "outputs": [
    {
     "name": "stdout",
     "output_type": "stream",
     "text": [
      "['http://media.rightmove.co.uk/148k/147518/58718876/147518_SWO160154_EPCGRAPH_01_0000_max_135x100.png', 'https://thumbs.ebaystatic.com/images/g/DYEAAOSwMHdXR0Vh/s-l225.jpg', 'https://farm1.staticflickr.com/784/40182677504_27d67600f3_o.jpg', 'https://t2.ftcdn.net/jpg/00/58/35/35/240_F_58353522_3plS29kylx1KZQ0lU6pYHuCAhUINvCSp.jpg', 'https://findingblanche.files.wordpress.com/2013/07/photo4-1.jpg?w=764&']\n",
      "['View EPC Rating Graph for this property', \"Silverline Air Framing Nailer 90mm 10 - 12 Gauge di alta qualità dell' aria Nailer\", 'Anhui Mountains', 'Acute pain in a woman knee', 'Venison – Sour Cherries – Cream – Potato']\n"
     ]
    },
    {
     "name": "stderr",
     "output_type": "stream",
     "text": [
      " 59%|█████▉    | 59/100 [02:20<04:08,  6.05s/it]"
     ]
    }
   ],
   "source": [
    "## run docker img with foll command (docker run --rm -it -p 8080:8080 imadelh/opencv_tf:full) and then run \n",
    "urls = list(metadata[\"URL\"])\n",
    "caps = list(metadata[\"TEXT\"])\n",
    "test = \"https://cdn.xxl.thumbs.canstockphoto.com/canstock13378645.jpg\"\n",
    "print(urls[0:5])\n",
    "print(caps[0:5])\n",
    "\n",
    "http = urllib3.PoolManager(num_pools=4)\n",
    "# print(requests.head(\"https://hds\"))\n",
    "# resp = http.request(\"GET\", f\"http://0.0.0.0:8080/predict/v1?model=yolo&image_url=\"+str(\"https://cdn.xxl.thumbs.canstockphoto.com/canstock13378645.jpg\"))\n",
    "# # print(json.loads(str(resp.data.decode('utf-8'))))\n",
    "# x = json.loads(str(resp.data.decode('utf-8')))\n",
    "# print(x)\n",
    "# print(len(json.loads(str(x))))\n",
    "l = list()\n",
    "\n",
    "\n",
    "for i in trange(100):\n",
    "   \n",
    "    if is_url_image(urls[i]):\n",
    "        try:\n",
    "            resp = http.request(\"GET\", f\"http://0.0.0.0:8080/predict/v1?model=yolo&image_url=\"+str(urls[i]))\n",
    "        except:\n",
    "            resp = 'b[]\\n'\n",
    "        # print(json.loads(str(resp.data.decode('utf-8'))))\n",
    "        try:\n",
    "            x = json.loads(str(resp.data.decode('utf-8')))\n",
    "        except:\n",
    "            x = []\n",
    "        l.append((x,urls[i],caps[i]))\n",
    "    else:\n",
    "        x = []\n",
    "        l.append((x,urls[i],caps[i]))\n",
    "    \n",
    "\n",
    "\n",
    "    \n",
    "\n",
    "\n",
    "\n",
    "\n",
    "\n"
   ]
  },
  {
   "cell_type": "code",
   "execution_count": null,
   "metadata": {},
   "outputs": [
    {
     "name": "stdout",
     "output_type": "stream",
     "text": [
      "[[], [], [], [{'bbox': [79.5, 12.5, 173, 213], 'confidence': 0.9937975406646729, 'label': 'person'}], [], [{'bbox': [67.0, 54.0, 94, 58], 'confidence': 0.9938004612922668, 'label': 'tvmonitor'}, {'bbox': [173.0, 94.5, 18, 17], 'confidence': 0.8944793343544006, 'label': 'clock'}, {'bbox': [18.0, 62.0, 42, 50], 'confidence': 0.7557624578475952, 'label': 'pottedplant'}], [], [{'bbox': [23.0, 20.5, 266, 285], 'confidence': 0.9997785687446594, 'label': 'person'}], [], [], [], [], [{'bbox': [154.0, 148.5, 44, 49], 'confidence': 0.9607377648353577, 'label': 'truck'}, {'bbox': [31.5, 41.5, 163, 117], 'confidence': 0.5461292266845703, 'label': 'cake'}], [], [{'bbox': [154.0, 185.5, 30, 39], 'confidence': 0.9836878180503845, 'label': 'person'}, {'bbox': [159.5, 215.0, 25, 26], 'confidence': 0.5293656587600708, 'label': 'surfboard'}], [], [{'bbox': [38.0, 14.0, 92, 94], 'confidence': 0.9986518025398254, 'label': 'person'}, {'bbox': [41.0, 70.5, 28, 11], 'confidence': 0.9734631180763245, 'label': 'cake'}, {'bbox': [109.0, 68.5, 24, 7], 'confidence': 0.9043866991996765, 'label': 'pizza'}, {'bbox': [10.5, 92.5, 27, 9], 'confidence': 0.7516690492630005, 'label': 'bowl'}, {'bbox': [18.0, 67.5, 8, 23], 'confidence': 0.6234972476959229, 'label': 'wine glass'}, {'bbox': [10.5, 67.0, 7, 24], 'confidence': 0.5151746273040771, 'label': 'wine glass'}], [], [], [{'bbox': [93.0, 217.0, 58, 102], 'confidence': 0.9362409114837646, 'label': 'chair'}, {'bbox': [146.0, 212.5, 20, 83], 'confidence': 0.9212747812271118, 'label': 'chair'}, {'bbox': [73.0, 208.0, 40, 22], 'confidence': 0.895159125328064, 'label': 'bowl'}, {'bbox': [10.0, 209.0, 76, 108], 'confidence': 0.8154535889625549, 'label': 'chair'}, {'bbox': [392.0, 229.5, 76, 121], 'confidence': 0.6342277526855469, 'label': 'chair'}], [], [{'bbox': [35.5, 61.0, 353, 134], 'confidence': 0.9601616859436035, 'label': 'car'}], [{'bbox': [19.0, 16.0, 70, 106], 'confidence': 0.9880458116531372, 'label': 'person'}, {'bbox': [165.5, 3.5, 27, 79], 'confidence': 0.9343793392181396, 'label': 'person'}, {'bbox': [135.5, 11.5, 25, 95], 'confidence': 0.9053277373313904, 'label': 'person'}, {'bbox': [25.5, 1.0, 27, 26], 'confidence': 0.8851795196533203, 'label': 'person'}, {'bbox': [56.0, 21.0, 56, 94], 'confidence': 0.8485392928123474, 'label': 'person'}, {'bbox': [94.0, 23.5, 42, 87], 'confidence': 0.7715543508529663, 'label': 'person'}, {'bbox': [109.0, 20.0, 14, 18], 'confidence': 0.5701804161071777, 'label': 'person'}, {'bbox': [89.0, 4.5, 20, 23], 'confidence': 0.5642803311347961, 'label': 'person'}], [], [], [], [], [], [], []]\n",
      "0\n",
      "0\n",
      "0\n",
      "1\n",
      "0\n",
      "3\n",
      "0\n",
      "1\n",
      "0\n",
      "0\n",
      "0\n",
      "0\n",
      "2\n",
      "0\n",
      "2\n",
      "0\n",
      "6\n",
      "0\n",
      "0\n",
      "5\n",
      "0\n",
      "1\n",
      "8\n",
      "0\n",
      "0\n",
      "0\n",
      "0\n",
      "0\n",
      "0\n",
      "0\n"
     ]
    }
   ],
   "source": [
    "print(l)\n",
    "for i in l:\n",
    "    print(len(i))"
   ]
  },
  {
   "cell_type": "code",
   "execution_count": null,
   "metadata": {},
   "outputs": [],
   "source": [
    "f = open(\"segments0.npy\",\"wb\")\n",
    "np.save(f,pd.Series(l))"
   ]
  },
  {
   "cell_type": "code",
   "execution_count": null,
   "metadata": {},
   "outputs": [
    {
     "data": {
      "text/plain": [
       "80"
      ]
     },
     "execution_count": 50,
     "metadata": {},
     "output_type": "execute_result"
    }
   ],
   "source": [
    "len(l)\n"
   ]
  },
  {
   "cell_type": "code",
   "execution_count": null,
   "metadata": {},
   "outputs": [
    {
     "data": {
      "text/plain": [
       "80"
      ]
     },
     "execution_count": 52,
     "metadata": {},
     "output_type": "execute_result"
    }
   ],
   "source": [
    "f = open(\"segments0.npy\",\"rb\")\n",
    "\n",
    "out = np.load(f,allow_pickle=True)\n",
    "len(out)"
   ]
  }
 ],
 "metadata": {
  "kernelspec": {
   "display_name": "Python 3",
   "language": "python",
   "name": "python3"
  },
  "language_info": {
   "codemirror_mode": {
    "name": "ipython",
    "version": 3
   },
   "file_extension": ".py",
   "mimetype": "text/x-python",
   "name": "python",
   "nbconvert_exporter": "python",
   "pygments_lexer": "ipython3",
   "version": "3.11.2"
  }
 },
 "nbformat": 4,
 "nbformat_minor": 2
}
