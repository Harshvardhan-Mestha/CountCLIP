{
 "cells": [
  {
   "cell_type": "code",
   "execution_count": 1,
   "metadata": {},
   "outputs": [],
   "source": [
    "import json\n",
    "import pandas as pd\n",
    "import numpy as np\n",
    "\n"
   ]
  },
  {
   "cell_type": "code",
   "execution_count": 30,
   "metadata": {},
   "outputs": [
    {
     "data": {
      "text/html": [
       "<div>\n",
       "<style scoped>\n",
       "    .dataframe tbody tr th:only-of-type {\n",
       "        vertical-align: middle;\n",
       "    }\n",
       "\n",
       "    .dataframe tbody tr th {\n",
       "        vertical-align: top;\n",
       "    }\n",
       "\n",
       "    .dataframe thead th {\n",
       "        text-align: right;\n",
       "    }\n",
       "</style>\n",
       "<table border=\"1\" class=\"dataframe\">\n",
       "  <thead>\n",
       "    <tr style=\"text-align: right;\">\n",
       "      <th></th>\n",
       "      <th>pths</th>\n",
       "      <th>caps</th>\n",
       "      <th>urls</th>\n",
       "      <th>counts</th>\n",
       "    </tr>\n",
       "  </thead>\n",
       "  <tbody>\n",
       "    <tr>\n",
       "      <th>0</th>\n",
       "      <td>./data/counting_imgs/C0.jpg</td>\n",
       "      <td>Beer Bottle Mock-Up - Three Bottles. Blank Label</td>\n",
       "      <td>https://as1.ftcdn.net/jpg/01/26/28/66/220_F_12...</td>\n",
       "      <td>3</td>\n",
       "    </tr>\n",
       "    <tr>\n",
       "      <th>1</th>\n",
       "      <td>./data/counting_imgs/C1.jpg</td>\n",
       "      <td>Two People Relating without a Higher Purpose C...</td>\n",
       "      <td>http://images.slideplayer.com/14/4200833/slide...</td>\n",
       "      <td>2</td>\n",
       "    </tr>\n",
       "    <tr>\n",
       "      <th>2</th>\n",
       "      <td>./data/counting_imgs/C2.jpg</td>\n",
       "      <td>Two bull moose in forest Stock Photography</td>\n",
       "      <td>https://thumbs.dreamstime.com/t/two-bull-moose...</td>\n",
       "      <td>2</td>\n",
       "    </tr>\n",
       "    <tr>\n",
       "      <th>3</th>\n",
       "      <td>./data/counting_imgs/C3.jpg</td>\n",
       "      <td>picture of flipper  - Rear view of two beautif...</td>\n",
       "      <td>https://static6.bigstockphoto.com/thumbs/7/5/4...</td>\n",
       "      <td>2</td>\n",
       "    </tr>\n",
       "    <tr>\n",
       "      <th>4</th>\n",
       "      <td>./data/counting_imgs/C4.jpg</td>\n",
       "      <td>Quadro Nude portrait of two sensual young girls</td>\n",
       "      <td>https://t2.ftcdn.net/jpg/00/13/08/65/110_F_130...</td>\n",
       "      <td>2</td>\n",
       "    </tr>\n",
       "  </tbody>\n",
       "</table>\n",
       "</div>"
      ],
      "text/plain": [
       "                          pths  \\\n",
       "0  ./data/counting_imgs/C0.jpg   \n",
       "1  ./data/counting_imgs/C1.jpg   \n",
       "2  ./data/counting_imgs/C2.jpg   \n",
       "3  ./data/counting_imgs/C3.jpg   \n",
       "4  ./data/counting_imgs/C4.jpg   \n",
       "\n",
       "                                                caps  \\\n",
       "0   Beer Bottle Mock-Up - Three Bottles. Blank Label   \n",
       "1  Two People Relating without a Higher Purpose C...   \n",
       "2         Two bull moose in forest Stock Photography   \n",
       "3  picture of flipper  - Rear view of two beautif...   \n",
       "4    Quadro Nude portrait of two sensual young girls   \n",
       "\n",
       "                                                urls  counts  \n",
       "0  https://as1.ftcdn.net/jpg/01/26/28/66/220_F_12...       3  \n",
       "1  http://images.slideplayer.com/14/4200833/slide...       2  \n",
       "2  https://thumbs.dreamstime.com/t/two-bull-moose...       2  \n",
       "3  https://static6.bigstockphoto.com/thumbs/7/5/4...       2  \n",
       "4  https://t2.ftcdn.net/jpg/00/13/08/65/110_F_130...       2  "
      ]
     },
     "execution_count": 30,
     "metadata": {},
     "output_type": "execute_result"
    }
   ],
   "source": [
    "c_df = pd.read_csv('counting.csv',index_col=False)\n",
    "\n",
    "len(c_df)\n",
    "c_df = c_df.drop(c_df.columns[0],axis=1)\n",
    "c_df[0:5]\n"
   ]
  },
  {
   "cell_type": "code",
   "execution_count": 35,
   "metadata": {},
   "outputs": [],
   "source": [
    "# c_df.cast = c_df.cast.apply(json.loads)\n",
    "c_df.to_json('counting.json', orient='records', lines=True)"
   ]
  }
 ],
 "metadata": {
  "kernelspec": {
   "display_name": "Python 3",
   "language": "python",
   "name": "python3"
  },
  "language_info": {
   "codemirror_mode": {
    "name": "ipython",
    "version": 3
   },
   "file_extension": ".py",
   "mimetype": "text/x-python",
   "name": "python",
   "nbconvert_exporter": "python",
   "pygments_lexer": "ipython3",
   "version": "3.11.2"
  }
 },
 "nbformat": 4,
 "nbformat_minor": 2
}
