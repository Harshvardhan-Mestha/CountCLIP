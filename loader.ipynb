{
 "cells": [
  {
   "cell_type": "code",
   "execution_count": 1,
   "metadata": {},
   "outputs": [],
   "source": [
    "import json\n",
    "import pandas as pd\n",
    "import numpy as np\n",
    "import pyarrow\n",
    "import urllib3\n",
    "from tqdm import trange\n",
    "import os\n",
    "from ping3 import ping, verbose_ping\n"
   ]
  },
  {
   "cell_type": "code",
   "execution_count": 2,
   "metadata": {},
   "outputs": [
    {
     "name": "stdout",
     "output_type": "stream",
     "text": [
      "(540, 4)\n"
     ]
    }
   ],
   "source": [
    "metadata = pd.read_parquet(\"train.parquet\")\n",
    "\n",
    "print(metadata.shape)"
   ]
  },
  {
   "cell_type": "code",
   "execution_count": 3,
   "metadata": {},
   "outputs": [
    {
     "data": {
      "text/plain": [
       "Index(['image_url', 'text', 'number', 'image'], dtype='object')"
      ]
     },
     "execution_count": 3,
     "metadata": {},
     "output_type": "execute_result"
    }
   ],
   "source": [
    "metadata.columns"
   ]
  },
  {
   "cell_type": "code",
   "execution_count": 4,
   "metadata": {},
   "outputs": [],
   "source": [
    "metadata = metadata[0:100]"
   ]
  },
  {
   "cell_type": "code",
   "execution_count": 5,
   "metadata": {},
   "outputs": [],
   "source": [
    "from icmplib import ping\n",
    "from icmplib.exceptions import NameLookupError\n",
    "\n",
    "\n",
    "def host_up(hostname: str):\n",
    "    try:\n",
    "        host = ping(hostname, count=5, interval=0.2, timeout=1, privileged=False)\n",
    "    except NameLookupError:\n",
    "        return False\n",
    "    return host.packets_sent == host.packets_received"
   ]
  },
  {
   "cell_type": "code",
   "execution_count": 6,
   "metadata": {},
   "outputs": [],
   "source": [
    "import requests\n",
    "\n",
    "def is_url_image(image_url):\n",
    "   image_formats = (\"image/png\", \"image/jpeg\", \"image/jpg\")\n",
    "   try:\n",
    "      r = requests.head(image_url)\n",
    "   except:\n",
    "      return False\n",
    "   try:\n",
    "      if r.headers[\"content-type\"] in image_formats:\n",
    "         return True\n",
    "   except:\n",
    "         return True\n",
    "      \n",
    "   return False"
   ]
  },
  {
   "cell_type": "code",
   "execution_count": 7,
   "metadata": {},
   "outputs": [
    {
     "data": {
      "text/plain": [
       "'http://www.wirerealm.com/wp-content/uploads/2015/08/top-10-best-gaming-headsets-1024x448.jpg'"
      ]
     },
     "execution_count": 7,
     "metadata": {},
     "output_type": "execute_result"
    }
   ],
   "source": [
    "metadata.iloc[0][\"image_url\"]"
   ]
  },
  {
   "cell_type": "code",
   "execution_count": 8,
   "metadata": {},
   "outputs": [],
   "source": [
    "from concurrent.futures import as_completed\n",
    "from requests_futures.sessions import FuturesSession"
   ]
  },
  {
   "cell_type": "code",
   "execution_count": 11,
   "metadata": {},
   "outputs": [
    {
     "name": "stdout",
     "output_type": "stream",
     "text": [
      "['http://www.wirerealm.com/wp-content/uploads/2015/08/top-10-best-gaming-headsets-1024x448.jpg', 'https://wmich.edu/sites/default/files/styles/720p_anamorphic/public/images/u1297/2019/lightbulb3_0.jpg?itok=9fGHQTIR&timestamp=1565960849', 'http://img0.etsystatic.com/000/0/5304297/il_fullxfull.191730668.jpg', 'https://cdn.vectorstock.com/i/thumb-large/74/37/4657437.jpg', 'https://laurelleaffarm.com/item-photos/vintage-silver-plate-tablespoons-serving-spoon-set-of-six-1847-Rogers-Ambassador-pattern-Laurel-Leaf-Farm-item-no-pw515216-1.jpg']\n",
      "['We review the ten best gaming headsets in the market', 'background photo of three light bulbs', 'City prints: Set of three big prints - $150.00 USD', 'Set of eight arrows in all directions vector', 'vintage silver plate tablespoons, serving spoon set of six 1847 Rogers pattern']\n"
     ]
    },
    {
     "name": "stderr",
     "output_type": "stream",
     "text": [
      "100%|██████████| 100/100 [03:22<00:00,  2.02s/it]\n"
     ]
    }
   ],
   "source": [
    "## run docker img with foll command (docker run --rm -it -p 8080:8080 imadelh/opencv_tf:full) and then run \n",
    "urls = list(metadata[\"image_url\"])\n",
    "caps = list(metadata[\"text\"])\n",
    "test = \"https://cdn.xxl.thumbs.canstockphoto.com/canstock13378645.jpg\"\n",
    "print(urls[0:5])\n",
    "print(caps[0:5])\n",
    "\n",
    "http = urllib3.PoolManager(num_pools=8)\n",
    "# print(requests.head(\"https://hds\"))\n",
    "# resp = http.request(\"GET\", f\"http://0.0.0.0:8080/predict/v1?model=yolo&image_url=\"+str(\"https://cdn.xxl.thumbs.canstockphoto.com/canstock13378645.jpg\"))\n",
    "# # print(json.loads(str(resp.data.decode('utf-8'))))\n",
    "# x = json.loads(str(resp.data.decode('utf-8')))\n",
    "# print(x)\n",
    "# print(len(json.loads(str(x))))\n",
    "l = list()\n",
    "\n",
    "\n",
    "for i in trange(100):\n",
    "   \n",
    "    if is_url_image(urls[i]):\n",
    "        try:\n",
    "            resp = http.request(\"GET\", f\"http://0.0.0.0:8080/predict/v1?model=yolo&image_url=\"+str(urls[i]))\n",
    "        except:\n",
    "            resp = 'b[]\\n'\n",
    "        # print(json.loads(str(resp.data.decode('utf-8'))))\n",
    "        try:\n",
    "            x = json.loads(str(resp.data.decode('utf-8')))\n",
    "        except:\n",
    "            x = []\n",
    "        l.append((x,urls[i],caps[i]))\n",
    "    else:\n",
    "        x = []\n",
    "        l.append((x,urls[i],caps[i]))\n"
   ]
  },
  {
   "cell_type": "code",
   "execution_count": 3,
   "metadata": {},
   "outputs": [
    {
     "name": "stdout",
     "output_type": "stream",
     "text": [
      "b'<!doctype html>\\n<html>\\n<head>\\n    <title>Example Domain</title>\\n\\n    <meta charset=\"utf-8\" />\\n    <meta http-equiv=\"Content-type\" content=\"text/html; charset=utf-8\" />\\n    <meta name=\"viewport\" content=\"width=device-width, initial-scale=1\" />\\n    <style type=\"text/css\">\\n    body {\\n        background-color: #f0f0f2;\\n        margin: 0;\\n        padding: 0;\\n        font-family: -apple-system, system-ui, BlinkMacSystemFont, \"Segoe UI\", \"Open Sans\", \"Helvetica Neue\", Helvetica, Arial, sans-serif;\\n        \\n    }\\n    div {\\n        width: 600px;\\n        margin: 5em auto;\\n        padding: 2em;\\n        background-color: #fdfdff;\\n        border-radius: 0.5em;\\n        box-shadow: 2px 3px 7px 2px rgba(0,0,0,0.02);\\n    }\\n    a:link, a:visited {\\n        color: #38488f;\\n        text-decoration: none;\\n    }\\n    @media (max-width: 700px) {\\n        div {\\n            margin: 0 auto;\\n            width: auto;\\n        }\\n    }\\n    </style>    \\n</head>\\n\\n<body>\\n<div>\\n    <h1>Example Domain</h1>\\n    <p>This domain is for use in illustrative examples in documents. You may use this\\n    domain in literature without prior coordination or asking for permission.</p>\\n    <p><a href=\"https://www.iana.org/domains/example\">More information...</a></p>\\n</div>\\n</body>\\n</html>\\n'\n",
      "b'<!doctype html>\\n<html>\\n<head>\\n    <title>Example Domain</title>\\n\\n    <meta charset=\"utf-8\" />\\n    <meta http-equiv=\"Content-type\" content=\"text/html; charset=utf-8\" />\\n    <meta name=\"viewport\" content=\"width=device-width, initial-scale=1\" />\\n    <style type=\"text/css\">\\n    body {\\n        background-color: #f0f0f2;\\n        margin: 0;\\n        padding: 0;\\n        font-family: -apple-system, system-ui, BlinkMacSystemFont, \"Segoe UI\", \"Open Sans\", \"Helvetica Neue\", Helvetica, Arial, sans-serif;\\n        \\n    }\\n    div {\\n        width: 600px;\\n        margin: 5em auto;\\n        padding: 2em;\\n        background-color: #fdfdff;\\n        border-radius: 0.5em;\\n        box-shadow: 2px 3px 7px 2px rgba(0,0,0,0.02);\\n    }\\n    a:link, a:visited {\\n        color: #38488f;\\n        text-decoration: none;\\n    }\\n    @media (max-width: 700px) {\\n        div {\\n            margin: 0 auto;\\n            width: auto;\\n        }\\n    }\\n    </style>    \\n</head>\\n\\n<body>\\n<div>\\n    <h1>Example Domain</h1>\\n    <p>This domain is for use in illustrative examples in documents. You may use this\\n    domain in literature without prior coordination or asking for permission.</p>\\n    <p><a href=\"https://www.iana.org/domains/example\">More information...</a></p>\\n</div>\\n</body>\\n</html>\\n'\n",
      "b'<!doctype html>\\n<html>\\n<head>\\n    <title>Example Domain</title>\\n\\n    <meta charset=\"utf-8\" />\\n    <meta http-equiv=\"Content-type\" content=\"text/html; charset=utf-8\" />\\n    <meta name=\"viewport\" content=\"width=device-width, initial-scale=1\" />\\n    <style type=\"text/css\">\\n    body {\\n        background-color: #f0f0f2;\\n        margin: 0;\\n        padding: 0;\\n        font-family: -apple-system, system-ui, BlinkMacSystemFont, \"Segoe UI\", \"Open Sans\", \"Helvetica Neue\", Helvetica, Arial, sans-serif;\\n        \\n    }\\n    div {\\n        width: 600px;\\n        margin: 5em auto;\\n        padding: 2em;\\n        background-color: #fdfdff;\\n        border-radius: 0.5em;\\n        box-shadow: 2px 3px 7px 2px rgba(0,0,0,0.02);\\n    }\\n    a:link, a:visited {\\n        color: #38488f;\\n        text-decoration: none;\\n    }\\n    @media (max-width: 700px) {\\n        div {\\n            margin: 0 auto;\\n            width: auto;\\n        }\\n    }\\n    </style>    \\n</head>\\n\\n<body>\\n<div>\\n    <h1>Example Domain</h1>\\n    <p>This domain is for use in illustrative examples in documents. You may use this\\n    domain in literature without prior coordination or asking for permission.</p>\\n    <p><a href=\"https://www.iana.org/domains/example\">More information...</a></p>\\n</div>\\n</body>\\n</html>\\n'\n",
      "b'<!doctype html>\\n<html>\\n<head>\\n    <title>Example Domain</title>\\n\\n    <meta charset=\"utf-8\" />\\n    <meta http-equiv=\"Content-type\" content=\"text/html; charset=utf-8\" />\\n    <meta name=\"viewport\" content=\"width=device-width, initial-scale=1\" />\\n    <style type=\"text/css\">\\n    body {\\n        background-color: #f0f0f2;\\n        margin: 0;\\n        padding: 0;\\n        font-family: -apple-system, system-ui, BlinkMacSystemFont, \"Segoe UI\", \"Open Sans\", \"Helvetica Neue\", Helvetica, Arial, sans-serif;\\n        \\n    }\\n    div {\\n        width: 600px;\\n        margin: 5em auto;\\n        padding: 2em;\\n        background-color: #fdfdff;\\n        border-radius: 0.5em;\\n        box-shadow: 2px 3px 7px 2px rgba(0,0,0,0.02);\\n    }\\n    a:link, a:visited {\\n        color: #38488f;\\n        text-decoration: none;\\n    }\\n    @media (max-width: 700px) {\\n        div {\\n            margin: 0 auto;\\n            width: auto;\\n        }\\n    }\\n    </style>    \\n</head>\\n\\n<body>\\n<div>\\n    <h1>Example Domain</h1>\\n    <p>This domain is for use in illustrative examples in documents. You may use this\\n    domain in literature without prior coordination or asking for permission.</p>\\n    <p><a href=\"https://www.iana.org/domains/example\">More information...</a></p>\\n</div>\\n</body>\\n</html>\\n'\n",
      "b'<!doctype html>\\n<html>\\n<head>\\n    <title>Example Domain</title>\\n\\n    <meta charset=\"utf-8\" />\\n    <meta http-equiv=\"Content-type\" content=\"text/html; charset=utf-8\" />\\n    <meta name=\"viewport\" content=\"width=device-width, initial-scale=1\" />\\n    <style type=\"text/css\">\\n    body {\\n        background-color: #f0f0f2;\\n        margin: 0;\\n        padding: 0;\\n        font-family: -apple-system, system-ui, BlinkMacSystemFont, \"Segoe UI\", \"Open Sans\", \"Helvetica Neue\", Helvetica, Arial, sans-serif;\\n        \\n    }\\n    div {\\n        width: 600px;\\n        margin: 5em auto;\\n        padding: 2em;\\n        background-color: #fdfdff;\\n        border-radius: 0.5em;\\n        box-shadow: 2px 3px 7px 2px rgba(0,0,0,0.02);\\n    }\\n    a:link, a:visited {\\n        color: #38488f;\\n        text-decoration: none;\\n    }\\n    @media (max-width: 700px) {\\n        div {\\n            margin: 0 auto;\\n            width: auto;\\n        }\\n    }\\n    </style>    \\n</head>\\n\\n<body>\\n<div>\\n    <h1>Example Domain</h1>\\n    <p>This domain is for use in illustrative examples in documents. You may use this\\n    domain in literature without prior coordination or asking for permission.</p>\\n    <p><a href=\"https://www.iana.org/domains/example\">More information...</a></p>\\n</div>\\n</body>\\n</html>\\n'\n",
      "b'<!doctype html>\\n<html>\\n<head>\\n    <title>Example Domain</title>\\n\\n    <meta charset=\"utf-8\" />\\n    <meta http-equiv=\"Content-type\" content=\"text/html; charset=utf-8\" />\\n    <meta name=\"viewport\" content=\"width=device-width, initial-scale=1\" />\\n    <style type=\"text/css\">\\n    body {\\n        background-color: #f0f0f2;\\n        margin: 0;\\n        padding: 0;\\n        font-family: -apple-system, system-ui, BlinkMacSystemFont, \"Segoe UI\", \"Open Sans\", \"Helvetica Neue\", Helvetica, Arial, sans-serif;\\n        \\n    }\\n    div {\\n        width: 600px;\\n        margin: 5em auto;\\n        padding: 2em;\\n        background-color: #fdfdff;\\n        border-radius: 0.5em;\\n        box-shadow: 2px 3px 7px 2px rgba(0,0,0,0.02);\\n    }\\n    a:link, a:visited {\\n        color: #38488f;\\n        text-decoration: none;\\n    }\\n    @media (max-width: 700px) {\\n        div {\\n            margin: 0 auto;\\n            width: auto;\\n        }\\n    }\\n    </style>    \\n</head>\\n\\n<body>\\n<div>\\n    <h1>Example Domain</h1>\\n    <p>This domain is for use in illustrative examples in documents. You may use this\\n    domain in literature without prior coordination or asking for permission.</p>\\n    <p><a href=\"https://www.iana.org/domains/example\">More information...</a></p>\\n</div>\\n</body>\\n</html>\\n'\n",
      "b'<!doctype html>\\n<html>\\n<head>\\n    <title>Example Domain</title>\\n\\n    <meta charset=\"utf-8\" />\\n    <meta http-equiv=\"Content-type\" content=\"text/html; charset=utf-8\" />\\n    <meta name=\"viewport\" content=\"width=device-width, initial-scale=1\" />\\n    <style type=\"text/css\">\\n    body {\\n        background-color: #f0f0f2;\\n        margin: 0;\\n        padding: 0;\\n        font-family: -apple-system, system-ui, BlinkMacSystemFont, \"Segoe UI\", \"Open Sans\", \"Helvetica Neue\", Helvetica, Arial, sans-serif;\\n        \\n    }\\n    div {\\n        width: 600px;\\n        margin: 5em auto;\\n        padding: 2em;\\n        background-color: #fdfdff;\\n        border-radius: 0.5em;\\n        box-shadow: 2px 3px 7px 2px rgba(0,0,0,0.02);\\n    }\\n    a:link, a:visited {\\n        color: #38488f;\\n        text-decoration: none;\\n    }\\n    @media (max-width: 700px) {\\n        div {\\n            margin: 0 auto;\\n            width: auto;\\n        }\\n    }\\n    </style>    \\n</head>\\n\\n<body>\\n<div>\\n    <h1>Example Domain</h1>\\n    <p>This domain is for use in illustrative examples in documents. You may use this\\n    domain in literature without prior coordination or asking for permission.</p>\\n    <p><a href=\"https://www.iana.org/domains/example\">More information...</a></p>\\n</div>\\n</body>\\n</html>\\n'\n",
      "b'<!doctype html>\\n<html>\\n<head>\\n    <title>Example Domain</title>\\n\\n    <meta charset=\"utf-8\" />\\n    <meta http-equiv=\"Content-type\" content=\"text/html; charset=utf-8\" />\\n    <meta name=\"viewport\" content=\"width=device-width, initial-scale=1\" />\\n    <style type=\"text/css\">\\n    body {\\n        background-color: #f0f0f2;\\n        margin: 0;\\n        padding: 0;\\n        font-family: -apple-system, system-ui, BlinkMacSystemFont, \"Segoe UI\", \"Open Sans\", \"Helvetica Neue\", Helvetica, Arial, sans-serif;\\n        \\n    }\\n    div {\\n        width: 600px;\\n        margin: 5em auto;\\n        padding: 2em;\\n        background-color: #fdfdff;\\n        border-radius: 0.5em;\\n        box-shadow: 2px 3px 7px 2px rgba(0,0,0,0.02);\\n    }\\n    a:link, a:visited {\\n        color: #38488f;\\n        text-decoration: none;\\n    }\\n    @media (max-width: 700px) {\\n        div {\\n            margin: 0 auto;\\n            width: auto;\\n        }\\n    }\\n    </style>    \\n</head>\\n\\n<body>\\n<div>\\n    <h1>Example Domain</h1>\\n    <p>This domain is for use in illustrative examples in documents. You may use this\\n    domain in literature without prior coordination or asking for permission.</p>\\n    <p><a href=\"https://www.iana.org/domains/example\">More information...</a></p>\\n</div>\\n</body>\\n</html>\\n'\n",
      "b'<!doctype html>\\n<html>\\n<head>\\n    <title>Example Domain</title>\\n\\n    <meta charset=\"utf-8\" />\\n    <meta http-equiv=\"Content-type\" content=\"text/html; charset=utf-8\" />\\n    <meta name=\"viewport\" content=\"width=device-width, initial-scale=1\" />\\n    <style type=\"text/css\">\\n    body {\\n        background-color: #f0f0f2;\\n        margin: 0;\\n        padding: 0;\\n        font-family: -apple-system, system-ui, BlinkMacSystemFont, \"Segoe UI\", \"Open Sans\", \"Helvetica Neue\", Helvetica, Arial, sans-serif;\\n        \\n    }\\n    div {\\n        width: 600px;\\n        margin: 5em auto;\\n        padding: 2em;\\n        background-color: #fdfdff;\\n        border-radius: 0.5em;\\n        box-shadow: 2px 3px 7px 2px rgba(0,0,0,0.02);\\n    }\\n    a:link, a:visited {\\n        color: #38488f;\\n        text-decoration: none;\\n    }\\n    @media (max-width: 700px) {\\n        div {\\n            margin: 0 auto;\\n            width: auto;\\n        }\\n    }\\n    </style>    \\n</head>\\n\\n<body>\\n<div>\\n    <h1>Example Domain</h1>\\n    <p>This domain is for use in illustrative examples in documents. You may use this\\n    domain in literature without prior coordination or asking for permission.</p>\\n    <p><a href=\"https://www.iana.org/domains/example\">More information...</a></p>\\n</div>\\n</body>\\n</html>\\n'\n",
      "b'<!doctype html>\\n<html>\\n<head>\\n    <title>Example Domain</title>\\n\\n    <meta charset=\"utf-8\" />\\n    <meta http-equiv=\"Content-type\" content=\"text/html; charset=utf-8\" />\\n    <meta name=\"viewport\" content=\"width=device-width, initial-scale=1\" />\\n    <style type=\"text/css\">\\n    body {\\n        background-color: #f0f0f2;\\n        margin: 0;\\n        padding: 0;\\n        font-family: -apple-system, system-ui, BlinkMacSystemFont, \"Segoe UI\", \"Open Sans\", \"Helvetica Neue\", Helvetica, Arial, sans-serif;\\n        \\n    }\\n    div {\\n        width: 600px;\\n        margin: 5em auto;\\n        padding: 2em;\\n        background-color: #fdfdff;\\n        border-radius: 0.5em;\\n        box-shadow: 2px 3px 7px 2px rgba(0,0,0,0.02);\\n    }\\n    a:link, a:visited {\\n        color: #38488f;\\n        text-decoration: none;\\n    }\\n    @media (max-width: 700px) {\\n        div {\\n            margin: 0 auto;\\n            width: auto;\\n        }\\n    }\\n    </style>    \\n</head>\\n\\n<body>\\n<div>\\n    <h1>Example Domain</h1>\\n    <p>This domain is for use in illustrative examples in documents. You may use this\\n    domain in literature without prior coordination or asking for permission.</p>\\n    <p><a href=\"https://www.iana.org/domains/example\">More information...</a></p>\\n</div>\\n</body>\\n</html>\\n'\n"
     ]
    }
   ],
   "source": [
    "# rewrite the above code cell using parallelization and sessions\n",
    "\n",
    "valid_urls = [i for i in range(100) if is_url_image(urls[i])]\n",
    "with FuturesSession() as session:\n",
    "    futures = [session.get(f\"http://0.0.0.0:8080/predict/v1?model=yolo&image_url=\" + str(urls[el])) for el in valid_urls]\n",
    "    for future in as_completed(futures):\n",
    "        response = future.result()\n",
    "        print(response.content.decode('utf-8'))\n",
    "        answers[valid_urls[futures.index(future)]] = json.loads(response.content.decode('utf-8'))\n",
    "\n",
    "with FuturesSession() as session:\n",
    "    futures = [session.get(\"https://www.example.com\") for _ in range(10)]\n",
    "    for future in as_completed(futures):\n",
    "        response = future.result()\n",
    "        print(response.content)"
   ]
  },
  {
   "cell_type": "code",
   "execution_count": null,
   "metadata": {},
   "outputs": [],
   "source": []
  },
  {
   "cell_type": "code",
   "execution_count": 10,
   "metadata": {},
   "outputs": [
    {
     "name": "stdout",
     "output_type": "stream",
     "text": [
      "[([{'bbox': [834.0, 238.0, 116, 200], 'confidence': 0.7781149744987488, 'label': 'scissors'}, {'bbox': [622.5, 236.5, 135, 199], 'confidence': 0.5551069378852844, 'label': 'scissors'}], 'http://www.wirerealm.com/wp-content/uploads/2015/08/top-10-best-gaming-headsets-1024x448.jpg', 'We review the ten best gaming headsets in the market'), ([], 'https://wmich.edu/sites/default/files/styles/720p_anamorphic/public/images/u1297/2019/lightbulb3_0.jpg?itok=9fGHQTIR&timestamp=1565960849', 'background photo of three light bulbs'), ([], 'http://img0.etsystatic.com/000/0/5304297/il_fullxfull.191730668.jpg', 'City prints: Set of three big prints - $150.00 USD'), ([], 'https://cdn.vectorstock.com/i/thumb-large/74/37/4657437.jpg', 'Set of eight arrows in all directions vector'), ([{'bbox': [483.5, 42.5, 129, 357], 'confidence': 0.9954971075057983, 'label': 'spoon'}, {'bbox': [28.0, 22.0, 68, 334], 'confidence': 0.9940283298492432, 'label': 'spoon'}, {'bbox': [313.5, 85.5, 77, 273], 'confidence': 0.9833086133003235, 'label': 'spoon'}, {'bbox': [134.0, 14.5, 62, 353], 'confidence': 0.97897869348526, 'label': 'spoon'}, {'bbox': [224.5, 48.5, 63, 313], 'confidence': 0.9684043526649475, 'label': 'spoon'}, {'bbox': [394.0, 65.5, 116, 347], 'confidence': 0.9588570594787598, 'label': 'spoon'}], 'https://laurelleaffarm.com/item-photos/vintage-silver-plate-tablespoons-serving-spoon-set-of-six-1847-Rogers-Ambassador-pattern-Laurel-Leaf-Farm-item-no-pw515216-1.jpg', 'vintage silver plate tablespoons, serving spoon set of six 1847 Rogers pattern'), ([{'bbox': [244.0, 75.5, 150, 225], 'confidence': 0.9974293112754822, 'label': 'person'}, {'bbox': [76.5, 16.0, 161, 282], 'confidence': 0.9960978627204895, 'label': 'person'}], 'https://us.123rf.com/450wm/pingpao/pingpao1505/pingpao150500257/40608684-vintage-color-filltered-of-two-cute-little-girls-having-fun-blowing-bubbles-on-beach-in-summer-time.jpg?ver=6', 'kids playing beach: Vintage color filltered of two cute little girls having fun blowing bubbles on beach in summer time Stock Photo'), ([{'bbox': [111.5, 127.0, 99, 108], 'confidence': 0.9852320551872253, 'label': 'bird'}, {'bbox': [4.5, 9.0, 101, 106], 'confidence': 0.9846087694168091, 'label': 'bird'}, {'bbox': [109.5, 11.0, 99, 104], 'confidence': 0.982704222202301, 'label': 'bird'}, {'bbox': [17.5, 135.5, 83, 101], 'confidence': 0.9765525460243225, 'label': 'bird'}], 'https://cdn.xxl.thumbs.canstockphoto.com/canstock13378645.jpg', 'Four colorful parrots - Illustration of the four colorful...'), ([], 'https://natashalh.com/wp-content/uploads/2021/05/free-fourth-of-july-dauber-marker-printables-1024x683.webp', 'A preview of seven printable dot marker coloring pages. Each page has a large 4th of July themed image with dots to color in with a dauber style marker.'), ([], 'https://static1.bigstockphoto.com/thumbs/2/2/1/large2/122733089.jpg', 'Single green plastic food container isolated over the white background, set collection of four different foreshortenings'), ([], 'https://cdn3.volusion.com/lkzsf.javck/v/vspfiles/photos/HTH11-2T.jpg?1485341377', 'Image of the nine bird and birdhouse patterns, wrapped on blocks instead of joined to make a full quilt. However, this product does come with the pieced quilt pattern.'), ([{'bbox': [9.0, 127.5, 228, 91], 'confidence': 0.9729845523834229, 'label': 'sofa'}, {'bbox': [12.5, 14.0, 215, 78], 'confidence': 0.9533234238624573, 'label': 'sofa'}], 'http://debenhams.scene7.com/is/image/Debenhams/322001960603_8453053?$PSPNew$', \"RJR.John - Set of two 2 seater flat weave fabric 'Ravello' sofas\"), ([], 'https://thumb7.shutterstock.com/image-photo/stock-photo-three-fresh-pure-white-waterlilies-floating-on-clear-blue-water-450w-4210918.jpg', 'three fresh pure white waterlilies floating on clear blue water - stock photo'), ([{'bbox': [12.0, 764.0, 358, 632], 'confidence': 0.9936456680297852, 'label': 'chair'}, {'bbox': [16.0, 87.0, 364, 628], 'confidence': 0.9377703070640564, 'label': 'chair'}, {'bbox': [1136.5, 81.5, 357, 627], 'confidence': 0.8412590026855469, 'label': 'chair'}, {'bbox': [1148.5, 725.0, 331, 690], 'confidence': 0.8358213305473328, 'label': 'chair'}, {'bbox': [424.5, 728.0, 359, 682], 'confidence': 0.604015052318573, 'label': 'chair'}, {'bbox': [811.5, 767.0, 275, 594], 'confidence': 0.5573676228523254, 'label': 'chair'}], 'https://a.1stdibscdn.com/archivesE/upload/1121189/f_49689231466768205175/4968923_z.jpg', 'Set of eight walnut queen anne dining chairs for sale at for Dining room chairs queen anne'), ([], 'https://images.squarespace-cdn.com/content/5314ba68e4b0e179eb021606/1433980025405-YL4UJVMLNZJH7PSGIRTI/BNOW_Merced_06Web.jpg?format=1000w&content-type=image%2Fjpeg', 'A Barn Owl laid eight eggs in this box - the center one is hatching!'), ([{'bbox': [336.5, 114.0, 35, 116], 'confidence': 0.9995129108428955, 'label': 'person'}, {'bbox': [380.5, 114.5, 47, 117], 'confidence': 0.9990834593772888, 'label': 'person'}, {'bbox': [159.0, 105.5, 44, 115], 'confidence': 0.998914897441864, 'label': 'person'}, {'bbox': [57.0, 104.0, 46, 112], 'confidence': 0.9987664818763733, 'label': 'person'}, {'bbox': [280.5, 107.0, 39, 124], 'confidence': 0.9974545836448669, 'label': 'person'}, {'bbox': [101.5, 106.0, 45, 112], 'confidence': 0.9971551895141602, 'label': 'person'}, {'bbox': [428.0, 101.5, 44, 135], 'confidence': 0.997123658657074, 'label': 'person'}, {'bbox': [10.5, 108.0, 57, 110], 'confidence': 0.9958945512771606, 'label': 'person'}, {'bbox': [226.5, 106.0, 35, 116], 'confidence': 0.9867058396339417, 'label': 'person'}], 'http://i.ytimg.com/vi/2B0D0ExHfXg/0.jpg', 'Watch nine golfers sink putts into same hole'), ([{'bbox': [229.0, 38.0, 220, 444], 'confidence': 0.9538480639457703, 'label': 'person'}, {'bbox': [0.0, 27.0, 224, 450], 'confidence': 0.8240406513214111, 'label': 'person'}], 'https://res.feednews.com/assets/v2/536dca7257b33910b981543fba650a97?width=450&height=336&quality=hq&category=ng_News_Sports.Soccer', 'The clash of two giants in serie-A'), ([], 'https://www.hellomagazine.com/imagenes/royalty/2013050112369/queen-maxima-inauguration-outfits/0-63-223/maxima--d.jpg', \"A look at style queen Maxima's four inauguration outfits\"), ([{'bbox': [40.0, 76.0, 98, 152], 'confidence': 0.6286501288414001, 'label': 'dog'}], 'https://rlv.zcache.com.au/three_little_pigs_cute_pig_three_pigs_paper_plate-reb413c8afc9145078baa3c7fb37fe1bf_z6cf8_324.jpg?rlvnet=1', 'Three little pigs - cute pig - three pigs paper plate'), ([{'bbox': [123.0, 346.0, 388, 236], 'confidence': 0.9997586607933044, 'label': 'car'}, {'bbox': [765.0, 353.5, 366, 223], 'confidence': 0.9906473755836487, 'label': 'car'}, {'bbox': [74.0, 319.5, 228, 89], 'confidence': 0.9898213148117065, 'label': 'car'}, {'bbox': [447.0, 381.5, 386, 349], 'confidence': 0.9552817344665527, 'label': 'car'}, {'bbox': [958.5, 322.0, 243, 98], 'confidence': 0.8361942768096924, 'label': 'car'}], 'https://64.media.tumblr.com/tumblr_md8tsoCrbZ1qeuo6vo1_1280.jpg', '\"gabeturbo: Kia\\'s Justice League of Superhero Cars: We Can Be Heroes  The five DC Comic-themed tuned cars are: the\\xa0Flash Forte Koup, Aquaman Rio 5-door, Cyborg Forte 5-door, Green Lantern Soul and the previously unveiled\\xa0Batman Optima. The Justice League models were created to support \"\"We Can Be Heroes\"\", which is DC Entertainment\\'s charity designed to raise awareness and funds to fight the hunger crisis in the Horn of Africa.  (vía Carscoop)\"'), ([{'bbox': [15.0, 25.0, 422, 398], 'confidence': 0.7154484391212463, 'label': 'cake'}], 'https://us.123rf.com/450wm/elenaphotos21/elenaphotos211403/elenaphotos21140300021/26392942-set-of-colorful-nine-aum-in-white-background.jpg', 'Set of colorful nine aum in white background photo'), ([{'bbox': [247.0, 21.0, 156, 334], 'confidence': 0.9985350966453552, 'label': 'person'}, {'bbox': [449.0, 14.0, 164, 338], 'confidence': 0.997336745262146, 'label': 'person'}, {'bbox': [24.5, 8.5, 169, 349], 'confidence': 0.9960002303123474, 'label': 'person'}], 'https://i.dailymail.co.uk/i/pix/2012/12/26/article-2253522-167B93E1000005DC-243_634x358.jpg', 'Heroes: Stanley (centre), William (left) and Lorne (right) at Buckingham Palace. All three won VCs'), ([{'bbox': [110.0, 367.5, 454, 555], 'confidence': 0.9987617135047913, 'label': 'chair'}, {'bbox': [763.0, 454.0, 498, 574], 'confidence': 0.9978777170181274, 'label': 'chair'}, {'bbox': [760.5, 245.5, 309, 371], 'confidence': 0.9685064554214478, 'label': 'chair'}, {'bbox': [284.5, 268.0, 675, 602], 'confidence': 0.9020925760269165, 'label': 'diningtable'}, {'bbox': [29.0, 352.5, 162, 407], 'confidence': 0.7848749160766602, 'label': 'chair'}], 'https://i0.wp.com/a.1stdibscdn.com/archivesE/upload/8837/17_15/2131452/2131452_l.jpeg?strip=all', 'dining table set 6 chairs leander high chair with three extension leaves and six matching'), ([{'bbox': [305.0, 21.5, 120, 119], 'confidence': 0.9334865212440491, 'label': 'frisbee'}, {'bbox': [164.5, 21.0, 115, 118], 'confidence': 0.7350683212280273, 'label': 'frisbee'}], 'https://us.123rf.com/450wm/logvinyk/logvinyk1610/logvinyk161010713/65123679-scanned-finger-icon-sign-symbol-on-nine-round-colourful-buttons-vector-illustration.jpg?ver=6', 'biometric: Scanned finger Icon sign. symbol on nine round colourful buttons. Vector illustration Illustration'), ([{'bbox': [543.5, 392.0, 3907, 3388], 'confidence': 0.5417904257774353, 'label': 'scissors'}, {'bbox': [1321.0, 490.5, 4414, 1239], 'confidence': 0.5037440657615662, 'label': 'knife'}], 'https://images.unsplash.com/photo-1564518440696-ef272968778e?ixlib=rb-1.2.1&q=80&fm=jpg&crop=entropy&cs=tinysrgb&w=400&fit=max&ixid=eyJhcHBfaWQiOjE4MjY3M30', 'two red pingpong rackets on white surface table tennis zoom background'), ([{'bbox': [23.0, 19.5, 552, 415], 'confidence': 0.9795766472816467, 'label': 'bowl'}, {'bbox': [615.0, 480.0, 568, 428], 'confidence': 0.9749044179916382, 'label': 'bowl'}, {'bbox': [615.5, -9.5, 555, 437], 'confidence': 0.9648348093032837, 'label': 'bowl'}, {'bbox': [0.0, 455.0, 594, 462], 'confidence': 0.9557653665542603, 'label': 'bowl'}, {'bbox': [97.5, -1.0, 155, 254], 'confidence': 0.7657049298286438, 'label': 'spoon'}], 'https://www.cookingclassy.com/wp-content/uploads/2020/04/goulash-28.jpg', 'Image showing four steps of preparing homemade goulash in a pot.'), ([{'bbox': [271.0, 405.0, 64, 56], 'confidence': 0.9181722402572632, 'label': 'cup'}, {'bbox': [346.0, 385.5, 72, 85], 'confidence': 0.6745812892913818, 'label': 'vase'}], 'https://cdn.shopify.com/s/files/1/1140/6128/products/image_ded8b007-32af-4e48-b09c-274a3c10a163_large.jpg?v=1505908370', 'A five Felt Star mini garland with one glitter star, star door hanger, grey nursery'), ([], 'http://tse2.mm.bing.net/th?id=OIP.2Bfd_b6EPJqUVPW6BCYP5gHaHa', 'lucite dining room chairs set of ten high back lucite dining chairs for sale at 1stdibs'), ([], 'https://cdn11.bigcommerce.com/s-70184/images/stencil/350x350/products/1268/2188/d10-set-opaque-black__62784.1466115554.jpg?c=2', 'd10 set of ten - Black'), ([{'bbox': [386.0, 160.0, 36, 104], 'confidence': 0.9097465872764587, 'label': 'person'}, {'bbox': [184.0, 153.5, 36, 117], 'confidence': 0.8313180804252625, 'label': 'person'}, {'bbox': [26.5, 168.5, 45, 101], 'confidence': 0.8126607537269592, 'label': 'person'}, {'bbox': [220.0, 153.5, 40, 117], 'confidence': 0.6054733991622925, 'label': 'person'}, {'bbox': [348.5, 157.5, 35, 109], 'confidence': 0.5963187217712402, 'label': 'person'}, {'bbox': [301.5, 159.5, 43, 109], 'confidence': 0.5948950052261353, 'label': 'person'}, {'bbox': [147.0, 160.0, 34, 110], 'confidence': 0.5222148895263672, 'label': 'person'}], 'https://static1.bigstockphoto.com/thumbs/2/5/1/large2/15281810.jpg', 'Silhouette of ten young women, walking hand in hand.'), ([{'bbox': [294.0, 118.5, 76, 163], 'confidence': 0.998350977897644, 'label': 'person'}, {'bbox': [76.5, 72.0, 83, 220], 'confidence': 0.9975184202194214, 'label': 'person'}, {'bbox': [187.5, 92.0, 53, 172], 'confidence': 0.9944800138473511, 'label': 'person'}, {'bbox': [154.5, 115.5, 45, 153], 'confidence': 0.9345529675483704, 'label': 'person'}, {'bbox': [236.5, 123.0, 63, 154], 'confidence': 0.8079928159713745, 'label': 'snowboard'}], 'https://thumb1.shutterstock.com/image-photo/stock-photo-group-of-five-kids-standing-outside-in-snow-with-mountain-on-background-450w-148994180.jpg', 'Group of five kids standing outside in snow with mountain on background'), ([], 'https://images.collection.cooperhewitt.org/267850_8c4dfb69858dca9f_n.jpg', 'White poster with black border. In center, two moth silhouettes, one facing up and one facing down. Both silhouettes in black with auras made of concentric layers of purple, blue, green and yellow. Across bottom, on black border in white, Japanese text.'), ([], 'http://images.crateandbarrel.com/is/image/Crate/PumpkinCandlesSet3SHF16/$web_setitem326$/160802154343/set-of-3-pumpkin-candles.jpg', \"Sculpted with the pumpkin's great grooves and bright orange color, this set of three mini pumpkin candles makes a festive accent to the fall home or table.\"), ([], 'https://49haiku.com/wp-content/uploads/2020/08/EssentialOilBlend-Complete-1-600x424.jpg', '\"The essential oil blends for all seven chakras from the chakra alignment therapy workshop, \"\"The 49 Professions of Joy,\"\" by personal trainer Jack.\"'), ([], 'https://us.123rf.com/450wm/casejustin/casejustin1810/casejustin181000001/109249303-.jpg?ver=6', 'Journal Stencils, Collection of ten stencils to create text, art and graphics for journals, travel books, bullet journals, day books, diary: alphabet, numbers, shapes, emojis, word bubbles, badges, pennants and weather icons.'), ([], 'https://img.freepik.com/free-vector/infographic-template-five-steps_1017-4934.jpg?size=338&ext=jpg', 'Infographic template of five steps'), ([{'bbox': [137.5, 196.5, 99, 201], 'confidence': 0.9982731938362122, 'label': 'person'}, {'bbox': [199.5, 33.0, 129, 220], 'confidence': 0.9975402355194092, 'label': 'person'}, {'bbox': [391.5, 55.0, 25, 22], 'confidence': 0.9902461171150208, 'label': 'frisbee'}, {'bbox': [279.5, 48.0, 27, 24], 'confidence': 0.9778168797492981, 'label': 'frisbee'}, {'bbox': [256.5, 211.0, 113, 246], 'confidence': 0.94713294506073, 'label': 'person'}, {'bbox': [39.0, 15.5, 144, 181], 'confidence': 0.9150807857513428, 'label': 'person'}, {'bbox': [341.0, 200.5, 24, 23], 'confidence': 0.7480551600456238, 'label': 'sports ball'}, {'bbox': [155.0, 190.0, 28, 28], 'confidence': 0.706176221370697, 'label': 'frisbee'}, {'bbox': [371.0, 64.5, 60, 239], 'confidence': 0.5064508318901062, 'label': 'person'}], 'https://t1.ftcdn.net/jpg/00/51/31/80/400_F_51318068_qPOyEXzj24Ijj0MFSZdAHH5B7siP4OXk.jpg', 'slam dunk collection with cool six pose'), ([], 'https://us.123rf.com/450wm/rangizzz/rangizzz1112/rangizzz111200032/11557753-set-of-four-blank-vintage-photos-with-clipping-paths.jpg', 'Set of four blank vintage photos with clipping paths Stock Photo - 11557753'), ([{'bbox': [271.0, 141.0, 34, 98], 'confidence': 0.996167778968811, 'label': 'fork'}, {'bbox': [198.5, 113.0, 35, 130], 'confidence': 0.9906654357910156, 'label': 'fork'}, {'bbox': [43.0, 115.0, 36, 128], 'confidence': 0.9791410565376282, 'label': 'fork'}, {'bbox': [120.0, 87.0, 34, 150], 'confidence': 0.9727804660797119, 'label': 'fork'}, {'bbox': [23.0, 58.0, 68, 66], 'confidence': 0.5861406922340393, 'label': 'broccoli'}], 'https://cdn.xxl.thumbs.canstockphoto.com/canstock7153499.jpg', 'forks with vegetables - four forks with different types of...'), ([], 'https://cdn.vectorstock.com/i/thumb-large/18/04/6051804.jpg', 'Number zero icon sign nine original needle buttons vector'), ([], 'http://wanzke.dasbyro.de/wp-content/uploads/2016/11/IMG_9438-300x225.jpg', 'The seven bags, filled with the Frankfurt artists artworks'), ([{'bbox': [51.0, 250.5, 80, 107], 'confidence': 0.9988124370574951, 'label': 'person'}, {'bbox': [335.5, 253.5, 63, 101], 'confidence': 0.9978348612785339, 'label': 'person'}, {'bbox': [131.5, 262.0, 53, 82], 'confidence': 0.9838645458221436, 'label': 'person'}, {'bbox': [662.5, 259.5, 69, 91], 'confidence': 0.9828386306762695, 'label': 'person'}, {'bbox': [620.5, 259.0, 65, 84], 'confidence': 0.973960280418396, 'label': 'person'}, {'bbox': [393.5, 253.5, 61, 101], 'confidence': 0.968393087387085, 'label': 'person'}], 'http://3.bp.blogspot.com/_YBEtL2E8BTg/THtTHzXEYJI/AAAAAAAACqc/ynRIacBNvOI/s800/2010-08-30.jpg', 'three couples in love at marine drive in space starved mumbai by kunal photo blog'), ([{'bbox': [90.0, 39.5, 264, 253], 'confidence': 0.9998794794082642, 'label': 'person'}, {'bbox': [212.0, 193.5, 40, 105], 'confidence': 0.9920132756233215, 'label': 'tie'}], 'https://us.123rf.com/450wm/porpeller/porpeller1307/porpeller130700839/20927028-a-serious-businessman-wearing-a-suit-and-lifting-two-heavy-weight.jpg', 'a serious businessman wearing a suit and lifting two heavy weight photo'), ([{'bbox': [91.5, 59.0, 139, 232], 'confidence': 0.9989643096923828, 'label': 'person'}, {'bbox': [271.0, 32.5, 138, 269], 'confidence': 0.9981326460838318, 'label': 'person'}, {'bbox': [204.0, 57.0, 98, 236], 'confidence': 0.9759990572929382, 'label': 'person'}, {'bbox': [198.0, 195.0, 96, 100], 'confidence': 0.965353786945343, 'label': 'handbag'}], 'https://us.123rf.com/450wm/alexandralexey/alexandralexey1512/alexandralexey151200156/49696373-three-happy-girlfriends-two-blondes-and-the-brunette-in-sun-glasses-are-dressed-in-easy-summer-dress.jpg?ver=6', 'Three happy girlfriends, two blondes and the brunette, in sun glasses, are dressed in easy summer dresses, with bags in hands, go to a supermarket to do shopping, smile and pose for the photographer'), ([{'bbox': [390.0, 147.0, 286, 806], 'confidence': 0.603252112865448, 'label': 'tie'}, {'bbox': [1220.5, 157.5, 341, 705], 'confidence': 0.5261502265930176, 'label': 'tie'}], 'http://3.bp.blogspot.com/-d8vYPvU3kAA/VBodAzRzX2I/AAAAAAAAK2s/uUYSnSIYHoU/s1600/salmon.jpg', 'The five types of Pacific salmon, sitka, alaska'), ([], 'https://us.123rf.com/450wm/logvinyk/logvinyk1509/logvinyk150901763/45105557-vip-sign-icon-membership-symbol-very-important-person-a-set-of-nine-different-colored-labels-vector-.jpg?ver=6', 'very important person: Vip sign icon. Membership symbol. Very important person. A set of nine different colored labels. Vector illustration'), ([{'bbox': [262.5, 22.0, 65, 60], 'confidence': 0.9948951601982117, 'label': 'clock'}, {'bbox': [104.5, 20.5, 63, 63], 'confidence': 0.9942224025726318, 'label': 'clock'}, {'bbox': [182.5, 21.0, 65, 62], 'confidence': 0.9928365349769592, 'label': 'clock'}, {'bbox': [180.0, 142.5, 68, 63], 'confidence': 0.9857518076896667, 'label': 'clock'}, {'bbox': [261.0, 141.5, 68, 63], 'confidence': 0.9812982678413391, 'label': 'clock'}, {'bbox': [23.5, 21.0, 63, 62], 'confidence': 0.9790716171264648, 'label': 'clock'}, {'bbox': [101.0, 142.5, 66, 63], 'confidence': 0.9660758376121521, 'label': 'clock'}, {'bbox': [21.0, 146.0, 68, 60], 'confidence': 0.9510322213172913, 'label': 'clock'}], 'https://image.shutterstock.com/image-vector/world-time-zones-eight-different-260nw-319765649.jpg', 'World Time Zones, eight different cities'), ([], 'https://us.123rf.com/450wm/paseven/paseven1209/paseven120900016/15176539-four-banners-for-cafe-in-retro-style.jpg', 'four banners for cafe in retro style Stock Vector - 15176539'), ([], 'https://img.freepik.com/free-vector/wooden-chest-six-step-by-step-draw-chest_172107-952.jpg?size=626&ext=jpg', 'Wooden chest, six step by step draw chest.'), ([], 'https://images-na.ssl-images-amazon.com/images/I/51T14Yt%2BzsL.jpg', 'set of two glass star christmas tree decorations amazoncouk kitchen home'), ([], 'https://aig.alumni.virginia.edu/kappasigma/files/founders.jpg', 'The five founders of Kappa Sigma: George, John, William, Frank, and Edmond'), ([{'bbox': [7.0, 10.0, 68, 66], 'confidence': 0.749749481678009, 'label': 'sports ball'}, {'bbox': [85.5, 88.0, 69, 64], 'confidence': 0.5233144760131836, 'label': 'clock'}], 'https://cdn.xxl.thumbs.canstockphoto.com/canstock2556925.jpg', 'Globe icons. - Set of nine globe icons.'), ([{'bbox': [245.0, 1091.0, 82, 242], 'confidence': 0.5784133672714233, 'label': 'person'}, {'bbox': [78.0, 160.0, 8, 44], 'confidence': 0.5293436050415039, 'label': 'tie'}], 'https://myfavoritewesterns.files.wordpress.com/2013/09/magnificent-seven-posters-4.jpg?w=490&amp;h=1332', 'magnificent seven posters 4'), ([], 'http://houseoffraser.scene7.com/is/image/HOF/I_178760691_01_20130905?fmt=jpg&amp;layer=0&amp;size=220,293&amp;wid=220&amp;hei=293&amp;layer=1&amp;src=I_178760691_01_20130905&amp;size=220,293&amp;qlt=80&amp;resMode=sharp&amp;wid=220&amp;hei=293&amp;op_usm=1,1,0,0', 'Cotton blend four pack of mens socks'), ([], 'https://media.apnarm.net.au/media/images/2018/08/17/b881500471z1_20180817141032_000gcc16fnmn3-0-r86khqj020js5k9nsq2_fct2509x1408_ct460x258.jpg', \"Monty Python's surviving five members.\"), ([], 'https://image.shutterstock.com/image-vector/illustration-four-snails-different-shells-260nw-154923071.jpg', 'Illustration of the four snails with different shells on a white background'), ([], 'https://crochetbug.com/wp-content/uploads/2014/02/Four-crochet-potholders-in-need-of-felting.jpg', 'four crochet potholders'), ([], 'https://thumbs.dreamstime.com/t/set-ten-christmas-cards-beautiful-illustration-39624779.jpg', 'Set of ten Christmas Cards Royalty Free Stock Images'), ([{'bbox': [148.0, 135.0, 58, 84], 'confidence': 0.9988340139389038, 'label': 'chair'}, {'bbox': [46.5, 117.0, 65, 52], 'confidence': 0.9972596764564514, 'label': 'tvmonitor'}, {'bbox': [22.5, 188.0, 473, 206], 'confidence': 0.9812778234481812, 'label': 'bed'}, {'bbox': [115.5, 151.5, 43, 79], 'confidence': 0.9671279788017273, 'label': 'chair'}, {'bbox': [235.0, 164.5, 250, 79], 'confidence': 0.7254437208175659, 'label': 'bed'}], 'https://www.rci.com/static/Resorts/Assets/6933I02L.jpg', 'A well furnished bedroom with two double beds a television and balcony.'), ([{'bbox': [174.0, 221.5, 152, 179], 'confidence': 0.998728334903717, 'label': 'person'}, {'bbox': [184.0, 37.0, 136, 166], 'confidence': 0.9983072280883789, 'label': 'person'}, {'bbox': [190.5, 410.5, 129, 179], 'confidence': 0.9963842630386353, 'label': 'person'}, {'bbox': [331.0, 221.5, 132, 181], 'confidence': 0.9957280158996582, 'label': 'person'}, {'bbox': [18.5, 36.0, 147, 172], 'confidence': 0.9904875159263611, 'label': 'person'}, {'bbox': [28.0, 225.5, 140, 169], 'confidence': 0.9885807633399963, 'label': 'person'}, {'bbox': [328.0, 51.5, 140, 145], 'confidence': 0.9805366396903992, 'label': 'person'}, {'bbox': [335.5, 404.5, 135, 185], 'confidence': 0.9627746343612671, 'label': 'person'}, {'bbox': [134.5, 28.5, 35, 61], 'confidence': 0.9540899991989136, 'label': 'baseball glove'}, {'bbox': [25.0, 417.5, 138, 155], 'confidence': 0.7167322635650635, 'label': 'person'}], 'https://cdn10.bigcommerce.com/s-43boq/products/194/images/382/Redleg_Legends_Sample_Art__09040.1479329023.500.659.jpg?c=2', \"Digital illustration of nine Cincinnati's All-Time Reds Greats, Frank, Chuck, Gus, Wally, Ernie, Paul, Ted, Ed, and Johnny!!\"), ([{'bbox': [2.0, 25.0, 450, 396], 'confidence': 0.9859107732772827, 'label': 'cake'}], 'https://us.123rf.com/450wm/logvinyk/logvinyk1511/logvinyk151129598/49872582-central-processing-unit-icon-sign-a-set-of-nine-different-colored-labels-illustration.jpg?ver=6', 'the unit: Central Processing Unit icon sign. A set of nine different colored labels. illustration Stock Photo'), ([], 'https://cdn.vectorstock.com/i/thumb-large/46/64/5304664.jpg', 'Bike icon sign symbol on nine round colourful vector'), ([], 'https://blogs.weta.org/boundarystones/sites/blogs.weta.org.boundarystones/files/styles/large_704x328/public/1937_all_stars_crop_FINAL2_1920.jpg?itok=boZ0VFHS&c=90621c3d5b8aacbd4495c355541a5b91', 'Seven of the American League All-Star players, from left to right Lou, Joe, Bill, Joe, Charlie, Jimmie, and Hank. All seven would eventually be elected to the Hall of Fame. (Source: Library of Congress)'), ([{'bbox': [233.0, 261.5, 108, 53], 'confidence': 0.9996205568313599, 'label': 'car'}, {'bbox': [471.0, 267.5, 158, 167], 'confidence': 0.9981391429901123, 'label': 'car'}, {'bbox': [350.5, 251.5, 75, 65], 'confidence': 0.989992082118988, 'label': 'car'}, {'bbox': [441.5, 248.0, 95, 82], 'confidence': 0.916159987449646, 'label': 'car'}], 'https://i.dailymail.co.uk/i/pix/2012/10/05/article-2213528-155E0661000005DC-584_634x466.jpg', \"Life of luxury: Trail's home in Little Aston, Sutton Coldfield, Birmingham, with four cars pictured in the driveway\"), ([], 'https://t2.ftcdn.net/jpg/00/67/02/67/240_F_67026752_DhdsG9hczsZu2efrFyxIOfzyMMrzaDdd.jpg', 'The illustration of two cartoon trees'), ([], 'http://www.artnet.com/WebServices/images/ll00120lldXO5GFgOjECfDrCWvaHBOc9kBE/jules-pascin-three-men-new-orleans.jpg', 'three men new orleans by jules'), ([], 'https://us.123rf.com/450wm/bonumopus/bonumopus1502/bonumopus150200792/36917562-stock-vector-set-of-four-tree-rings-background-and-saw-cut-tree-trunk.jpg?ver=6', 'Set of four tree rings background and saw cut tree trunk'), ([], 'https://cdn.xxl.thumbs.canstockphoto.com/six-female-face-expressions-on-the-white-background-picture_csp2594137.jpg', 'face expressions - six female face expressions on the white...'), ([], 'https://d7hftxdivxxvm.cloudfront.net/?resize_to=fit&width=400&height=300&quality=80&src=https%3A%2F%2Fd32dm0rphc51dk.cloudfront.net%2FaH1K1jpMG0jFvEll7izhaQ%2Flarge.jpg', \"Mario, 'Set of ten Cab chairs, two arm-, eight side-', 1980s\"), ([{'bbox': [84.5, 91.5, 67, 63], 'confidence': 0.6259552836418152, 'label': 'clock'}], 'https://cdn3.vectorstock.com/i/thumb-large/90/42/puzzle-piece-icon-sign-symbol-on-nine-round-vector-6059042.jpg', 'Puzzle piece icon sign Symbol on nine round vector'), ([], 'https://us.123rf.com/450wm/veida/veida1511/veida151100004/49103276-set-two-banners-of-green-spruce-with-computer-and-motherboard-elements-for-technology-concept.jpg?ver=6', 'postcard background: set two banners of green spruce with computer and motherboard elements for technology concept'), ([{'bbox': [539.5, 23.0, 121, 198], 'confidence': 0.985191285610199, 'label': 'person'}, {'bbox': [166.5, 315.0, 127, 196], 'confidence': 0.9795562028884888, 'label': 'person'}, {'bbox': [703.0, 17.5, 132, 207], 'confidence': 0.9720313549041748, 'label': 'person'}, {'bbox': [706.5, 324.0, 129, 208], 'confidence': 0.943516194820404, 'label': 'person'}, {'bbox': [163.5, 23.0, 131, 202], 'confidence': 0.8806816339492798, 'label': 'person'}, {'bbox': [342.0, 306.0, 130, 214], 'confidence': 0.8687543869018555, 'label': 'person'}, {'bbox': [524.5, 313.0, 145, 222], 'confidence': 0.8655954003334045, 'label': 'person'}, {'bbox': [345.5, 23.5, 137, 201], 'confidence': 0.8267489671707153, 'label': 'person'}], 'https://doingbusiness.ro/media/covers/5fd72893da50b_cover.jpg', 'PwC Romania announces the promotion of eight Directors in Tax, Assurance and Advisory departments'), ([], 'http://debenhams.scene7.com/is/image/Debenhams/37484_MDER046792?$PSPNew$', 'Mood - Multi tone pack of six hoop and stud earring set'), ([{'bbox': [235.5, 150.0, 135, 248], 'confidence': 0.998760998249054, 'label': 'person'}, {'bbox': [341.5, 163.5, 123, 229], 'confidence': 0.995210587978363, 'label': 'person'}, {'bbox': [127.0, 145.0, 142, 246], 'confidence': 0.993908703327179, 'label': 'person'}, {'bbox': [1.5, 129.0, 211, 268], 'confidence': 0.9924271106719971, 'label': 'person'}, {'bbox': [239.0, 51.5, 102, 191], 'confidence': 0.9831702709197998, 'label': 'person'}, {'bbox': [341.0, 79.5, 90, 161], 'confidence': 0.9799422025680542, 'label': 'person'}, {'bbox': [421.0, 47.5, 168, 325], 'confidence': 0.9678841233253479, 'label': 'person'}, {'bbox': [132.5, 42.0, 123, 184], 'confidence': 0.9640516042709351, 'label': 'person'}, {'bbox': [488.0, 147.5, 132, 251], 'confidence': 0.9473980069160461, 'label': 'person'}, {'bbox': [0.5, 33.5, 71, 231], 'confidence': 0.9258530139923096, 'label': 'person'}, {'bbox': [38.5, 41.5, 101, 183], 'confidence': 0.8990343809127808, 'label': 'person'}, {'bbox': [61.5, 230.0, 15, 32], 'confidence': 0.7619795799255371, 'label': 'tie'}, {'bbox': [283.5, 228.0, 15, 36], 'confidence': 0.6091569066047668, 'label': 'tie'}, {'bbox': [204.5, 121.0, 9, 18], 'confidence': 0.5526077151298523, 'label': 'tie'}], 'https://carvehername.org.uk/wp-content/uploads/2019/06/tereshkova-with-other-cosmonauts-Memorial-Museum-of-Cosmonautics.jpg', 'Valentina, first woman in space, surrounded by ten male cosmonauts. She is second from left in the front row.'), ([], 'https://t1.ftcdn.net/jpg/00/58/61/54/240_F_58615422_RASyGumNwtvO232fEk1coEmrYuFN0FrH.jpg', 'Two cucumbers and three tomatoes on gray wooden background'), ([{'bbox': [292.0, 158.0, 88, 132], 'confidence': 0.9899675846099854, 'label': 'chair'}, {'bbox': [218.0, 160.0, 76, 128], 'confidence': 0.9875391125679016, 'label': 'chair'}, {'bbox': [406.0, 179.5, 150, 183], 'confidence': 0.9810174703598022, 'label': 'chair'}, {'bbox': [34.5, 181.5, 153, 175], 'confidence': 0.9724062085151672, 'label': 'chair'}, {'bbox': [127.0, 177.5, 82, 147], 'confidence': 0.94964998960495, 'label': 'chair'}], 'https://cdn.shopify.com/s/files/1/1346/4777/products/DSC_0464_59e7ce57-5313-4608-8edf-3bf878c318af_grande.JPG?v=1524437344', 'Moller #71 Chair. Set of six dining chairs in Rosewood.'), ([], 'http://images.artnet.com/artwork_images.asp?url=artwork_images_425490280_779196_robert-indiana.jpg', 'Robert, Polygon Suite (A set of seven prints)'), ([], 'https://flyingmackerel.files.wordpress.com/2019/07/eight-ice-creams.jpg?w=620', 'eight ice creams'), ([{'bbox': [1.0, -2.0, 120, 124], 'confidence': 0.5694200396537781, 'label': 'bowl'}], 'https://laurelleaffarm.com/item-photos/six-solid-yellow-salad-plates-vintage-ceramic-Harlequin-Homer-Laughlin-china-Laurel-Leaf-Farm-item-no-pw01101t.jpg', 'six solid yellow salad plates, vintage ceramic Harlequin Homer Laughlin china'), ([{'bbox': [89.0, 9.5, 140, 217], 'confidence': 0.9998624324798584, 'label': 'person'}, {'bbox': [3.0, 6.5, 106, 223], 'confidence': 0.9998306035995483, 'label': 'person'}, {'bbox': [6.0, 26.0, 30, 62], 'confidence': 0.5825549364089966, 'label': 'person'}], 'http://i.pinimg.com/236x/b9/18/af/b918aff73ef9ebdfe83cdb710805d781.jpg', 'Detail of original image: two sumo wrestlers walk down a busy street in Shibuya district, Tokyo.'), ([{'bbox': [159.5, 121.0, 35, 34], 'confidence': 0.8927144408226013, 'label': 'clock'}], 'https://static1.bigstockphoto.com/5/9/1/large2/195608203.jpg', 'Garbage design concept with four square compositions of flat waste recycling and cleaning images and pictograms vector illustration'), ([], 'https://ae01.alicdn.com/kf/HTB10DIfMpXXXXaOXFXXq6xXFXXXc/Six-Colors-Lot-PVC-Vinyl-from-Korea-PVC-heat-transfer-film-High-Quality-and-Wholesale-Price.jpg', 'Six Colors/Lot PVC Vinyl from Korea, PVC heat transfer film High Quality and Wholesale Price six crows'), ([{'bbox': [80.0, 175.5, 52, 63], 'confidence': 0.8919416666030884, 'label': 'apple'}, {'bbox': [134.0, 181.0, 24, 60], 'confidence': 0.7870873212814331, 'label': 'apple'}, {'bbox': [82.5, 75.5, 75, 67], 'confidence': 0.6653080582618713, 'label': 'orange'}, {'bbox': [2.5, 87.5, 73, 69], 'confidence': 0.6335154175758362, 'label': 'bowl'}, {'bbox': [168.0, 118.0, 34, 36], 'confidence': 0.5253933072090149, 'label': 'donut'}, {'bbox': [199.0, 48.0, 28, 28], 'confidence': 0.5092323422431946, 'label': 'donut'}], 'https://cdn.xxl.thumbs.canstockphoto.com/canstock9248123.jpg', 'colorful fruit collage of nine photos'), ([{'bbox': [510.0, 258.5, 150, 237], 'confidence': 0.9992225170135498, 'label': 'person'}, {'bbox': [347.5, 3.5, 157, 235], 'confidence': 0.9989874958992004, 'label': 'person'}, {'bbox': [501.0, 7.0, 152, 234], 'confidence': 0.9979938268661499, 'label': 'person'}, {'bbox': [3.5, 251.0, 183, 250], 'confidence': 0.9973592162132263, 'label': 'person'}, {'bbox': [359.5, 262.0, 153, 234], 'confidence': 0.9956820607185364, 'label': 'person'}, {'bbox': [171.0, 7.0, 180, 230], 'confidence': 0.9956080913543701, 'label': 'person'}, {'bbox': [-1.5, 6.5, 179, 237], 'confidence': 0.9947062134742737, 'label': 'person'}, {'bbox': [202.0, 262.0, 156, 232], 'confidence': 0.9806653261184692, 'label': 'person'}, {'bbox': [396.0, 154.0, 40, 88], 'confidence': 0.9626017808914185, 'label': 'tie'}, {'bbox': [67.5, 142.5, 43, 89], 'confidence': 0.9003724455833435, 'label': 'tie'}, {'bbox': [419.5, 398.5, 37, 57], 'confidence': 0.826068103313446, 'label': 'tie'}, {'bbox': [562.5, 169.0, 37, 74], 'confidence': 0.7276445627212524, 'label': 'tie'}, {'bbox': [259.0, 405.5, 28, 45], 'confidence': 0.6901580691337585, 'label': 'tie'}, {'bbox': [273.0, 163.5, 36, 81], 'confidence': 0.6080288887023926, 'label': 'tie'}, {'bbox': [98.0, 379.0, 34, 72], 'confidence': 0.5973463654518127, 'label': 'tie'}], 'https://i2.wp.com/bamfstyle.com/wp-content/uploads/2012/12/be-season1-bluesuit-jimshirts.jpg?resize=664%2C498', 'Jimmy wears eight different shirt and tie combos with his blue suit during the first season.'), ([], 'https://cdn5.vectorstock.com/i/thumb-large/82/94/shield-icon-sign-symbol-on-nine-round-colourful-vector-6058294.jpg', 'shield icon sign Symbol on nine round colourful vector image'), ([{'bbox': [321.5, 30.0, 65, 222], 'confidence': 0.9819560647010803, 'label': 'bottle'}, {'bbox': [256.0, 37.0, 68, 210], 'confidence': 0.9697636961936951, 'label': 'bottle'}, {'bbox': [133.5, 34.5, 59, 211], 'confidence': 0.9583097100257874, 'label': 'bottle'}, {'bbox': [192.5, 32.0, 61, 216], 'confidence': 0.9575230479240417, 'label': 'bottle'}, {'bbox': [69.5, 32.0, 59, 218], 'confidence': 0.9517679810523987, 'label': 'bottle'}, {'bbox': [6.5, 55.0, 63, 192], 'confidence': 0.9460225105285645, 'label': 'bottle'}, {'bbox': [381.5, 60.5, 63, 183], 'confidence': 0.8781033754348755, 'label': 'bottle'}], 'https://thumb7.shutterstock.com/image-photo/stock-photo--set-of-seven-bottles-of-water-isolated-on-white-background-with-a-different-set-of-covers-450w-92085017.jpg', 'set of seven bottles of water isolated on white background with a different set of covers'), ([], 'http://st.houzz.com/fimgs/207162880331213f_8705-w251-h251-b1-p10--traditional-mirrors.jpg', 'Benzara - Mirror Assorted with Lacquered Finish - Set of 2 - This set of mirrors is high on utility as well as a stylish addition to your room. The set consists of two dazzling mirrors framed in high quality wood that comes with the endurance to last for a long time. The wood surface is finished with lacquer that adds good sheen and visual appeal to the overall piece. Made from high quality glass, it produces crystal clear images and reflections without blurs. The mirrors can be placed conveniently on the dressing table, hung on the wall and used with utmost efficiency. You can easily wipe and clean the mirror easily with a cloth and avoid dust and scratches. The perfect finish combined with attractive features enhances the aesthetic appeal and make this mirror a worthy possession.'), ([], 'http://www.jacksonphotography.com/wp-content/uploads/2012/08/Woodholme-Wedding-12.jpg', 'seven groomsmen at the ceremony'), ([{'bbox': [13.0, 51.5, 56, 71], 'confidence': 0.9667322635650635, 'label': 'person'}, {'bbox': [193.5, 10.0, 63, 112], 'confidence': 0.9353280663490295, 'label': 'person'}, {'bbox': [313.5, 32.5, 35, 87], 'confidence': 0.7632004618644714, 'label': 'person'}, {'bbox': [335.5, 78.0, 29, 44], 'confidence': 0.7335963249206543, 'label': 'dog'}, {'bbox': [108.5, 65.5, 65, 57], 'confidence': 0.7187596559524536, 'label': 'person'}, {'bbox': [44.5, 54.0, 45, 72], 'confidence': 0.6633253693580627, 'label': 'person'}], 'http://tse4.mm.bing.net/th?id=OIP.sw8bSv8TPcKYqVYJVDFKOgHaED', 'top 10 musicals film the guardian 31 days of music top ten favorite movie musicals'), ([{'bbox': [28.0, 14.5, 404, 279], 'confidence': 0.9471269249916077, 'label': 'cake'}], 'https://us.123rf.com/450wm/iimages/iimages1403/iimages140300038/26316802-illustration-of-the-ten-pumpkins-with-different-emotions-on-a-white-background.jpg', 'Illustration of the ten pumpkins with different emotions on a white background Vector'), ([], 'https://agsurfer.blob.core.windows.net/apei/German1.jpg', 'five lederhosen attired polka musicians with instruments'), ([{'bbox': [350.5, 246.0, 251, 248], 'confidence': 0.9989844560623169, 'label': 'cat'}, {'bbox': [787.0, 181.5, 208, 307], 'confidence': 0.998772382736206, 'label': 'cat'}, {'bbox': [972.0, 189.0, 222, 298], 'confidence': 0.9984526038169861, 'label': 'cat'}, {'bbox': [589.5, 174.5, 201, 325], 'confidence': 0.9924057126045227, 'label': 'cat'}, {'bbox': [179.0, 192.5, 200, 289], 'confidence': 0.9910531044006348, 'label': 'cat'}], 'https://c8.alamy.com/comp/JGEHC0/row-of-five-british-shorthair-cats-kittens-sitting-on-a-wooden-tray-JGEHC0.jpg', 'Row of five British Shorthair cats / kittens sitting on a wooden tray isolated on white background / looking ate - Stock Image'), ([], 'http://sp.imgci.com/PICTURES/CMS/26200/26210.jpg', 'The captains of the seven French Heineken Cup sides stand alongside the silverware'), ([{'bbox': [729.5, 110.5, 139, 253], 'confidence': 0.6192258596420288, 'label': 'vase'}, {'bbox': [874.0, 47.0, 160, 380], 'confidence': 0.5542610883712769, 'label': 'vase'}], 'https://www.llbean.net/firstspirit/media/image_library/2019/categorybanners/191226_beanbootbanner/191226_banner_Bean_Boot01_Large.jpg', 'Line up of seven different styles of Bean Boots'), ([{'bbox': [117.0, 31.5, 86, 177], 'confidence': 0.9991430640220642, 'label': 'person'}, {'bbox': [190.0, 44.5, 62, 191], 'confidence': 0.9990867972373962, 'label': 'person'}, {'bbox': [23.5, 45.0, 67, 154], 'confidence': 0.9665095210075378, 'label': 'person'}, {'bbox': [70.5, 42.0, 55, 188], 'confidence': 0.9316624999046326, 'label': 'person'}, {'bbox': [-3.5, 182.5, 85, 53], 'confidence': 0.8442238569259644, 'label': 'person'}, {'bbox': [121.0, 144.0, 86, 92], 'confidence': 0.7904956936836243, 'label': 'person'}], 'https://incognegrablog.files.wordpress.com/2014/08/original-six-members-of-the-black-panther-party-in-november-1966.jpg?w=291&', 'Original six members of the Black Panther Party in November, 1966'), ([], 'https://cdn.newsday.com/polopoly_fs/1.20847113.1536161033!/httpImage/image.jpg_gen/derivatives/display_960/image.jpg', 'This five pack of the Incredible Junior Supers'), ([], 'https://juliamhammond.files.wordpress.com/2015/04/image9.jpg?w=590&', 'The seven moai at Ahu Akivi, unusual in that they face the sea'), ([], 'https://us.123rf.com/450wm/vicdd/vicdd1109/vicdd110900020/10576270-set-of-nine-icons-revolver.jpg?ver=6', 'bullets: Set of nine icons (revolver).'), ([], 'https://www.kwernerdesign.com/blog/wp-content2/uploads/malina-instagram/172140636_491884685583159_1648475815699223440_n.jpg', 'Are you ready for Part 2 of Coloring YOUR Cats! Check out these kitties! I colored six more cats based on photos submitted by followers. Watch how I colored them with colored pencils at the link in my bio. #kwernerdesigncards'), ([], 'https://us.123rf.com/450wm/natalii/natalii1305/natalii130500010/19602846-damask-seamless-wallpaper-in-four-variants--shades-of-blue.jpg?ver=6', 'royal background: Damask seamless wallpaper in four variants - shades of blue Illustration'), ([{'bbox': [401.0, 76.5, 104, 211], 'confidence': 0.9976100921630859, 'label': 'bottle'}, {'bbox': [26.5, 94.0, 107, 236], 'confidence': 0.9294685125350952, 'label': 'bottle'}, {'bbox': [108.5, 71.0, 97, 226], 'confidence': 0.7634888291358948, 'label': 'bottle'}], 'https://i.imgur.com/tKLJJ.jpg', 'five 5 holiday nail polishes')]\n",
      "3\n",
      "3\n",
      "3\n",
      "3\n",
      "3\n",
      "3\n",
      "3\n",
      "3\n",
      "3\n",
      "3\n",
      "3\n",
      "3\n",
      "3\n",
      "3\n",
      "3\n",
      "3\n",
      "3\n",
      "3\n",
      "3\n",
      "3\n",
      "3\n",
      "3\n",
      "3\n",
      "3\n",
      "3\n",
      "3\n",
      "3\n",
      "3\n",
      "3\n",
      "3\n",
      "3\n",
      "3\n",
      "3\n",
      "3\n",
      "3\n",
      "3\n",
      "3\n",
      "3\n",
      "3\n",
      "3\n",
      "3\n",
      "3\n",
      "3\n",
      "3\n",
      "3\n",
      "3\n",
      "3\n",
      "3\n",
      "3\n",
      "3\n",
      "3\n",
      "3\n",
      "3\n",
      "3\n",
      "3\n",
      "3\n",
      "3\n",
      "3\n",
      "3\n",
      "3\n",
      "3\n",
      "3\n",
      "3\n",
      "3\n",
      "3\n",
      "3\n",
      "3\n",
      "3\n",
      "3\n",
      "3\n",
      "3\n",
      "3\n",
      "3\n",
      "3\n",
      "3\n",
      "3\n",
      "3\n",
      "3\n",
      "3\n",
      "3\n",
      "3\n",
      "3\n",
      "3\n",
      "3\n",
      "3\n",
      "3\n",
      "3\n",
      "3\n",
      "3\n",
      "3\n",
      "3\n",
      "3\n",
      "3\n",
      "3\n",
      "3\n",
      "3\n",
      "3\n",
      "3\n",
      "3\n",
      "3\n"
     ]
    }
   ],
   "source": [
    "print(l)\n",
    "for i in l:\n",
    "    print(len(i))"
   ]
  },
  {
   "cell_type": "code",
   "execution_count": null,
   "metadata": {},
   "outputs": [],
   "source": [
    "f = open(\"segments0.npy\",\"wb\")\n",
    "np.save(f,pd.Series(l))"
   ]
  },
  {
   "cell_type": "code",
   "execution_count": null,
   "metadata": {},
   "outputs": [
    {
     "data": {
      "text/plain": [
       "80"
      ]
     },
     "execution_count": 50,
     "metadata": {},
     "output_type": "execute_result"
    }
   ],
   "source": [
    "len(l)\n"
   ]
  },
  {
   "cell_type": "code",
   "execution_count": null,
   "metadata": {},
   "outputs": [
    {
     "data": {
      "text/plain": [
       "80"
      ]
     },
     "execution_count": 52,
     "metadata": {},
     "output_type": "execute_result"
    }
   ],
   "source": [
    "f = open(\"segments0.npy\",\"rb\")\n",
    "\n",
    "out = np.load(f,allow_pickle=True)\n",
    "len(out)"
   ]
  }
 ],
 "metadata": {
  "kernelspec": {
   "display_name": "Python 3",
   "language": "python",
   "name": "python3"
  },
  "language_info": {
   "codemirror_mode": {
    "name": "ipython",
    "version": 3
   },
   "file_extension": ".py",
   "mimetype": "text/x-python",
   "name": "python",
   "nbconvert_exporter": "python",
   "pygments_lexer": "ipython3",
   "version": "3.10.12"
  }
 },
 "nbformat": 4,
 "nbformat_minor": 2
}
