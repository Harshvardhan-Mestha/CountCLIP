{
 "cells": [
  {
   "cell_type": "code",
   "execution_count": 2,
   "metadata": {},
   "outputs": [],
   "source": [
    "import json\n",
    "import pandas as pd\n",
    "import numpy as np\n",
    "\n"
   ]
  },
  {
   "cell_type": "code",
   "execution_count": 3,
   "metadata": {},
   "outputs": [
    {
     "data": {
      "text/html": [
       "<div>\n",
       "<style scoped>\n",
       "    .dataframe tbody tr th:only-of-type {\n",
       "        vertical-align: middle;\n",
       "    }\n",
       "\n",
       "    .dataframe tbody tr th {\n",
       "        vertical-align: top;\n",
       "    }\n",
       "\n",
       "    .dataframe thead th {\n",
       "        text-align: right;\n",
       "    }\n",
       "</style>\n",
       "<table border=\"1\" class=\"dataframe\">\n",
       "  <thead>\n",
       "    <tr style=\"text-align: right;\">\n",
       "      <th></th>\n",
       "      <th>pths</th>\n",
       "      <th>caps</th>\n",
       "      <th>urls</th>\n",
       "      <th>counts</th>\n",
       "    </tr>\n",
       "  </thead>\n",
       "  <tbody>\n",
       "    <tr>\n",
       "      <th>0</th>\n",
       "      <td>./data/VAL/VAL0.jpg</td>\n",
       "      <td>We review the ten best gaming headsets in the ...</td>\n",
       "      <td>http://www.wirerealm.com/wp-content/uploads/20...</td>\n",
       "      <td>10</td>\n",
       "    </tr>\n",
       "    <tr>\n",
       "      <th>1</th>\n",
       "      <td>./data/VAL/VAL1.jpg</td>\n",
       "      <td>background photo of three light bulbs</td>\n",
       "      <td>https://wmich.edu/sites/default/files/styles/7...</td>\n",
       "      <td>3</td>\n",
       "    </tr>\n",
       "    <tr>\n",
       "      <th>2</th>\n",
       "      <td>./data/VAL/VAL2.jpg</td>\n",
       "      <td>City prints: Set of three big prints - $150.00...</td>\n",
       "      <td>http://img0.etsystatic.com/000/0/5304297/il_fu...</td>\n",
       "      <td>3</td>\n",
       "    </tr>\n",
       "    <tr>\n",
       "      <th>3</th>\n",
       "      <td>./data/VAL/VAL3.jpg</td>\n",
       "      <td>Set of eight arrows in all directions vector</td>\n",
       "      <td>https://cdn.vectorstock.com/i/thumb-large/74/3...</td>\n",
       "      <td>8</td>\n",
       "    </tr>\n",
       "    <tr>\n",
       "      <th>4</th>\n",
       "      <td>./data/VAL/VAL4.jpg</td>\n",
       "      <td>vintage silver plate tablespoons, serving spoo...</td>\n",
       "      <td>https://laurelleaffarm.com/item-photos/vintage...</td>\n",
       "      <td>6</td>\n",
       "    </tr>\n",
       "  </tbody>\n",
       "</table>\n",
       "</div>"
      ],
      "text/plain": [
       "                  pths                                               caps  \\\n",
       "0  ./data/VAL/VAL0.jpg  We review the ten best gaming headsets in the ...   \n",
       "1  ./data/VAL/VAL1.jpg              background photo of three light bulbs   \n",
       "2  ./data/VAL/VAL2.jpg  City prints: Set of three big prints - $150.00...   \n",
       "3  ./data/VAL/VAL3.jpg       Set of eight arrows in all directions vector   \n",
       "4  ./data/VAL/VAL4.jpg  vintage silver plate tablespoons, serving spoo...   \n",
       "\n",
       "                                                urls  counts  \n",
       "0  http://www.wirerealm.com/wp-content/uploads/20...      10  \n",
       "1  https://wmich.edu/sites/default/files/styles/7...       3  \n",
       "2  http://img0.etsystatic.com/000/0/5304297/il_fu...       3  \n",
       "3  https://cdn.vectorstock.com/i/thumb-large/74/3...       8  \n",
       "4  https://laurelleaffarm.com/item-photos/vintage...       6  "
      ]
     },
     "execution_count": 3,
     "metadata": {},
     "output_type": "execute_result"
    }
   ],
   "source": [
    "c_df = pd.read_csv('../val.csv',index_col=False)\n",
    "\n",
    "len(c_df)\n",
    "c_df = c_df.drop(c_df.columns[0],axis=1)\n",
    "c_df[0:5]\n"
   ]
  },
  {
   "cell_type": "code",
   "execution_count": 4,
   "metadata": {},
   "outputs": [],
   "source": [
    "# c_df.cast = c_df.cast.apply(json.loads)\n",
    "c_df.to_json('../val.json', orient='records', lines=True)"
   ]
  }
 ],
 "metadata": {
  "kernelspec": {
   "display_name": "Python 3",
   "language": "python",
   "name": "python3"
  },
  "language_info": {
   "codemirror_mode": {
    "name": "ipython",
    "version": 3
   },
   "file_extension": ".py",
   "mimetype": "text/x-python",
   "name": "python",
   "nbconvert_exporter": "python",
   "pygments_lexer": "ipython3",
   "version": "3.11.2"
  }
 },
 "nbformat": 4,
 "nbformat_minor": 2
}
