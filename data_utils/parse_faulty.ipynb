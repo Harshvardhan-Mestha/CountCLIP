{
 "cells": [
  {
   "cell_type": "code",
   "execution_count": 41,
   "metadata": {},
   "outputs": [],
   "source": [
    "import json\n",
    "from tqdm import trange\n",
    "\n",
    "f = open(\"faulty.txt\")\n",
    "lines = f.read().splitlines()\n",
    "\n",
    "\n"
   ]
  },
  {
   "cell_type": "code",
   "execution_count": 42,
   "metadata": {},
   "outputs": [
    {
     "name": "stderr",
     "output_type": "stream",
     "text": [
      "100%|██████████| 100/100 [00:00<00:00, 112387.57it/s]\n"
     ]
    }
   ],
   "source": [
    "index = []\n",
    "json_str = []\n",
    "\n",
    "for i in trange(len(lines)-1):\n",
    "    s = r'{}'.format(lines[i])\n",
    "    s = s.rstrip(f'\\')')\n",
    "    s = s.lstrip(f'input_data[')\n",
    "    data = s.split(\"] = json.loads(\\'\")\n",
    "    index.append(int(data[0]))\n",
    "    json_str.append(data[1])\n",
    "    \n"
   ]
  },
  {
   "cell_type": "code",
   "execution_count": 43,
   "metadata": {},
   "outputs": [
    {
     "name": "stdout",
     "output_type": "stream",
     "text": [
      "100\n",
      "[92, 112, 172]\n",
      "100\n",
      "['{\"pths\":\".\\\\/data\\\\/merged\\\\/NC13441.jpg\",\"caps\":\"Stars and Stripes Scarf\",\"urls\":\"https:\\\\/\\\\/cdn.shopify.com\\\\/s\\\\/files\\\\/1\\\\/0243\\\\/9693\\\\/products\\\\/56900_product_shoot_720x720.jpg?v=1496109800\",\"counts\":-1}', '{\"pths\":\".\\\\/data\\\\/merged\\\\/NC12869.jpg\",\"caps\":\"Lobster Rhumba Tee\",\"urls\":\"http:\\\\/\\\\/s3.amazonaws.com\\\\/spoonflower\\\\/public\\\\/design_thumbnails\\\\/0161\\\\/6735\\\\/rSPooncontestMasterRumbaLobster_shop_thumb.png\",\"counts\":-1}', '{\"pths\":\".\\\\/data\\\\/merged\\\\/NC12870.jpg\",\"caps\":\"Stars Align for Keeneland Spring\",\"urls\":\"http:\\\\/\\\\/cdn.bloodhorse.com\\\\/images\\\\/content\\\\/TheKeenelandFilestn.jpg\",\"counts\":-1}']\n"
     ]
    }
   ],
   "source": [
    "print(len(index))\n",
    "print(index[0:3])\n",
    "\n",
    "print(len(json_str))\n",
    "print(json_str[0:3])\n"
   ]
  },
  {
   "cell_type": "code",
   "execution_count": 44,
   "metadata": {},
   "outputs": [],
   "source": [
    "import pandas as pd\n",
    " \n",
    "# initialize data of lists.\n",
    "data = {'index': index,\n",
    "        'json_str': json_str}\n",
    " \n",
    "# Create DataFrame\n",
    "df = pd.DataFrame(data)\n",
    "df.to_csv('faulty.csv')"
   ]
  }
 ],
 "metadata": {
  "kernelspec": {
   "display_name": "Python 3",
   "language": "python",
   "name": "python3"
  },
  "language_info": {
   "codemirror_mode": {
    "name": "ipython",
    "version": 3
   },
   "file_extension": ".py",
   "mimetype": "text/x-python",
   "name": "python",
   "nbconvert_exporter": "python",
   "pygments_lexer": "ipython3",
   "version": "3.10.13"
  }
 },
 "nbformat": 4,
 "nbformat_minor": 2
}
