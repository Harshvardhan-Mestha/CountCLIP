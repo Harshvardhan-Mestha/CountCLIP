{
 "cells": [
  {
   "cell_type": "code",
   "execution_count": 2,
   "metadata": {},
   "outputs": [],
   "source": [
    "\n",
    "import numpy as np\n",
    "import urllib\n",
    "from tqdm import trange\n",
    "import pandas as pd"
   ]
  },
  {
   "cell_type": "code",
   "execution_count": 4,
   "metadata": {},
   "outputs": [
    {
     "name": "stdout",
     "output_type": "stream",
     "text": [
      "2319 19981\n"
     ]
    }
   ],
   "source": [
    "f = open(\"./data/counting_2mil.npy\",\"rb\")\n",
    "c_dump = np.load(f,allow_pickle=True)\n",
    "f = open(\"./data/noncounting_2mil.npy\",\"rb\")\n",
    "nc_dump = np.load(f,allow_pickle=True)\n",
    "\n",
    "print(len(c_dump),len(nc_dump))\n",
    "c = 0\n",
    "\n",
    "c_pths = [] \n",
    "c_caps = [] \n",
    "c_urls = []\n",
    "c_counts = []\n",
    "\n",
    "nc_pths = [] \n",
    "nc_urls = []\n",
    "nc_caps = [] \n",
    "nc_counts = []\n"
   ]
  },
  {
   "cell_type": "code",
   "execution_count": null,
   "metadata": {},
   "outputs": [],
   "source": [
    "\n",
    "\n",
    "for i in trange(len(c_dump)):\n",
    "    # print(c_dump[i][1])\n",
    "\n",
    "    url = c_dump[i][1]\n",
    "    cap = c_dump[i][2]\n",
    "    count = c_dump[i][3]\n",
    "\n",
    "    try:\n",
    "        img = urllib.request.urlopen(str(url))\n",
    "        out = open(f\"./data/counting_imgs/C{c}.jpg\",\"wb+\")\n",
    "        out.write(img.read())\n",
    "        out.close()\n",
    "\n",
    "        c_pths.append(str(f\"./data/counting_imgs/C{c}.jpg\"))\n",
    "        c_urls.append(str(url))\n",
    "        c_caps.append(str(cap))\n",
    "        c_counts.append(count)\n",
    "\n",
    "\n",
    "        c = c+1\n",
    "        \n",
    "    except:\n",
    "        pass\n",
    "\n"
   ]
  },
  {
   "cell_type": "code",
   "execution_count": 5,
   "metadata": {},
   "outputs": [],
   "source": [
    "counting = pd.DataFrame()\n",
    "\n",
    "counting[\"pths\"] = c_pths\n",
    "counting[\"caps\"] = c_caps\n",
    "counting[\"urls\"] = c_urls\n",
    "counting[\"counts\"] = c_counts"
   ]
  },
  {
   "cell_type": "code",
   "execution_count": 9,
   "metadata": {},
   "outputs": [],
   "source": [
    "counting[0:5]\n",
    "len(counting)\n",
    "counting.to_csv('counting.csv')"
   ]
  },
  {
   "cell_type": "code",
   "execution_count": 5,
   "metadata": {},
   "outputs": [
    {
     "name": "stderr",
     "output_type": "stream",
     "text": [
      "  0%|          | 0/19981 [00:00<?, ?it/s]"
     ]
    },
    {
     "name": "stderr",
     "output_type": "stream",
     "text": [
      " 51%|█████     | 10217/19981 [6:30:57<3:08:47,  1.16s/it]   "
     ]
    }
   ],
   "source": [
    "c=0\n",
    "for i in trange(len(nc_dump)):\n",
    "    # print(c_dump[i][1])\n",
    "\n",
    "    url = nc_dump[i][1]\n",
    "    cap = nc_dump[i][2]\n",
    "    # count = c_dump[i][3]\n",
    "\n",
    "    try:\n",
    "        img = urllib.request.urlopen(str(url))\n",
    "        out = open(f\"./data/noncounting_imgs/NC{c}.jpg\",\"wb+\")\n",
    "        out.write(img.read())\n",
    "        out.close()\n",
    "\n",
    "        nc_pths.append(str(f\"./data/noncounting_imgs/NC{c}.jpg\"))\n",
    "        nc_urls.append(str(url))\n",
    "        nc_caps.append(str(cap))\n",
    "        # c_counts.append(count)\n",
    "\n",
    "        c = c+1\n",
    "        \n",
    "    except:\n",
    "        pass"
   ]
  },
  {
   "cell_type": "code",
   "execution_count": null,
   "metadata": {},
   "outputs": [],
   "source": [
    "noncounting = pd.DataFrame()\n",
    "\n",
    "noncounting[\"pths\"] = nc_pths\n",
    "noncounting[\"caps\"] = nc_caps\n",
    "noncounting[\"urls\"] = nc_urls\n",
    "# noncounting[\"counts\"] = nc_counts\n",
    "noncounting.to_csv('noncounting.csv')\n",
    "\n",
    "len(counting),counting[0:5]\n"
   ]
  }
 ],
 "metadata": {
  "kernelspec": {
   "display_name": "Python 3",
   "language": "python",
   "name": "python3"
  },
  "language_info": {
   "codemirror_mode": {
    "name": "ipython",
    "version": 3
   },
   "file_extension": ".py",
   "mimetype": "text/x-python",
   "name": "python",
   "nbconvert_exporter": "python",
   "pygments_lexer": "ipython3",
   "version": "3.11.2"
  }
 },
 "nbformat": 4,
 "nbformat_minor": 2
}
