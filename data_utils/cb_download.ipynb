{
 "cells": [
  {
   "cell_type": "code",
   "execution_count": 2,
   "metadata": {},
   "outputs": [],
   "source": [
    "\n",
    "import numpy as np\n",
    "import urllib\n",
    "from tqdm import trange\n",
    "import pandas as pd\n",
    "import wget"
   ]
  },
  {
   "cell_type": "code",
   "execution_count": 3,
   "metadata": {},
   "outputs": [
    {
     "data": {
      "text/html": [
       "<div>\n",
       "<style scoped>\n",
       "    .dataframe tbody tr th:only-of-type {\n",
       "        vertical-align: middle;\n",
       "    }\n",
       "\n",
       "    .dataframe tbody tr th {\n",
       "        vertical-align: top;\n",
       "    }\n",
       "\n",
       "    .dataframe thead th {\n",
       "        text-align: right;\n",
       "    }\n",
       "</style>\n",
       "<table border=\"1\" class=\"dataframe\">\n",
       "  <thead>\n",
       "    <tr style=\"text-align: right;\">\n",
       "      <th></th>\n",
       "      <th>image_url</th>\n",
       "      <th>text</th>\n",
       "      <th>number</th>\n",
       "    </tr>\n",
       "  </thead>\n",
       "  <tbody>\n",
       "    <tr>\n",
       "      <th>0</th>\n",
       "      <td>http://www.wirerealm.com/wp-content/uploads/20...</td>\n",
       "      <td>We review the ten best gaming headsets in the ...</td>\n",
       "      <td>10</td>\n",
       "    </tr>\n",
       "    <tr>\n",
       "      <th>1</th>\n",
       "      <td>https://wmich.edu/sites/default/files/styles/7...</td>\n",
       "      <td>background photo of three light bulbs</td>\n",
       "      <td>3</td>\n",
       "    </tr>\n",
       "    <tr>\n",
       "      <th>2</th>\n",
       "      <td>http://img0.etsystatic.com/000/0/5304297/il_fu...</td>\n",
       "      <td>City prints: Set of three big prints - $150.00...</td>\n",
       "      <td>3</td>\n",
       "    </tr>\n",
       "    <tr>\n",
       "      <th>3</th>\n",
       "      <td>https://cdn.vectorstock.com/i/thumb-large/74/3...</td>\n",
       "      <td>Set of eight arrows in all directions vector</td>\n",
       "      <td>8</td>\n",
       "    </tr>\n",
       "    <tr>\n",
       "      <th>4</th>\n",
       "      <td>https://laurelleaffarm.com/item-photos/vintage...</td>\n",
       "      <td>vintage silver plate tablespoons, serving spoo...</td>\n",
       "      <td>6</td>\n",
       "    </tr>\n",
       "    <tr>\n",
       "      <th>5</th>\n",
       "      <td>https://us.123rf.com/450wm/pingpao/pingpao1505...</td>\n",
       "      <td>kids playing beach: Vintage color filltered of...</td>\n",
       "      <td>2</td>\n",
       "    </tr>\n",
       "    <tr>\n",
       "      <th>6</th>\n",
       "      <td>https://cdn.xxl.thumbs.canstockphoto.com/canst...</td>\n",
       "      <td>Four colorful parrots - Illustration of the fo...</td>\n",
       "      <td>4</td>\n",
       "    </tr>\n",
       "    <tr>\n",
       "      <th>7</th>\n",
       "      <td>https://natashalh.com/wp-content/uploads/2021/...</td>\n",
       "      <td>A preview of seven printable dot marker colori...</td>\n",
       "      <td>7</td>\n",
       "    </tr>\n",
       "    <tr>\n",
       "      <th>8</th>\n",
       "      <td>https://static1.bigstockphoto.com/thumbs/2/2/1...</td>\n",
       "      <td>Single green plastic food container isolated o...</td>\n",
       "      <td>4</td>\n",
       "    </tr>\n",
       "    <tr>\n",
       "      <th>9</th>\n",
       "      <td>https://cdn3.volusion.com/lkzsf.javck/v/vspfil...</td>\n",
       "      <td>Image of the nine bird and birdhouse patterns,...</td>\n",
       "      <td>9</td>\n",
       "    </tr>\n",
       "  </tbody>\n",
       "</table>\n",
       "</div>"
      ],
      "text/plain": [
       "                                           image_url  \\\n",
       "0  http://www.wirerealm.com/wp-content/uploads/20...   \n",
       "1  https://wmich.edu/sites/default/files/styles/7...   \n",
       "2  http://img0.etsystatic.com/000/0/5304297/il_fu...   \n",
       "3  https://cdn.vectorstock.com/i/thumb-large/74/3...   \n",
       "4  https://laurelleaffarm.com/item-photos/vintage...   \n",
       "5  https://us.123rf.com/450wm/pingpao/pingpao1505...   \n",
       "6  https://cdn.xxl.thumbs.canstockphoto.com/canst...   \n",
       "7  https://natashalh.com/wp-content/uploads/2021/...   \n",
       "8  https://static1.bigstockphoto.com/thumbs/2/2/1...   \n",
       "9  https://cdn3.volusion.com/lkzsf.javck/v/vspfil...   \n",
       "\n",
       "                                                text  number  \n",
       "0  We review the ten best gaming headsets in the ...      10  \n",
       "1              background photo of three light bulbs       3  \n",
       "2  City prints: Set of three big prints - $150.00...       3  \n",
       "3       Set of eight arrows in all directions vector       8  \n",
       "4  vintage silver plate tablespoons, serving spoo...       6  \n",
       "5  kids playing beach: Vintage color filltered of...       2  \n",
       "6  Four colorful parrots - Illustration of the fo...       4  \n",
       "7  A preview of seven printable dot marker colori...       7  \n",
       "8  Single green plastic food container isolated o...       4  \n",
       "9  Image of the nine bird and birdhouse patterns,...       9  "
      ]
     },
     "execution_count": 3,
     "metadata": {},
     "output_type": "execute_result"
    }
   ],
   "source": [
    "cb_dump  = pd.read_json('CountBench.json')\n",
    "cb_dump[0:10]\n"
   ]
  },
  {
   "cell_type": "code",
   "execution_count": 4,
   "metadata": {},
   "outputs": [
    {
     "data": {
      "text/plain": [
       "540"
      ]
     },
     "execution_count": 4,
     "metadata": {},
     "output_type": "execute_result"
    }
   ],
   "source": [
    "urls = list(cb_dump[\"image_url\"])\n",
    "caps = list(cb_dump[\"text\"])\n",
    "counts = list(cb_dump[\"number\"])\n",
    "\n",
    "\n",
    "\n",
    "c = 0\n",
    "\n",
    "val_pths = [] \n",
    "val_caps = [] \n",
    "val_urls = []\n",
    "val_counts = []\n",
    "\n",
    "\n",
    "len(cb_dump)\n",
    "\n"
   ]
  },
  {
   "cell_type": "code",
   "execution_count": 5,
   "metadata": {},
   "outputs": [
    {
     "name": "stderr",
     "output_type": "stream",
     "text": [
      "  0%|          | 0/540 [00:00<?, ?it/s]"
     ]
    },
    {
     "name": "stderr",
     "output_type": "stream",
     "text": [
      "100%|██████████| 540/540 [11:24<00:00,  1.27s/it]  \n"
     ]
    }
   ],
   "source": [
    "\n",
    "\n",
    "for i in trange(len(cb_dump)):\n",
    "    # print(c_dump[i][1])\n",
    "\n",
    "    url = urls[i]\n",
    "    cap = caps[i]\n",
    "    count = counts[i]\n",
    "\n",
    "    try:\n",
    "        # img = urllib.request.urlopen(str(url))\n",
    "        # out = open(f\"./data/VAL/VAL{c}.jpg\",\"wb+\")\n",
    "        # out.write(img.read())\n",
    "        # out.close()\n",
    "\n",
    "        wget.download(url=url,out=f'./data/VAL/VAL{c}.jpg')\n",
    "\n",
    "        val_pths.append(str(f\"./data/VAL/VAL{c}.jpg\"))\n",
    "        val_urls.append(str(url))\n",
    "        val_caps.append(str(cap))\n",
    "        val_counts.append(count)\n",
    "        c = c+1\n",
    "        \n",
    "    except:\n",
    "        val_pths.append(str(f\"fault{c}.jpg\"))\n",
    "        val_urls.append(str(url))\n",
    "        val_caps.append(str(cap))\n",
    "        val_counts.append(count)\n",
    "        c = c+1\n",
    "        pass\n",
    "\n"
   ]
  },
  {
   "cell_type": "code",
   "execution_count": 6,
   "metadata": {},
   "outputs": [],
   "source": [
    "cb = pd.DataFrame()\n",
    "\n",
    "cb[\"pths\"] = val_pths\n",
    "cb[\"caps\"] = val_caps\n",
    "cb[\"urls\"] = val_urls\n",
    "cb[\"counts\"] = val_counts"
   ]
  },
  {
   "cell_type": "code",
   "execution_count": 7,
   "metadata": {},
   "outputs": [],
   "source": [
    "cb[0:5]\n",
    "len(cb)\n",
    "cb.to_csv('countbench.csv')"
   ]
  }
 ],
 "metadata": {
  "kernelspec": {
   "display_name": "Python 3",
   "language": "python",
   "name": "python3"
  },
  "language_info": {
   "codemirror_mode": {
    "name": "ipython",
    "version": 3
   },
   "file_extension": ".py",
   "mimetype": "text/x-python",
   "name": "python",
   "nbconvert_exporter": "python",
   "pygments_lexer": "ipython3",
   "version": "3.11.2"
  }
 },
 "nbformat": 4,
 "nbformat_minor": 2
}
