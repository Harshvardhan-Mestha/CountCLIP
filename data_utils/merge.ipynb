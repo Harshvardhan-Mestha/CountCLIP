{
 "cells": [
  {
   "cell_type": "code",
   "execution_count": 2,
   "metadata": {},
   "outputs": [],
   "source": [
    "import json\n",
    "import pandas as pd\n",
    "import numpy as np"
   ]
  },
  {
   "cell_type": "code",
   "execution_count": 3,
   "metadata": {},
   "outputs": [
    {
     "data": {
      "text/plain": [
       "2102"
      ]
     },
     "execution_count": 3,
     "metadata": {},
     "output_type": "execute_result"
    }
   ],
   "source": [
    "c = pd.read_csv('counting.csv',index_col=False)\n",
    "nc = pd.read_csv('noncounting.csv',index_col=False)\n",
    "\n",
    "c = c.reset_index(drop=True)\n",
    "nc = nc.reset_index(drop=True)\n",
    "\n",
    "c = c.drop(c.columns[0],axis=1)\n",
    "nc = nc.drop(nc.columns[0],axis=1)\n",
    "nc[\"counts\"] = int(-1)\n",
    "merged = pd.DataFrame(columns=['pths', 'caps', 'urls','counts'])\n",
    "\n",
    "\n",
    "len(c)"
   ]
  },
  {
   "cell_type": "code",
   "execution_count": 4,
   "metadata": {},
   "outputs": [],
   "source": [
    "new = list()\n",
    "# new.append(c.iloc[0])\n",
    "# new.append(nc.iloc[2])\n",
    "# pd.DataFrame(new).reset_index(drop=True)"
   ]
  },
  {
   "cell_type": "code",
   "execution_count": 5,
   "metadata": {},
   "outputs": [
    {
     "data": {
      "text/plain": [
       "10510"
      ]
     },
     "execution_count": 5,
     "metadata": {},
     "output_type": "execute_result"
    }
   ],
   "source": [
    "range(1,10511)[-1]"
   ]
  },
  {
   "cell_type": "code",
   "execution_count": 6,
   "metadata": {},
   "outputs": [],
   "source": [
    "ptr = 0\n",
    "for i in range(1,2102):\n",
    "   for j in range(4*(i-1),4*i):\n",
    "      # print(j)\n",
    "      new.append(nc.iloc[j])\n",
    "   new.append(c.iloc[i])\n"
   ]
  },
  {
   "cell_type": "code",
   "execution_count": 7,
   "metadata": {},
   "outputs": [],
   "source": [
    "pd.DataFrame(new).reset_index(drop=True).to_json('merged.json', orient='records', lines=True)\n"
   ]
  }
 ],
 "metadata": {
  "kernelspec": {
   "display_name": "Python 3",
   "language": "python",
   "name": "python3"
  },
  "language_info": {
   "codemirror_mode": {
    "name": "ipython",
    "version": 3
   },
   "file_extension": ".py",
   "mimetype": "text/x-python",
   "name": "python",
   "nbconvert_exporter": "python",
   "pygments_lexer": "ipython3",
   "version": "3.11.2"
  }
 },
 "nbformat": 4,
 "nbformat_minor": 2
}
