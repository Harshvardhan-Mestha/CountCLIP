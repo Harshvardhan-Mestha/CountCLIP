{
  "cells": [
    {
      "cell_type": "code",
      "execution_count": 1,
      "metadata": {
        "id": "lc1RWdRmKO3g",
        "colab": {
          "base_uri": "https://localhost:8080/"
        },
        "outputId": "5a82261e-d5f1-4257-d112-d6543a15c573"
      },
      "outputs": [
        {
          "output_type": "stream",
          "name": "stdout",
          "text": [
            "Downloading...\n",
            "From (original): https://drive.google.com/uc?id=1UG_bXl_vgCdVq3kgf8Y-StXPCttlpFAG\n",
            "From (redirected): https://drive.google.com/uc?id=1UG_bXl_vgCdVq3kgf8Y-StXPCttlpFAG&confirm=t&uuid=7f136a67-39cf-4977-948a-f24d3e7190db\n",
            "To: /content/data.zip\n",
            "100% 960M/960M [00:14<00:00, 67.5MB/s]\n",
            "Downloading...\n",
            "From: https://drive.google.com/uc?id=13mdK-jX_eDNa5v-HB34WOS3WNHSru_ir\n",
            "To: /content/merged.json\n",
            "100% 2.58M/2.58M [00:00<00:00, 145MB/s]\n",
            "Downloading...\n",
            "From: https://drive.google.com/uc?id=1h9FV9dVvcvLo97reN9_2dbg0QFKyVED2\n",
            "To: /content/val.json\n",
            "100% 144k/144k [00:00<00:00, 23.3MB/s]\n",
            "Downloading...\n",
            "From: https://drive.google.com/uc?id=1es9gtEtl1yiX4DVFRI_Qi0fQg0R9qUO2\n",
            "To: /content/faulty.csv\n",
            "100% 25.8k/25.8k [00:00<00:00, 54.0MB/s]\n"
          ]
        }
      ],
      "source": [
        "!gdown 1UG_bXl_vgCdVq3kgf8Y-StXPCttlpFAG\n",
        "!gdown 13mdK-jX_eDNa5v-HB34WOS3WNHSru_ir\n",
        "!gdown 1h9FV9dVvcvLo97reN9_2dbg0QFKyVED2\n",
        "!gdown 1es9gtEtl1yiX4DVFRI_Qi0fQg0R9qUO2\n",
        "!unzip -q data\n"
      ]
    },
    {
      "cell_type": "code",
      "source": [
        "!pip -q install transformers openai-clip wandb"
      ],
      "metadata": {
        "colab": {
          "base_uri": "https://localhost:8080/"
        },
        "id": "joenjbHqmeoQ",
        "outputId": "14432804-8a44-4571-d00a-8ad979e42067"
      },
      "execution_count": 2,
      "outputs": [
        {
          "output_type": "stream",
          "name": "stdout",
          "text": [
            "\u001b[?25l     \u001b[90m━━━━━━━━━━━━━━━━━━━━━━━━━━━━━━━━━━━━━━━━\u001b[0m \u001b[32m0.0/1.4 MB\u001b[0m \u001b[31m?\u001b[0m eta \u001b[36m-:--:--\u001b[0m\r\u001b[2K     \u001b[91m━\u001b[0m\u001b[91m╸\u001b[0m\u001b[90m━━━━━━━━━━━━━━━━━━━━━━━━━━━━━━━━━━━━━━\u001b[0m \u001b[32m0.1/1.4 MB\u001b[0m \u001b[31m1.7 MB/s\u001b[0m eta \u001b[36m0:00:01\u001b[0m\r\u001b[2K     \u001b[91m━━━━━━━━━━━━━━━━━━━━━━━━━━━━━━━\u001b[0m\u001b[90m╺\u001b[0m\u001b[90m━━━━━━━━\u001b[0m \u001b[32m1.1/1.4 MB\u001b[0m \u001b[31m15.2 MB/s\u001b[0m eta \u001b[36m0:00:01\u001b[0m\r\u001b[2K     \u001b[90m━━━━━━━━━━━━━━━━━━━━━━━━━━━━━━━━━━━━━━━━\u001b[0m \u001b[32m1.4/1.4 MB\u001b[0m \u001b[31m13.3 MB/s\u001b[0m eta \u001b[36m0:00:00\u001b[0m\n",
            "\u001b[?25h  Preparing metadata (setup.py) ... \u001b[?25l\u001b[?25hdone\n",
            "\u001b[2K     \u001b[90m━━━━━━━━━━━━━━━━━━━━━━━━━━━━━━━━━━━━━━━━\u001b[0m \u001b[32m2.2/2.2 MB\u001b[0m \u001b[31m18.1 MB/s\u001b[0m eta \u001b[36m0:00:00\u001b[0m\n",
            "\u001b[2K     \u001b[90m━━━━━━━━━━━━━━━━━━━━━━━━━━━━━━━━━━━━━━━━\u001b[0m \u001b[32m54.4/54.4 kB\u001b[0m \u001b[31m8.2 MB/s\u001b[0m eta \u001b[36m0:00:00\u001b[0m\n",
            "\u001b[2K     \u001b[90m━━━━━━━━━━━━━━━━━━━━━━━━━━━━━━━━━━━━━━━━\u001b[0m \u001b[32m195.4/195.4 kB\u001b[0m \u001b[31m18.2 MB/s\u001b[0m eta \u001b[36m0:00:00\u001b[0m\n",
            "\u001b[2K     \u001b[90m━━━━━━━━━━━━━━━━━━━━━━━━━━━━━━━━━━━━━━━━\u001b[0m \u001b[32m264.6/264.6 kB\u001b[0m \u001b[31m27.0 MB/s\u001b[0m eta \u001b[36m0:00:00\u001b[0m\n",
            "\u001b[2K     \u001b[90m━━━━━━━━━━━━━━━━━━━━━━━━━━━━━━━━━━━━━━━━\u001b[0m \u001b[32m62.7/62.7 kB\u001b[0m \u001b[31m9.4 MB/s\u001b[0m eta \u001b[36m0:00:00\u001b[0m\n",
            "\u001b[?25h  Building wheel for openai-clip (setup.py) ... \u001b[?25l\u001b[?25hdone\n"
          ]
        }
      ]
    },
    {
      "cell_type": "code",
      "execution_count": 3,
      "metadata": {
        "id": "ua2vuHRfa7k2"
      },
      "outputs": [],
      "source": [
        "from PIL import Image\n",
        "import json\n",
        "import torch\n",
        "import torch.nn as nn\n",
        "from torch.utils.data import DataLoader\n",
        "from tqdm import tqdm\n",
        "from tqdm import trange\n",
        "import clip\n",
        "from transformers import CLIPProcessor, CLIPModel\n",
        "from PIL import ImageFile\n",
        "import random\n",
        "from google.colab import files\n",
        "import matplotlib.pyplot as plt\n",
        "import numpy as np\n",
        "from sklearn.metrics import confusion_matrix\n",
        "from sklearn.metrics import ConfusionMatrixDisplay\n",
        "import wandb\n",
        "import pandas as pd\n",
        "import os\n",
        "\n",
        "ImageFile.LOAD_TRUNCATED_IMAGES = True"
      ]
    },
    {
      "cell_type": "code",
      "source": [
        "wandb.login()"
      ],
      "metadata": {
        "colab": {
          "base_uri": "https://localhost:8080/",
          "height": 121
        },
        "id": "QnFRLudMmrJh",
        "outputId": "a91d1347-067c-43c7-8a88-92440e422f4a"
      },
      "execution_count": 4,
      "outputs": [
        {
          "output_type": "display_data",
          "data": {
            "text/plain": [
              "<IPython.core.display.Javascript object>"
            ],
            "application/javascript": [
              "\n",
              "        window._wandbApiKey = new Promise((resolve, reject) => {\n",
              "            function loadScript(url) {\n",
              "            return new Promise(function(resolve, reject) {\n",
              "                let newScript = document.createElement(\"script\");\n",
              "                newScript.onerror = reject;\n",
              "                newScript.onload = resolve;\n",
              "                document.body.appendChild(newScript);\n",
              "                newScript.src = url;\n",
              "            });\n",
              "            }\n",
              "            loadScript(\"https://cdn.jsdelivr.net/npm/postmate/build/postmate.min.js\").then(() => {\n",
              "            const iframe = document.createElement('iframe')\n",
              "            iframe.style.cssText = \"width:0;height:0;border:none\"\n",
              "            document.body.appendChild(iframe)\n",
              "            const handshake = new Postmate({\n",
              "                container: iframe,\n",
              "                url: 'https://wandb.ai/authorize'\n",
              "            });\n",
              "            const timeout = setTimeout(() => reject(\"Couldn't auto authenticate\"), 5000)\n",
              "            handshake.then(function(child) {\n",
              "                child.on('authorize', data => {\n",
              "                    clearTimeout(timeout)\n",
              "                    resolve(data)\n",
              "                });\n",
              "            });\n",
              "            })\n",
              "        });\n",
              "    "
            ]
          },
          "metadata": {}
        },
        {
          "output_type": "stream",
          "name": "stderr",
          "text": [
            "\u001b[34m\u001b[1mwandb\u001b[0m: Logging into wandb.ai. (Learn how to deploy a W&B server locally: https://wandb.me/wandb-server)\n",
            "\u001b[34m\u001b[1mwandb\u001b[0m: You can find your API key in your browser here: https://wandb.ai/authorize\n",
            "wandb: Paste an API key from your profile and hit enter, or press ctrl+c to quit:"
          ]
        },
        {
          "name": "stdout",
          "output_type": "stream",
          "text": [
            " ··········\n"
          ]
        },
        {
          "output_type": "stream",
          "name": "stderr",
          "text": [
            "\u001b[34m\u001b[1mwandb\u001b[0m: Appending key for api.wandb.ai to your netrc file: /root/.netrc\n"
          ]
        },
        {
          "output_type": "execute_result",
          "data": {
            "text/plain": [
              "True"
            ]
          },
          "metadata": {},
          "execution_count": 4
        }
      ]
    },
    {
      "cell_type": "code",
      "source": [
        "wandb.init(\n",
        "      project=\"mlrc\",\n",
        "      name=f\"b32_10eph_countloss_from_ckpt\",\n",
        "      config={\"learning_rate\": 5e-6,\"epochs\": 10,})"
      ],
      "metadata": {
        "colab": {
          "base_uri": "https://localhost:8080/",
          "height": 143
        },
        "id": "Bg_yas7_m85J",
        "outputId": "f35701f0-eff1-4269-c78e-0a0692083ef4"
      },
      "execution_count": 6,
      "outputs": [
        {
          "output_type": "stream",
          "name": "stderr",
          "text": [
            "\u001b[34m\u001b[1mwandb\u001b[0m: Currently logged in as: \u001b[33mharshvardhanmestha\u001b[0m. Use \u001b[1m`wandb login --relogin`\u001b[0m to force relogin\n"
          ]
        },
        {
          "output_type": "display_data",
          "data": {
            "text/plain": [
              "<IPython.core.display.HTML object>"
            ],
            "text/html": [
              "Tracking run with wandb version 0.16.4"
            ]
          },
          "metadata": {}
        },
        {
          "output_type": "display_data",
          "data": {
            "text/plain": [
              "<IPython.core.display.HTML object>"
            ],
            "text/html": [
              "Run data is saved locally in <code>/content/wandb/run-20240320_202645-ak34bl8t</code>"
            ]
          },
          "metadata": {}
        },
        {
          "output_type": "display_data",
          "data": {
            "text/plain": [
              "<IPython.core.display.HTML object>"
            ],
            "text/html": [
              "Syncing run <strong><a href='https://wandb.ai/harshvardhanmestha/mlrc/runs/ak34bl8t' target=\"_blank\">b32_10eph_countloss_from_ckpt</a></strong> to <a href='https://wandb.ai/harshvardhanmestha/mlrc' target=\"_blank\">Weights & Biases</a> (<a href='https://wandb.me/run' target=\"_blank\">docs</a>)<br/>"
            ]
          },
          "metadata": {}
        },
        {
          "output_type": "display_data",
          "data": {
            "text/plain": [
              "<IPython.core.display.HTML object>"
            ],
            "text/html": [
              " View project at <a href='https://wandb.ai/harshvardhanmestha/mlrc' target=\"_blank\">https://wandb.ai/harshvardhanmestha/mlrc</a>"
            ]
          },
          "metadata": {}
        },
        {
          "output_type": "display_data",
          "data": {
            "text/plain": [
              "<IPython.core.display.HTML object>"
            ],
            "text/html": [
              " View run at <a href='https://wandb.ai/harshvardhanmestha/mlrc/runs/ak34bl8t' target=\"_blank\">https://wandb.ai/harshvardhanmestha/mlrc/runs/ak34bl8t</a>"
            ]
          },
          "metadata": {}
        },
        {
          "output_type": "execute_result",
          "data": {
            "text/html": [
              "<button onClick=\"this.nextSibling.style.display='block';this.style.display='none';\">Display W&B run</button><iframe src='https://wandb.ai/harshvardhanmestha/mlrc/runs/ak34bl8t?jupyter=true' style='border:none;width:100%;height:420px;display:none;'></iframe>"
            ],
            "text/plain": [
              "<wandb.sdk.wandb_run.Run at 0x7ac32cedb580>"
            ]
          },
          "metadata": {},
          "execution_count": 6
        }
      ]
    },
    {
      "cell_type": "code",
      "source": [
        "api = wandb.Api()\n",
        "run = api.run(\"harshvardhanmestha/mlrc/i7ec4x4d\")\n",
        "run.file(\"model_9.pt\").download()"
      ],
      "metadata": {
        "colab": {
          "base_uri": "https://localhost:8080/"
        },
        "id": "W-TYRjmojSO9",
        "outputId": "34dc73cb-2219-4aaf-cd80-adc16bfce294"
      },
      "execution_count": 9,
      "outputs": [
        {
          "output_type": "execute_result",
          "data": {
            "text/plain": [
              "<_io.TextIOWrapper name='./model_9.pt' mode='r' encoding='UTF-8'>"
            ]
          },
          "metadata": {},
          "execution_count": 9
        }
      ]
    },
    {
      "cell_type": "code",
      "execution_count": 18,
      "metadata": {
        "id": "ii_L5G_9nx7u"
      },
      "outputs": [],
      "source": [
        "json_path = '/content/merged.json'\n",
        "image_path = '/content/data/merged'\n",
        "val_image_path = '/content/data/VAL'\n",
        "val_json_path = '/content/val.json'\n",
        "faulty_path = '/content/faulty.csv'"
      ]
    },
    {
      "cell_type": "code",
      "execution_count": 11,
      "metadata": {
        "id": "8En1MJTkp_vz",
        "colab": {
          "base_uri": "https://localhost:8080/"
        },
        "outputId": "3ed6210e-0c62-4bd5-c179-d7815dcded49"
      },
      "outputs": [
        {
          "output_type": "stream",
          "name": "stderr",
          "text": [
            "100%|██████████| 100/100 [00:00<00:00, 70504.35it/s]\n"
          ]
        }
      ],
      "source": [
        "with open(json_path, 'r') as f:\n",
        "    input_data = []\n",
        "    for line in f:\n",
        "        obj = json.loads(line)\n",
        "        input_data.append(obj)\n",
        "\n",
        "faulty = pd.read_csv(faulty_path)\n",
        "indexes = list(faulty[\"index\"])\n",
        "json_strs = list(faulty[\"json_str\"])\n",
        "\n",
        "for i in trange(len(indexes)):\n",
        "  input_data[int(indexes[i])] = json.loads(json_strs[i])\n"
      ]
    },
    {
      "cell_type": "code",
      "execution_count": 13,
      "metadata": {
        "id": "VExIkQiya-jo",
        "colab": {
          "base_uri": "https://localhost:8080/"
        },
        "outputId": "d9488a0a-ae05-4c68-bd67-1345820c4461"
      },
      "outputs": [
        {
          "output_type": "execute_result",
          "data": {
            "text/plain": [
              "<All keys matched successfully>"
            ]
          },
          "metadata": {},
          "execution_count": 13
        }
      ],
      "source": [
        "model = CLIPModel.from_pretrained(\"openai/clip-vit-base-patch32\")\n",
        "processor = CLIPProcessor.from_pretrained(\"openai/clip-vit-base-patch32\")\n",
        "device = \"cuda\" if torch.cuda.is_available() else \"cpu\"\n",
        "model, preprocess = clip.load(\"ViT-B/32\", device=device, jit=False)\n",
        "\n",
        "checkpoint = torch.load('model_9.pt')\n",
        "model.load_state_dict(checkpoint)\n"
      ]
    },
    {
      "cell_type": "code",
      "execution_count": 19,
      "metadata": {
        "id": "9fKIzLB8bWa7"
      },
      "outputs": [],
      "source": [
        "class image_title_dataset():\n",
        "    def __init__(self, list_image_path,list_txt,list_txt_cf):\n",
        "        # Initialize image paths and corresponding texts\n",
        "        self.image_path = list_image_path\n",
        "        # Tokenize text using CLIP's tokenizer\n",
        "        self.title  = clip.tokenize(list_txt)\n",
        "        self.cf_title = clip.tokenize(list_txt_cf)\n",
        "\n",
        "    def __len__(self):\n",
        "        return len(self.title)\n",
        "\n",
        "    def __getitem__(self, idx):\n",
        "        # Preprocess image using CLIP's preprocessing function\n",
        "        image = preprocess(Image.open(self.image_path[idx]))\n",
        "        title = self.title[idx]\n",
        "        cf_title = self.cf_title[idx]\n",
        "        return image, title, cf_title"
      ]
    },
    {
      "cell_type": "code",
      "source": [
        "num2word = {1 : 'one', 2 : 'two', 3 : 'three', 4 : 'four', 5 : 'five',\n",
        "               6 : 'six', 7 : 'seven', 8 : 'eight', 9 : 'nine', 10 : 'ten'}"
      ],
      "metadata": {
        "id": "5j4LLDvbCgJK"
      },
      "execution_count": 20,
      "outputs": []
    },
    {
      "cell_type": "code",
      "source": [
        "def generate_caps(cap,count,counterfactual=False):\n",
        "  val_caps = []\n",
        "  if counterfactual==False:\n",
        "    for c in list(set(range(1,11)) - set([1])):\n",
        "      val_cap = cap.replace(num2word[count],num2word[c])\n",
        "      val_caps.append(val_cap)\n",
        "\n",
        "  if counterfactual==True:\n",
        "    l = list(set(range(1,11)) - set([1,count]))\n",
        "    n = random.choice(l)\n",
        "    val_caps = cap.replace(num2word[count],num2word[n])\n",
        "\n",
        "  return val_caps"
      ],
      "metadata": {
        "id": "FJA9EV5kCN_t"
      },
      "execution_count": 21,
      "outputs": []
    },
    {
      "cell_type": "code",
      "execution_count": 22,
      "metadata": {
        "id": "8TldEVgqqfMR",
        "colab": {
          "base_uri": "https://localhost:8080/"
        },
        "outputId": "43c40d51-05b4-4e0e-d418-3911e109bf17"
      },
      "outputs": [
        {
          "output_type": "stream",
          "name": "stderr",
          "text": [
            "  3%|▎         | 57/2101 [00:02<02:06, 16.17it/s]/usr/local/lib/python3.10/dist-packages/PIL/Image.py:996: UserWarning: Palette images with Transparency expressed in bytes should be converted to RGBA images\n",
            "  warnings.warn(\n",
            "100%|██████████| 2101/2101 [01:27<00:00, 24.09it/s]\n"
          ]
        },
        {
          "output_type": "stream",
          "name": "stdout",
          "text": [
            "\n",
            "Data and model ready.\n"
          ]
        }
      ],
      "source": [
        "list_image_path = []\n",
        "list_txt = []\n",
        "list_txt_cf = []\n",
        "\n",
        "for item in input_data:\n",
        "  img_path = image_path +str('/')+ item['pths'].split('/')[-1]\n",
        "  caption = item['caps'][:110]\n",
        "  # caption = item['caps']\n",
        "  counts = item['counts']\n",
        "\n",
        "  if counts>0:\n",
        "    cf_cap = generate_caps(caption.lower(),counts,counterfactual=True)\n",
        "    list_txt_cf.extend([cf_cap] * 5)\n",
        "\n",
        "  list_image_path.append(img_path)\n",
        "  list_txt.append(caption)\n",
        "\n",
        "dataset = image_title_dataset(list_image_path, list_txt, list_txt_cf)\n",
        "train_dataloader = DataLoader(dataset, batch_size=5, shuffle=False) #Define your own dataloader\n",
        "\n",
        "# Function to convert model's parameters to FP32 format\n",
        "def convert_models_to_fp32(model):\n",
        "    for p in model.parameters():\n",
        "        p.data = p.data.float()\n",
        "        p.grad.data = p.grad.data.float()\n",
        "\n",
        "if device == \"cpu\":\n",
        "  model.double()\n",
        "\n",
        "# Prepare the optimizer\n",
        "optimizer = torch.optim.Adam(model.parameters(), lr=5e-6,betas=(0.9,0.98),eps=5e-6,weight_decay=0.2) # the lr is smaller, more safe for fine tuning to new dataset\n",
        "\n",
        "# linear = torch.optim.lr_scheduler.LinearLR(optimizer, start_factor=5e-6, total_iters=25)\n",
        "# cosine = torch.optim.lr_scheduler.CosineAnnealingWarmRestarts(optimizer,T_0=5,last_epoch=50)\n",
        "# scheduler = torch.optim.lr_scheduler.SequentialLR(optimizer, schedulers=[linear,cosine], milestones=[25])\n",
        "\n",
        "# data check\n",
        "pbar = tqdm(train_dataloader, total=len(train_dataloader))\n",
        "for batch in pbar:\n",
        "  pass\n",
        "\n",
        "print(\"\\nData and model ready.\")\n",
        "\n",
        "\n"
      ]
    },
    {
      "cell_type": "code",
      "execution_count": 26,
      "metadata": {
        "id": "SCYq89ZS6WPG"
      },
      "outputs": [],
      "source": [
        "loss_img = nn.CrossEntropyLoss()\n",
        "loss_txt = nn.CrossEntropyLoss()\n",
        "\n",
        "def count_loss(ei,ek,ek_cf):\n",
        "\n",
        "    ei = torch.squeeze(ei).to(torch.float64)\n",
        "    ek = torch.squeeze(ek).to(torch.float64)\n",
        "    ek_cf = torch.squeeze(ek_cf).to(torch.float64)\n",
        "\n",
        "    loss = -torch.log(torch.exp(torch.dot(ei,ek))/(torch.exp(torch.dot(ei,ek))+torch.exp(torch.dot(ei,ek_cf))))\n",
        "\n",
        "    return loss\n"
      ]
    },
    {
      "cell_type": "code",
      "execution_count": null,
      "metadata": {
        "id": "UOiSbC3jrd4k",
        "colab": {
          "base_uri": "https://localhost:8080/"
        },
        "outputId": "8434220e-a136-4894-a709-214e2fcdd7ed"
      },
      "outputs": [
        {
          "output_type": "stream",
          "name": "stderr",
          "text": [
            "Epoch 0/10, Loss: 1.0109:   3%|▎         | 58/2101 [00:15<08:39,  3.93it/s]/usr/local/lib/python3.10/dist-packages/PIL/Image.py:996: UserWarning: Palette images with Transparency expressed in bytes should be converted to RGBA images\n",
            "  warnings.warn(\n",
            "Epoch 0/10, Loss: 0.0310: 100%|██████████| 2101/2101 [09:20<00:00,  3.75it/s]\n",
            "Epoch 1/10, Loss: 0.1701: 100%|██████████| 2101/2101 [09:21<00:00,  3.74it/s]\n",
            "Epoch 2/10, Loss: 0.3275: 100%|██████████| 2101/2101 [09:19<00:00,  3.75it/s]\n",
            "Epoch 3/10, Loss: 0.0823: 100%|██████████| 2101/2101 [09:11<00:00,  3.81it/s]\n",
            "Epoch 4/10, Loss: 0.1021:  69%|██████▉   | 1452/2101 [06:19<02:59,  3.61it/s]"
          ]
        }
      ],
      "source": [
        "# Train the model\n",
        "full_arr = []\n",
        "loss_arr = []\n",
        "num_epochs = 10\n",
        "\n",
        "for epoch in range(num_epochs):\n",
        "    pbar = tqdm(train_dataloader, total=len(train_dataloader))\n",
        "    loss_arr = []\n",
        "    for batch in pbar:\n",
        "\n",
        "        optimizer.zero_grad()\n",
        "        images,texts,cf_texts = batch\n",
        "\n",
        "        images = images.to(device)\n",
        "        texts = texts.to(device)\n",
        "        cf_texts = cf_texts.to(device)\n",
        "\n",
        "        encoded_imgs = model.encode_image(images)\n",
        "        encoded_texts = model.encode_text(texts)\n",
        "        encoded_cf_texts = model.encode_text(torch.unsqueeze(cf_texts[4], 0))\n",
        "\n",
        "        nc_enc_imgs = encoded_imgs[0:4]\n",
        "        nc_enc_texts = encoded_texts[0:4]\n",
        "\n",
        "        c_enc_imgs = encoded_imgs[4:]\n",
        "        c_enc_texts = encoded_texts[4:]\n",
        "\n",
        "        ei = c_enc_imgs\n",
        "        ek = c_enc_texts\n",
        "        ek_cf = encoded_cf_texts\n",
        "\n",
        "        counting_loss = count_loss(ei,ek,ek_cf)\n",
        "\n",
        "        # Forward pass\n",
        "        logits_per_image, logits_per_text = model(images, texts)\n",
        "\n",
        "        # Compute loss\n",
        "        ground_truth = torch.arange(len(images),dtype=torch.long,device=device)\n",
        "        total_loss = ((loss_img(logits_per_image,ground_truth) + loss_txt(logits_per_text,ground_truth))/2) + counting_loss\n",
        "        loss_arr.append(total_loss.item())\n",
        "        # Backward pass\n",
        "        total_loss.backward()\n",
        "        if device == \"cpu\":\n",
        "            optimizer.step()\n",
        "        else:\n",
        "            convert_models_to_fp32(model)\n",
        "            optimizer.step()\n",
        "            clip.model.convert_weights(model)\n",
        "        wandb.log({\"per_step_loss\": total_loss.item()})\n",
        "        pbar.set_description(f\"Epoch {epoch}/{num_epochs}, Loss: {total_loss.item():.4f}\")\n",
        "\n",
        "    if (epoch+1) % 10 == 0:\n",
        "      torch.save(model.state_dict(), os.path.join(wandb.run.dir, f\"model_{epoch}.pt\"))\n",
        "      with open(f'loss_data_{epoch}.npy', 'wb+') as f:\n",
        "        np.save(f, np.array(full_arr))\n",
        "\n",
        "    wandb.log({\"per_epoch_loss\": np.mean(loss_arr)})\n",
        "    full_arr.append(loss_arr)\n",
        "\n",
        "\n"
      ]
    },
    {
      "cell_type": "code",
      "source": [
        "with open(val_json_path, 'r') as f:\n",
        "    val_input_data = []\n",
        "    for line in f:\n",
        "        obj = json.loads(line)\n",
        "        val_input_data.append(obj)\n",
        "all_sims = []\n",
        "c = 0\n",
        "\n",
        "with torch.no_grad():\n",
        "  for i in trange(len(val_input_data)):\n",
        "    try:\n",
        "      sims = []\n",
        "      img = Image.open(val_input_data[i]['pths'])\n",
        "      val_caps = generate_caps(val_input_data[i]['caps'].lower(),val_input_data[i]['counts'])\n",
        "      x = preprocess(img).to(device)\n",
        "      encoded_image = model.encode_image(torch.unsqueeze(x, 0))\n",
        "      encoded_image = encoded_image.to(device)\n",
        "\n",
        "      for j in range(9):\n",
        "        tokenized_text = clip.tokenize(val_caps[j]).to(device)\n",
        "        encoded_text = model.encode_text(tokenized_text)\n",
        "        encoded_text = encoded_text.to(device)\n",
        "\n",
        "        similarity = torch.cosine_similarity(encoded_text, encoded_image)\n",
        "        sims.append(float(similarity))\n",
        "      all_sims.append((sims,val_input_data[i]['counts']))\n",
        "    except:\n",
        "      c=c+1\n",
        "      pass\n",
        "\n",
        "print(len(all_sims))\n",
        "print(c)\n"
      ],
      "metadata": {
        "id": "XrIqTMvvBToy",
        "colab": {
          "base_uri": "https://localhost:8080/"
        },
        "outputId": "2bc13ea5-344d-4bff-f422-8a2b29e6f766"
      },
      "execution_count": 23,
      "outputs": [
        {
          "output_type": "stream",
          "name": "stderr",
          "text": [
            "100%|██████████| 540/540 [00:54<00:00,  9.99it/s]\n"
          ]
        },
        {
          "output_type": "stream",
          "name": "stdout",
          "text": [
            "500\n",
            "40\n"
          ]
        }
      ]
    },
    {
      "cell_type": "code",
      "source": [
        "def get_preds(all_sims):\n",
        "  y = []\n",
        "  y_pred = []\n",
        "\n",
        "  for i in range(len(all_sims)):\n",
        "    y_pred.append(all_sims[i][0].index(max(all_sims[i][0]))+2)\n",
        "    y.append(all_sims[i][1])\n",
        "\n",
        "  return y_pred,y\n",
        "\n",
        "y_pred,y = get_preds(all_sims)\n"
      ],
      "metadata": {
        "id": "E0guxSneh3U0"
      },
      "execution_count": 24,
      "outputs": []
    },
    {
      "cell_type": "code",
      "source": [
        "lbls = []\n",
        "for i in range(len(np.unique(y))):\n",
        "  lbls.append(num2word[np.unique(y)[i]])\n",
        "\n",
        "labels = lbls\n",
        "\n",
        "cf_matrix = confusion_matrix(y, y_pred)\n",
        "cm_display = ConfusionMatrixDisplay(confusion_matrix = cf_matrix, display_labels = labels)\n",
        "\n",
        "cm_display.plot()\n",
        "plt.savefig(os.path.join(wandb.run.dir, f\"count.pdf\"))\n",
        "files.download(os.path.join(wandb.run.dir, f\"count.pdf\"))\n",
        "plt.show()\n",
        "\n"
      ],
      "metadata": {
        "id": "8AWVzzYHkwOT",
        "colab": {
          "base_uri": "https://localhost:8080/",
          "height": 449
        },
        "outputId": "94bfa61f-561f-4e4f-e6d4-2b9f27469d44"
      },
      "execution_count": 25,
      "outputs": [
        {
          "output_type": "display_data",
          "data": {
            "text/plain": [
              "<IPython.core.display.Javascript object>"
            ],
            "application/javascript": [
              "\n",
              "    async function download(id, filename, size) {\n",
              "      if (!google.colab.kernel.accessAllowed) {\n",
              "        return;\n",
              "      }\n",
              "      const div = document.createElement('div');\n",
              "      const label = document.createElement('label');\n",
              "      label.textContent = `Downloading \"${filename}\": `;\n",
              "      div.appendChild(label);\n",
              "      const progress = document.createElement('progress');\n",
              "      progress.max = size;\n",
              "      div.appendChild(progress);\n",
              "      document.body.appendChild(div);\n",
              "\n",
              "      const buffers = [];\n",
              "      let downloaded = 0;\n",
              "\n",
              "      const channel = await google.colab.kernel.comms.open(id);\n",
              "      // Send a message to notify the kernel that we're ready.\n",
              "      channel.send({})\n",
              "\n",
              "      for await (const message of channel.messages) {\n",
              "        // Send a message to notify the kernel that we're ready.\n",
              "        channel.send({})\n",
              "        if (message.buffers) {\n",
              "          for (const buffer of message.buffers) {\n",
              "            buffers.push(buffer);\n",
              "            downloaded += buffer.byteLength;\n",
              "            progress.value = downloaded;\n",
              "          }\n",
              "        }\n",
              "      }\n",
              "      const blob = new Blob(buffers, {type: 'application/binary'});\n",
              "      const a = document.createElement('a');\n",
              "      a.href = window.URL.createObjectURL(blob);\n",
              "      a.download = filename;\n",
              "      div.appendChild(a);\n",
              "      a.click();\n",
              "      div.remove();\n",
              "    }\n",
              "  "
            ]
          },
          "metadata": {}
        },
        {
          "output_type": "display_data",
          "data": {
            "text/plain": [
              "<IPython.core.display.Javascript object>"
            ],
            "application/javascript": [
              "download(\"download_f520c45e-3acf-487a-8f7b-e7acf1a87b26\", \"count.pdf\", 16823)"
            ]
          },
          "metadata": {}
        },
        {
          "output_type": "display_data",
          "data": {
            "text/plain": [
              "<Figure size 640x480 with 2 Axes>"
            ],
            "image/png": "[encoded data removed]"
          },
          "metadata": {}
        }
      ]
    },
    {
      "cell_type": "code",
      "source": [
        "wandb.finish()"
      ],
      "metadata": {
        "id": "N7iw0ZBYE-l7",
        "colab": {
          "base_uri": "https://localhost:8080/",
          "height": 81,
          "referenced_widgets": [
            "abc30b3b666f4fe3ab3fb5c7371b487d",
            "2c460088849d4c3c9cdb7d41c0860641",
            "2d475d9b61dc40a894e260994d42565d",
            "749a06b1e0f74e3baffc91c08e0e80c3",
            "64e39820bc694f0681f0e55c2abee776",
            "a55bad2ecbfe42b58c8a2765420cba36",
            "50d864f394ed420089ae1d8a663887af",
            "c6bc8bafe156442eb76c48871b62e656"
          ]
        },
        "outputId": "c05f4b9d-3d44-4b06-b728-e2a24b3ca482"
      },
      "execution_count": null,
      "outputs": [
        {
          "output_type": "display_data",
          "data": {
            "text/plain": [
              "VBox(children=(Label(value='0.797 MB of 0.797 MB uploaded\\r'), FloatProgress(value=1.0, max=1.0)))"
            ],
            "application/vnd.jupyter.widget-view+json": {
              "version_major": 2,
              "version_minor": 0,
              "model_id": "abc30b3b666f4fe3ab3fb5c7371b487d"
            }
          },
          "metadata": {}
        }
      ]
    },
    {
      "cell_type": "code",
      "source": [
        "from google.colab import runtime\n",
        "runtime.unassign()\n"
      ],
      "metadata": {
        "id": "It-EdmwBNDvi"
      },
      "execution_count": null,
      "outputs": []
    }
  ],
  "metadata": {
    "colab": {
      "provenance": [],
      "gpuType": "T4"
    },
    "kernelspec": {
      "display_name": "Python 3",
      "name": "python3"
    },
    "language_info": {
      "name": "python"
    },
    "accelerator": "GPU",
    "widgets": {
      "application/vnd.jupyter.widget-state+json": {
        "abc30b3b666f4fe3ab3fb5c7371b487d": {
          "model_module": "@jupyter-widgets/controls",
          "model_name": "VBoxModel",
          "model_module_version": "1.5.0",
          "state": {
            "_dom_classes": [],
            "_model_module": "@jupyter-widgets/controls",
            "_model_module_version": "1.5.0",
            "_model_name": "VBoxModel",
            "_view_count": null,
            "_view_module": "@jupyter-widgets/controls",
            "_view_module_version": "1.5.0",
            "_view_name": "VBoxView",
            "box_style": "",
            "children": [
              "IPY_MODEL_2c460088849d4c3c9cdb7d41c0860641",
              "IPY_MODEL_2d475d9b61dc40a894e260994d42565d"
            ],
            "layout": "IPY_MODEL_749a06b1e0f74e3baffc91c08e0e80c3"
          }
        },
        "2c460088849d4c3c9cdb7d41c0860641": {
          "model_module": "@jupyter-widgets/controls",
          "model_name": "LabelModel",
          "model_module_version": "1.5.0",
          "state": {
            "_dom_classes": [],
            "_model_module": "@jupyter-widgets/controls",
            "_model_module_version": "1.5.0",
            "_model_name": "LabelModel",
            "_view_count": null,
            "_view_module": "@jupyter-widgets/controls",
            "_view_module_version": "1.5.0",
            "_view_name": "LabelView",
            "description": "",
            "description_tooltip": null,
            "layout": "IPY_MODEL_64e39820bc694f0681f0e55c2abee776",
            "placeholder": "​",
            "style": "IPY_MODEL_a55bad2ecbfe42b58c8a2765420cba36",
            "value": "276.353 MB of 338.070 MB uploaded\r"
          }
        },
        "2d475d9b61dc40a894e260994d42565d": {
          "model_module": "@jupyter-widgets/controls",
          "model_name": "FloatProgressModel",
          "model_module_version": "1.5.0",
          "state": {
            "_dom_classes": [],
            "_model_module": "@jupyter-widgets/controls",
            "_model_module_version": "1.5.0",
            "_model_name": "FloatProgressModel",
            "_view_count": null,
            "_view_module": "@jupyter-widgets/controls",
            "_view_module_version": "1.5.0",
            "_view_name": "ProgressView",
            "bar_style": "",
            "description": "",
            "description_tooltip": null,
            "layout": "IPY_MODEL_50d864f394ed420089ae1d8a663887af",
            "max": 1,
            "min": 0,
            "orientation": "horizontal",
            "style": "IPY_MODEL_c6bc8bafe156442eb76c48871b62e656",
            "value": 0.8174414204581508
          }
        },
        "749a06b1e0f74e3baffc91c08e0e80c3": {
          "model_module": "@jupyter-widgets/base",
          "model_name": "LayoutModel",
          "model_module_version": "1.2.0",
          "state": {
            "_model_module": "@jupyter-widgets/base",
            "_model_module_version": "1.2.0",
            "_model_name": "LayoutModel",
            "_view_count": null,
            "_view_module": "@jupyter-widgets/base",
            "_view_module_version": "1.2.0",
            "_view_name": "LayoutView",
            "align_content": null,
            "align_items": null,
            "align_self": null,
            "border": null,
            "bottom": null,
            "display": null,
            "flex": null,
            "flex_flow": null,
            "grid_area": null,
            "grid_auto_columns": null,
            "grid_auto_flow": null,
            "grid_auto_rows": null,
            "grid_column": null,
            "grid_gap": null,
            "grid_row": null,
            "grid_template_areas": null,
            "grid_template_columns": null,
            "grid_template_rows": null,
            "height": null,
            "justify_content": null,
            "justify_items": null,
            "left": null,
            "margin": null,
            "max_height": null,
            "max_width": null,
            "min_height": null,
            "min_width": null,
            "object_fit": null,
            "object_position": null,
            "order": null,
            "overflow": null,
            "overflow_x": null,
            "overflow_y": null,
            "padding": null,
            "right": null,
            "top": null,
            "visibility": null,
            "width": null
          }
        },
        "64e39820bc694f0681f0e55c2abee776": {
          "model_module": "@jupyter-widgets/base",
          "model_name": "LayoutModel",
          "model_module_version": "1.2.0",
          "state": {
            "_model_module": "@jupyter-widgets/base",
            "_model_module_version": "1.2.0",
            "_model_name": "LayoutModel",
            "_view_count": null,
            "_view_module": "@jupyter-widgets/base",
            "_view_module_version": "1.2.0",
            "_view_name": "LayoutView",
            "align_content": null,
            "align_items": null,
            "align_self": null,
            "border": null,
            "bottom": null,
            "display": null,
            "flex": null,
            "flex_flow": null,
            "grid_area": null,
            "grid_auto_columns": null,
            "grid_auto_flow": null,
            "grid_auto_rows": null,
            "grid_column": null,
            "grid_gap": null,
            "grid_row": null,
            "grid_template_areas": null,
            "grid_template_columns": null,
            "grid_template_rows": null,
            "height": null,
            "justify_content": null,
            "justify_items": null,
            "left": null,
            "margin": null,
            "max_height": null,
            "max_width": null,
            "min_height": null,
            "min_width": null,
            "object_fit": null,
            "object_position": null,
            "order": null,
            "overflow": null,
            "overflow_x": null,
            "overflow_y": null,
            "padding": null,
            "right": null,
            "top": null,
            "visibility": null,
            "width": null
          }
        },
        "a55bad2ecbfe42b58c8a2765420cba36": {
          "model_module": "@jupyter-widgets/controls",
          "model_name": "DescriptionStyleModel",
          "model_module_version": "1.5.0",
          "state": {
            "_model_module": "@jupyter-widgets/controls",
            "_model_module_version": "1.5.0",
            "_model_name": "DescriptionStyleModel",
            "_view_count": null,
            "_view_module": "@jupyter-widgets/base",
            "_view_module_version": "1.2.0",
            "_view_name": "StyleView",
            "description_width": ""
          }
        },
        "50d864f394ed420089ae1d8a663887af": {
          "model_module": "@jupyter-widgets/base",
          "model_name": "LayoutModel",
          "model_module_version": "1.2.0",
          "state": {
            "_model_module": "@jupyter-widgets/base",
            "_model_module_version": "1.2.0",
            "_model_name": "LayoutModel",
            "_view_count": null,
            "_view_module": "@jupyter-widgets/base",
            "_view_module_version": "1.2.0",
            "_view_name": "LayoutView",
            "align_content": null,
            "align_items": null,
            "align_self": null,
            "border": null,
            "bottom": null,
            "display": null,
            "flex": null,
            "flex_flow": null,
            "grid_area": null,
            "grid_auto_columns": null,
            "grid_auto_flow": null,
            "grid_auto_rows": null,
            "grid_column": null,
            "grid_gap": null,
            "grid_row": null,
            "grid_template_areas": null,
            "grid_template_columns": null,
            "grid_template_rows": null,
            "height": null,
            "justify_content": null,
            "justify_items": null,
            "left": null,
            "margin": null,
            "max_height": null,
            "max_width": null,
            "min_height": null,
            "min_width": null,
            "object_fit": null,
            "object_position": null,
            "order": null,
            "overflow": null,
            "overflow_x": null,
            "overflow_y": null,
            "padding": null,
            "right": null,
            "top": null,
            "visibility": null,
            "width": null
          }
        },
        "c6bc8bafe156442eb76c48871b62e656": {
          "model_module": "@jupyter-widgets/controls",
          "model_name": "ProgressStyleModel",
          "model_module_version": "1.5.0",
          "state": {
            "_model_module": "@jupyter-widgets/controls",
            "_model_module_version": "1.5.0",
            "_model_name": "ProgressStyleModel",
            "_view_count": null,
            "_view_module": "@jupyter-widgets/base",
            "_view_module_version": "1.2.0",
            "_view_name": "StyleView",
            "bar_color": null,
            "description_width": ""
          }
        }
      }
    }
  },
  "nbformat": 4,
  "nbformat_minor": 0
}