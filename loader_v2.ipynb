{
 "cells": [
  {
   "cell_type": "code",
   "execution_count": 20,
   "metadata": {},
   "outputs": [],
   "source": [
    "import json\n",
    "import pandas as pd\n",
    "import numpy as np\n",
    "import urllib3\n",
    "from tqdm import trange\n",
    "import os\n",
    "import torch\n",
    "from ultralytics import YOLO\n",
    "\n",
    "\n"
   ]
  },
  {
   "cell_type": "code",
   "execution_count": 21,
   "metadata": {},
   "outputs": [
    {
     "name": "stdout",
     "output_type": "stream",
     "text": [
      "(12933524, 8)\n"
     ]
    }
   ],
   "source": [
    "metadata = pd.read_parquet(\"dataset/the-eye.eu/public/AI/cah/laion400m-met-release/laion400m-meta/part-00000-5b54c5d5-bbcf-484d-a2ce-0d6f73df1a36-c000.snappy.parquet\")\n",
    "print(metadata.shape)\n",
    "metadata = metadata[0:20000]"
   ]
  },
  {
   "cell_type": "code",
   "execution_count": 22,
   "metadata": {},
   "outputs": [],
   "source": [
    "model = YOLO(\"yolov8n.pt\")\n",
    "IMG_FORMATS = ['bmp', 'dng', 'jpeg', 'jpg', 'mpo', 'png', 'tif', 'tiff', 'webp', 'pfm']\n",
    "urls_raw = list(metadata[\"URL\"])\n",
    "caps_raw = list(metadata[\"TEXT\"])"
   ]
  },
  {
   "cell_type": "code",
   "execution_count": 23,
   "metadata": {},
   "outputs": [
    {
     "data": {
      "text/html": [
       "<div>\n",
       "<style scoped>\n",
       "    .dataframe tbody tr th:only-of-type {\n",
       "        vertical-align: middle;\n",
       "    }\n",
       "\n",
       "    .dataframe tbody tr th {\n",
       "        vertical-align: top;\n",
       "    }\n",
       "\n",
       "    .dataframe thead th {\n",
       "        text-align: right;\n",
       "    }\n",
       "</style>\n",
       "<table border=\"1\" class=\"dataframe\">\n",
       "  <thead>\n",
       "    <tr style=\"text-align: right;\">\n",
       "      <th></th>\n",
       "      <th>SAMPLE_ID</th>\n",
       "      <th>URL</th>\n",
       "      <th>TEXT</th>\n",
       "      <th>HEIGHT</th>\n",
       "      <th>WIDTH</th>\n",
       "      <th>LICENSE</th>\n",
       "      <th>NSFW</th>\n",
       "      <th>similarity</th>\n",
       "    </tr>\n",
       "  </thead>\n",
       "  <tbody>\n",
       "    <tr>\n",
       "      <th>0</th>\n",
       "      <td>1.581282e+12</td>\n",
       "      <td>http://media.rightmove.co.uk/148k/147518/58718...</td>\n",
       "      <td>View EPC Rating Graph for this property</td>\n",
       "      <td>109.0</td>\n",
       "      <td>100.0</td>\n",
       "      <td>?</td>\n",
       "      <td>UNSURE</td>\n",
       "      <td>0.312813</td>\n",
       "    </tr>\n",
       "  </tbody>\n",
       "</table>\n",
       "</div>"
      ],
      "text/plain": [
       "      SAMPLE_ID                                                URL  \\\n",
       "0  1.581282e+12  http://media.rightmove.co.uk/148k/147518/58718...   \n",
       "\n",
       "                                      TEXT  HEIGHT  WIDTH LICENSE    NSFW  \\\n",
       "0  View EPC Rating Graph for this property   109.0  100.0       ?  UNSURE   \n",
       "\n",
       "   similarity  \n",
       "0    0.312813  "
      ]
     },
     "execution_count": 23,
     "metadata": {},
     "output_type": "execute_result"
    }
   ],
   "source": [
    "metadata[0:1]"
   ]
  },
  {
   "cell_type": "code",
   "execution_count": 31,
   "metadata": {},
   "outputs": [
    {
     "data": {
      "text/plain": [
       "(False, -1)"
      ]
     },
     "execution_count": 31,
     "metadata": {},
     "output_type": "execute_result"
    }
   ],
   "source": [
    "import re\n",
    "def cap_parse(cap):\n",
    "    nums = []\n",
    "    x = re.findall(r'\\b(two|three|four|five|six|seven|eight|nine|ten)\\b', cap, flags=re.IGNORECASE)\n",
    "    num2word = {\n",
    "        'two':2,\n",
    "        'three':3,\n",
    "        'four':4,\n",
    "        'five':5,\n",
    "        'six':6,\n",
    "        'seven':7,\n",
    "        'eight':8,\n",
    "        'nine':9,\n",
    "        'ten':10\n",
    "    }\n",
    "    if len(x) == 0 :return (False,-1)\n",
    "    else:\n",
    "        max_freq = max(num2word[i.lower()] for i in x)\n",
    "        return (True,max_freq)\n",
    "    \n",
    "\n",
    "txt0 = \"vintage silver plate tablespoons, serving spoon set of six 1847 Rogers pattern\"\n",
    "txt1 = \"A preview of seven printable dot marker coloring pages. Each page has a large 4th of July themed image with dots to color in with a dauber style marker.\"\n",
    "txt2 = \"bag of chips\"\n",
    "cap_parse(txt2)\n"
   ]
  },
  {
   "cell_type": "code",
   "execution_count": 32,
   "metadata": {},
   "outputs": [],
   "source": [
    "\n",
    "def validate_urls(urls,caps):\n",
    "    valid_urls = []\n",
    "    valid_caps = []\n",
    "    for url,cap in zip(urls,caps):\n",
    "        for img_format in IMG_FORMATS:\n",
    "            idx = url.lower().find(\".\" + img_format)\n",
    "            if idx == -1:\n",
    "                continue\n",
    "            valid_urls.append(url[:idx + len(img_format) + 1])\n",
    "            valid_caps.append(cap)\n",
    "    return (valid_urls,valid_caps)\n",
    "\n",
    "\n"
   ]
  },
  {
   "cell_type": "code",
   "execution_count": 33,
   "metadata": {},
   "outputs": [],
   "source": [
    "def validate_counts(counting):\n",
    "    final = []\n",
    "    for i in range(len(counting)):\n",
    "        x,cap,url,num = counting[i]\n",
    "        if max(set(x)) == num:\n",
    "            final.append(counting[i])    "
   ]
  },
  {
   "cell_type": "code",
   "execution_count": 34,
   "metadata": {},
   "outputs": [],
   "source": [
    "def save_counts(counting):    \n",
    "    print(len(counting))\n",
    "    counting[0:5]\n",
    "    f = open(\"segments0.npy\",\"wb\")\n",
    "    np.save(f,pd.DataFrame(counting))\n",
    "    print(\"counting set saved\")\n"
   ]
  },
  {
   "cell_type": "code",
   "execution_count": 35,
   "metadata": {},
   "outputs": [],
   "source": [
    "\n",
    "def filter_laion(urls_raw,caps_raw):\n",
    "    urls,caps = validate_urls(urls_raw,caps_raw)\n",
    "    counting = []\n",
    "    for i in trange(2000):\n",
    "        cap_data = cap_parse(caps[i])\n",
    "        # print(cap_data,caps[i])\n",
    "        if cap_data[0] == True:\n",
    "            try:\n",
    "                results = model(str(urls[i]),verbose=False,stream=False)\n",
    "                x = list(results[0].boxes.cls)\n",
    "            except:\n",
    "                x = []\n",
    "            counting.append((x,urls[i],caps[i],cap_data[1]))\n",
    "    # counting = validate_counts(counting)\n",
    "    \n",
    "    return counting\n",
    "\n",
    "        "
   ]
  },
  {
   "cell_type": "code",
   "execution_count": 36,
   "metadata": {},
   "outputs": [
    {
     "name": "stderr",
     "output_type": "stream",
     "text": [
      "  0%|          | 0/2000 [00:00<?, ?it/s]"
     ]
    },
    {
     "name": "stdout",
     "output_type": "stream",
     "text": [
      "Found http://mediad.publicbroadcasting.net/p/nwpr/files/styles/card_280/public/201211/110912AK_Coldpress_3.jpg locally at 110912AK_Coldpress_3.jpg\n"
     ]
    },
    {
     "name": "stderr",
     "output_type": "stream",
     "text": [
      "  7%|▋         | 133/2000 [00:00<00:02, 690.99it/s]"
     ]
    },
    {
     "name": "stdout",
     "output_type": "stream",
     "text": [
      "Found http://www.pinkdiamondusa.com/media/catalog/product/cache/1/small_image/150x150/9df78eab33525d08d6e5fb8d27136e95/L/Q/LQ7829P_3.jpg locally at LQ7829P_3.jpg\n",
      "Found https://static1.bigstockphoto.com/thumbs/7/3/1/large2/137946380.jpg locally at 137946380.jpg\n"
     ]
    },
    {
     "name": "stderr",
     "output_type": "stream",
     "text": [
      " 17%|█▋        | 333/2000 [00:00<00:02, 699.28it/s]"
     ]
    },
    {
     "name": "stdout",
     "output_type": "stream",
     "text": [
      "Found https://as1.ftcdn.net/jpg/01/26/28/66/220_F_126286670_u62NsRhHh7S2WW1TgV6OUCobuoY1AmSv.jpg locally at 220_F_126286670_u62NsRhHh7S2WW1TgV6OUCobuoY1AmSv.jpg\n"
     ]
    },
    {
     "name": "stderr",
     "output_type": "stream",
     "text": [
      " 29%|██▊       | 573/2000 [00:00<00:01, 894.49it/s]"
     ]
    },
    {
     "name": "stdout",
     "output_type": "stream",
     "text": [
      "Found http://www.linkconnector.com/images/products/48431/ch-e6dl_150px.png locally at ch-e6dl_150px.png\n"
     ]
    },
    {
     "name": "stderr",
     "output_type": "stream",
     "text": [
      " 33%|███▎      | 665/2000 [00:00<00:01, 745.66it/s]"
     ]
    },
    {
     "name": "stdout",
     "output_type": "stream",
     "text": [
      "Found https://i.pinimg.com/236x/a2/de/62/a2de625a9bcdcf34bdb37b8ce829d519--sewing-ideas-for-babies-easy-baby-girl-sewing-projects.jpg locally at a2de625a9bcdcf34bdb37b8ce829d519--sewing-ideas-for-babies-easy-baby-girl-sewing-projects.jpg\n"
     ]
    },
    {
     "name": "stderr",
     "output_type": "stream",
     "text": [
      " 38%|███▊      | 762/2000 [00:01<00:01, 641.51it/s]"
     ]
    },
    {
     "name": "stdout",
     "output_type": "stream",
     "text": [
      "Found http://image.made-in-china.com/2f1j10rnVTFJdEklcC/Chrome-3-Tiers-Adjustable-Wire.jpg locally at Chrome-3-Tiers-Adjustable-Wire.jpg\n"
     ]
    },
    {
     "name": "stderr",
     "output_type": "stream",
     "text": [
      " 42%|████▏     | 835/2000 [00:01<00:02, 513.05it/s]"
     ]
    },
    {
     "name": "stdout",
     "output_type": "stream",
     "text": [
      "Found https://i.dailymail.co.uk/i/pix/2012/01/15/article-2086979-0F76CC2D00000578-589_634x571.jpg locally at article-2086979-0F76CC2D00000578-589_634x571.jpg\n",
      "1/1: https://images.squarespace-cdn.com/content/587513b0b3db2b8de52bb3db/1515640839214-IRHRK6I3MCN66O6J9ODT/before2.JPG... Success ✅ (1 frames of shape 640x480 at 25.00 FPS)\n",
      "\n",
      "\n",
      "WARNING ⚠️ inference results will accumulate in RAM unless `stream=True` is passed, causing potential out-of-memory\n",
      "errors for large sources or long-running streams and videos. See https://docs.ultralytics.com/modes/predict/ for help.\n",
      "\n",
      "Example:\n",
      "    results = model(source=..., stream=True)  # generator of Results objects\n",
      "    for r in results:\n",
      "        boxes = r.boxes  # Boxes object for bbox outputs\n",
      "        masks = r.masks  # Masks object for segment masks outputs\n",
      "        probs = r.probs  # Class probabilities for classification outputs\n",
      "\n",
      "Found https://media-cdn.tripadvisor.com/media/vr-splice-l/02/b6/80/b2.jpg locally at b2.jpg\n"
     ]
    },
    {
     "name": "stderr",
     "output_type": "stream",
     "text": [
      " 44%|████▍     | 888/2000 [00:02<00:05, 194.14it/s]"
     ]
    },
    {
     "name": "stdout",
     "output_type": "stream",
     "text": [
      "Found https://a2.mzstatic.com/us/r30/Purple1/v4/bf/52/d4/bf52d4c0-eb58-0175-beec-4ad6f6a90506/screen1136x1136.jpeg locally at screen1136x1136.jpeg\n"
     ]
    },
    {
     "name": "stderr",
     "output_type": "stream",
     "text": [
      " 46%|████▋     | 925/2000 [00:02<00:05, 196.41it/s]"
     ]
    },
    {
     "name": "stdout",
     "output_type": "stream",
     "text": [
      "Found http://luxuryachts.eu/wp-content/uploads/2015/01/Revelead-two-new-luxury-yacht-concetps-With-Paszkowski-Design-3.jpg locally at Revelead-two-new-luxury-yacht-concetps-With-Paszkowski-Design-3.jpg\n"
     ]
    },
    {
     "name": "stderr",
     "output_type": "stream",
     "text": [
      " 49%|████▉     | 978/2000 [00:02<00:04, 211.07it/s]"
     ]
    },
    {
     "name": "stdout",
     "output_type": "stream",
     "text": [
      "Found http://s3.amazonaws.com/bncore/wp-content/uploads/2016/08/5648.jpg locally at 5648.jpg\n"
     ]
    },
    {
     "name": "stderr",
     "output_type": "stream",
     "text": [
      " 51%|█████     | 1013/2000 [00:03<00:05, 188.75it/s]"
     ]
    },
    {
     "name": "stdout",
     "output_type": "stream",
     "text": [
      "Found https://p1.liveauctioneers.com/4545/117328/60333026_1_x.jpg locally at 60333026_1_x.jpg\n",
      "Found https://data.ukiyo-e.org/bm/scaled/AN00434605_001_l.jpg locally at AN00434605_001_l.jpg\n"
     ]
    },
    {
     "name": "stderr",
     "output_type": "stream",
     "text": [
      " 52%|█████▏    | 1039/2000 [00:03<00:07, 136.34it/s]"
     ]
    },
    {
     "name": "stdout",
     "output_type": "stream",
     "text": [
      "Found http://i2.cdn.turner.com/cnn/dam/assets/130709172848-07-kids-state-dinner-horizontal-gallery.jpg locally at 130709172848-07-kids-state-dinner-horizontal-gallery.jpg\n"
     ]
    },
    {
     "name": "stderr",
     "output_type": "stream",
     "text": [
      " 53%|█████▎    | 1059/2000 [00:03<00:07, 134.42it/s]"
     ]
    },
    {
     "name": "stdout",
     "output_type": "stream",
     "text": [
      "Downloading https://d6vfwwsmhxo8w.cloudfront.net/previews/8187_1605470613_640x360.jpg to '8187_1605470613_640x360.jpg'...\n",
      "⚠️ Download failure, retrying 1/1 https://d6vfwwsmhxo8w.cloudfront.net/previews/8187_1605470613_640x360.jpg...\n"
     ]
    },
    {
     "name": "stderr",
     "output_type": "stream",
     "text": [
      "curl: (6) Could not resolve host: d6vfwwsmhxo8w.cloudfront.net\n",
      "Warning: Transient problem: timeout Will retry in 1 seconds. 3 retries left.\n",
      "curl: (6) Could not resolve host: d6vfwwsmhxo8w.cloudfront.net                \n",
      "Warning: Transient problem: timeout Will retry in 2 seconds. 2 retries left.\n",
      "curl: (6) Could not resolve host: d6vfwwsmhxo8w.cloudfront.net                \n",
      "Warning: Transient problem: timeout Will retry in 4 seconds. 1 retries left.\n",
      "curl: (6) Could not resolve host: d6vfwwsmhxo8w.cloudfront.net                \n",
      "\n",
      " 56%|█████▌    | 1118/2000 [00:12<00:57, 15.25it/s] "
     ]
    },
    {
     "name": "stdout",
     "output_type": "stream",
     "text": [
      "Found http://st.depositphotos.com/1037331/2924/i/170/depositphotos_29245477-Contented-smiling-little-girl-is-holding-two-ice-creams-sitting-on-the-grass.jpg locally at depositphotos_29245477-Contented-smiling-little-girl-is-holding-two-ice-creams-sitting-on-the-grass.jpg\n"
     ]
    },
    {
     "name": "stderr",
     "output_type": "stream",
     "text": [
      " 57%|█████▋    | 1136/2000 [00:13<00:49, 17.37it/s]"
     ]
    },
    {
     "name": "stdout",
     "output_type": "stream",
     "text": [
      "Found https://media.breitbart.com/media/2018/02/wi/afp/17/29n4ei_new-law-in-poland-sets-maximum-year-jail-term-who-describes-nazi-german-death-200x133.jpg locally at 29n4ei_new-law-in-poland-sets-maximum-year-jail-term-who-describes-nazi-german-death-200x133.jpg\n"
     ]
    },
    {
     "name": "stderr",
     "output_type": "stream",
     "text": [
      " 63%|██████▎   | 1265/2000 [00:13<00:17, 41.78it/s]"
     ]
    },
    {
     "name": "stdout",
     "output_type": "stream",
     "text": [
      "Downloading http://images.opt.be/images/elto/60161.png to '60161.png'...\n",
      "⚠️ Download failure, retrying 1/1 http://images.opt.be/images/elto/60161.png...\n"
     ]
    },
    {
     "name": "stderr",
     "output_type": "stream",
     "text": [
      "curl: (6) Could not resolve host: images.opt.be\n",
      "Warning: Transient problem: timeout Will retry in 1 seconds. 3 retries left.\n",
      "curl: (6) Could not resolve host: images.opt.be                               \n",
      "Warning: Transient problem: timeout Will retry in 2 seconds. 2 retries left.\n",
      "curl: (6) Could not resolve host: images.opt.be                               \n",
      "Warning: Transient problem: timeout Will retry in 4 seconds. 1 retries left.\n",
      "curl: (6) Could not resolve host: images.opt.be                               \n",
      "\n",
      " 67%|██████▋   | 1343/2000 [00:23<00:39, 16.73it/s]"
     ]
    },
    {
     "name": "stdout",
     "output_type": "stream",
     "text": [
      "Found https://prodimage.images-bn.com/pimages/9781441231468_p0_v1_s90x140.jpg locally at 9781441231468_p0_v1_s90x140.jpg\n"
     ]
    },
    {
     "name": "stderr",
     "output_type": "stream",
     "text": [
      " 72%|███████▏  | 1444/2000 [00:23<00:20, 26.77it/s]"
     ]
    },
    {
     "name": "stdout",
     "output_type": "stream",
     "text": [
      "Found https://ae01.alicdn.com/kf/HTB1cxemKFXXXXcoaXXXq6xXFXXX7/Chinese-Pictures-hanzi-pinying-book-for-kids-Three-Character-Classic-Baijiaxing-dizigui-QianZiWen.jpg locally at Chinese-Pictures-hanzi-pinying-book-for-kids-Three-Character-Classic-Baijiaxing-dizigui-QianZiWen.jpg\n"
     ]
    },
    {
     "name": "stderr",
     "output_type": "stream",
     "text": [
      " 75%|███████▍  | 1496/2000 [00:23<00:15, 33.12it/s]"
     ]
    },
    {
     "name": "stdout",
     "output_type": "stream",
     "text": [
      "Found http://thumbs3.ebaystatic.com/m/mW9a9uVWMI37qv4meU-2w0Q/140.jpg locally at 140.jpg\n",
      "Downloading https://d34zlyc2cp9zm7.cloudfront.net/products/027e44bd11ae9e7b256ed1c6322f5c32e118039dbdb94f5a2081eb7294437bbc.jpg to '027e44bd11ae9e7b256ed1c6322f5c32e118039dbdb94f5a2081eb7294437bbc.jpg'...\n",
      "⚠️ Download failure, retrying 1/1 https://d34zlyc2cp9zm7.cloudfront.net/products/027e44bd11ae9e7b256ed1c6322f5c32e118039dbdb94f5a2081eb7294437bbc.jpg...\n"
     ]
    },
    {
     "name": "stderr",
     "output_type": "stream",
     "text": [
      "curl: (6) Could not resolve host: d34zlyc2cp9zm7.cloudfront.net\n",
      "Warning: Transient problem: timeout Will retry in 1 seconds. 3 retries left.\n",
      "curl: (6) Could not resolve host: d34zlyc2cp9zm7.cloudfront.net               \n",
      "Warning: Transient problem: timeout Will retry in 2 seconds. 2 retries left.\n",
      "curl: (6) Could not resolve host: d34zlyc2cp9zm7.cloudfront.net               \n",
      "Warning: Transient problem: timeout Will retry in 4 seconds. 1 retries left.\n",
      "curl: (6) Could not resolve host: d34zlyc2cp9zm7.cloudfront.net               \n",
      "\n",
      " 79%|███████▉  | 1581/2000 [00:32<00:23, 17.64it/s]"
     ]
    },
    {
     "name": "stdout",
     "output_type": "stream",
     "text": [
      "Found https://talkingtogetherdotca.files.wordpress.com/2016/06/three-little-pigs.jpg locally at three-little-pigs.jpg\n",
      "Found https://loveexplosions.files.wordpress.com/2014/10/related-grants.jpg locally at related-grants.jpg\n"
     ]
    },
    {
     "name": "stderr",
     "output_type": "stream",
     "text": [
      " 82%|████████▏ | 1635/2000 [00:33<00:16, 22.52it/s]"
     ]
    },
    {
     "name": "stdout",
     "output_type": "stream",
     "text": [
      "Found http://www.sexfucked.com/thumbs/50ea67986807155d7b6583a3f3557895.jpg locally at 50ea67986807155d7b6583a3f3557895.jpg\n",
      "Found http://i01.i.aliimg.com/photo/v0/60153604037/Manufactor_font_b_three_b_font_font.jpg locally at Manufactor_font_b_three_b_font_font.jpg\n"
     ]
    },
    {
     "name": "stderr",
     "output_type": "stream",
     "text": [
      " 90%|████████▉ | 1790/2000 [00:33<00:04, 43.03it/s]"
     ]
    },
    {
     "name": "stdout",
     "output_type": "stream",
     "text": [
      "Found http://images.slideplayer.com/14/4200833/slides/slide_10.jpg locally at slide_10.jpg\n",
      "Found http://godoseebuy.com/wp-content/uploads/2015/09/SEEseeIf-you-only-see-three-things-this-week-720x173.png locally at SEEseeIf-you-only-see-three-things-this-week-720x173.png\n"
     ]
    },
    {
     "name": "stderr",
     "output_type": "stream",
     "text": [
      " 91%|█████████▏| 1828/2000 [00:33<00:03, 47.87it/s]"
     ]
    },
    {
     "name": "stdout",
     "output_type": "stream",
     "text": [
      "Downloading https://www.fabby.com/media/catalog/product/cache/4/small_image/210x/9df78eab33525d08d6e5fb8d27136e95/8/0/80473BS.jpg to '80473BS.jpg'...\n"
     ]
    },
    {
     "name": "stderr",
     "output_type": "stream",
     "text": [
      " 91%|█████████▏| 1828/2000 [00:47<00:03, 47.87it/s]"
     ]
    },
    {
     "name": "stdout",
     "output_type": "stream",
     "text": [
      "⚠️ Download failure, retrying 1/1 https://www.fabby.com/media/catalog/product/cache/4/small_image/210x/9df78eab33525d08d6e5fb8d27136e95/8/0/80473BS.jpg...\n"
     ]
    },
    {
     "name": "stderr",
     "output_type": "stream",
     "text": [
      "curl: (35) OpenSSL SSL_connect: Connection reset by peer in connection to www.fabby.com:443 \n",
      "\n",
      " 92%|█████████▏| 1832/2000 [01:22<00:47,  3.52it/s]"
     ]
    },
    {
     "name": "stdout",
     "output_type": "stream",
     "text": [
      "Found http://images.buyagift.co.uk/common/client/Images/Product/Small/en-GB/marriott_windsor_Exterior_G.jpg locally at marriott_windsor_Exterior_G.jpg\n"
     ]
    },
    {
     "name": "stderr",
     "output_type": "stream",
     "text": [
      " 94%|█████████▎| 1871/2000 [01:23<00:28,  4.50it/s]"
     ]
    },
    {
     "name": "stdout",
     "output_type": "stream",
     "text": [
      "Found https://assets.bwbx.io/images/users/iqjWHBFdfxIU/i_2b1hndCCpQ/v0/560x-1.jpg locally at 560x-1.jpg\n"
     ]
    },
    {
     "name": "stderr",
     "output_type": "stream",
     "text": [
      "100%|██████████| 2000/2000 [01:23<00:00, 24.02it/s]\n"
     ]
    },
    {
     "data": {
      "text/plain": [
       "[([tensor(39.),\n",
       "   tensor(39.),\n",
       "   tensor(39.),\n",
       "   tensor(39.),\n",
       "   tensor(39.),\n",
       "   tensor(39.)],\n",
       "  'http://mediad.publicbroadcasting.net/p/nwpr/files/styles/card_280/public/201211/110912AK_Coldpress_3.jpg',\n",
       "  '\"The Durant family makes two different kinds of regional olive oil. One called a \"\"fresh press\"\" is their minimally processed oil which yields a greener, spicier flavor. The other, is high-quality extra virgin.\"',\n",
       "  2),\n",
       " ([],\n",
       "  'http://www.pinkdiamondusa.com/media/catalog/product/cache/1/small_image/150x150/9df78eab33525d08d6e5fb8d27136e95/L/Q/LQ7829P_3.jpg',\n",
       "  '18K Two-tone Gold Fancy Diamond Slice Pendant',\n",
       "  2),\n",
       " ([tensor(33.)],\n",
       "  'https://static1.bigstockphoto.com/thumbs/7/3/1/large2/137946380.jpg',\n",
       "  'Vector illustration of a bouquet for you Image bouquet of black and white style of pointillism for you in the middle of drawing flowers flying around seven three butterflies on a gray background',\n",
       "  7),\n",
       " ([tensor(39.), tensor(39.), tensor(39.)],\n",
       "  'https://as1.ftcdn.net/jpg/01/26/28/66/220_F_126286670_u62NsRhHh7S2WW1TgV6OUCobuoY1AmSv.jpg',\n",
       "  'Beer Bottle Mock-Up - Three Bottles. Blank Label',\n",
       "  3),\n",
       " ([tensor(14.)],\n",
       "  'http://www.linkconnector.com/images/products/48431/ch-e6dl_150px.png',\n",
       "  'Elk Six Antler Chandelier w/ 1 Down Light - SALE',\n",
       "  6),\n",
       " ([tensor(27.)],\n",
       "  'https://i.pinimg.com/236x/a2/de/62/a2de625a9bcdcf34bdb37b8ce829d519--sewing-ideas-for-babies-easy-baby-girl-sewing-projects.jpg',\n",
       "  'The Easiest (and Best) Burp Rag You Will Ever Sew: This really is the easiest tutorial for a burp rag you could make! Only three steps, and they are the best burp rags!! Great for easy baby gifts, too.',\n",
       "  3),\n",
       " ([tensor(11.)],\n",
       "  'http://image.made-in-china.com/2f1j10rnVTFJdEklcC/Chrome-3-Tiers-Adjustable-Wire.jpg',\n",
       "  'Two Baskets와 Wooden Workbench를 가진 크롬 3 Tiers Adjustable Wire Shelving Cart',\n",
       "  2),\n",
       " ([tensor(0.), tensor(0.), tensor(0.), tensor(32.), tensor(0.)],\n",
       "  'https://i.dailymail.co.uk/i/pix/2012/01/15/article-2086979-0F76CC2D00000578-589_634x571.jpg',\n",
       "  'Showing commitment: Olivier buys three Minnie Mouse balloons for Nahla who he has been spending more time with lately',\n",
       "  3),\n",
       " ([tensor(56.), tensor(39.)],\n",
       "  'https://images.squarespace-cdn.com/content/587513b0b3db2b8de52bb3db/1515640839214-IRHRK6I3MCN66O6J9ODT/before2.JPG',\n",
       "  'This Kitchen Design Was Only Five Years Old, But The Clients Really Wanted  Something Different. The Mirrored Backsplash And The Stainless Steel  Shelving And ...',\n",
       "  5),\n",
       " ([tensor(75.), tensor(57.), tensor(56.), tensor(62.), tensor(75.)],\n",
       "  'https://media-cdn.tripadvisor.com/media/vr-splice-l/02/b6/80/b2.jpg',\n",
       "  'Three Bedroom Residential Apartment, Netanya',\n",
       "  3),\n",
       " ([],\n",
       "  'https://a2.mzstatic.com/us/r30/Purple1/v4/bf/52/d4/bf52d4c0-eb58-0175-beec-4ad6f6a90506/screen1136x1136.jpeg',\n",
       "  'One Fish, Two Fish, HANGED! - A hangman classic screenshot 2',\n",
       "  2),\n",
       " ([tensor(8.), tensor(8.)],\n",
       "  'http://luxuryachts.eu/wp-content/uploads/2015/01/Revelead-two-new-luxury-yacht-concetps-With-Paszkowski-Design-3.jpg',\n",
       "  'Revelead two new luxury yacht concetps With Paszkowski Design 3  Revelead two new luxury yacht concetps With Paszkowski Design Revelead two new luxury yacht concetps With Paszkowski Design 3',\n",
       "  2),\n",
       " ([tensor(32.), tensor(0.), tensor(0.)],\n",
       "  'http://s3.amazonaws.com/bncore/wp-content/uploads/2016/08/5648.jpg',\n",
       "  'Matthew Anderson and his American team came up a little short in a five-set match against Italy on Friday.',\n",
       "  5),\n",
       " ([],\n",
       "  'https://p1.liveauctioneers.com/4545/117328/60333026_1_x.jpg',\n",
       "  'A series of four Sino-Tibetan scrolls, gouache on',\n",
       "  4),\n",
       " ([tensor(59.)],\n",
       "  'https://data.ukiyo-e.org/bm/scaled/AN00434605_001_l.jpg',\n",
       "  'Mizuno Toshikata: Sanjuroku i kurabe 三十六佳撰 (The Thirty-six Beauties Compared) - British Museum',\n",
       "  6),\n",
       " ([tensor(0.),\n",
       "   tensor(0.),\n",
       "   tensor(0.),\n",
       "   tensor(0.),\n",
       "   tensor(0.),\n",
       "   tensor(0.),\n",
       "   tensor(0.),\n",
       "   tensor(0.),\n",
       "   tensor(0.),\n",
       "   tensor(0.),\n",
       "   tensor(0.),\n",
       "   tensor(0.),\n",
       "   tensor(41.),\n",
       "   tensor(41.),\n",
       "   tensor(41.),\n",
       "   tensor(40.),\n",
       "   tensor(0.),\n",
       "   tensor(0.),\n",
       "   tensor(0.),\n",
       "   tensor(41.),\n",
       "   tensor(0.)],\n",
       "  'http://i2.cdn.turner.com/cnn/dam/assets/130709172848-07-kids-state-dinner-horizontal-gallery.jpg',\n",
       "  '\"President Barack Obama and first lady Michelle Obama chat with guests during the second kids\\' \"\"state dinner\"\" on Tuesday, July 9, at the White House. Fifty-four children, along with their parents and guardians, attended as winners of the Healthy Lunchtime Challenge.\"',\n",
       "  4),\n",
       " ([],\n",
       "  'https://d6vfwwsmhxo8w.cloudfront.net/previews/8187_1605470613_640x360.jpg',\n",
       "  'Epic Encounters Five',\n",
       "  5),\n",
       " ([tensor(0.)],\n",
       "  'http://st.depositphotos.com/1037331/2924/i/170/depositphotos_29245477-Contented-smiling-little-girl-is-holding-two-ice-creams-sitting-on-the-grass.jpg',\n",
       "  'Contented smiling little girl is holding two ice creams sitting on the grass — Stock Photo',\n",
       "  2),\n",
       " ([],\n",
       "  'https://media.breitbart.com/media/2018/02/wi/afp/17/29n4ei_new-law-in-poland-sets-maximum-year-jail-term-who-describes-nazi-german-death-200x133.jpg',\n",
       "  'A new law in Poland sets a maximum three-year jail term for anyone who describes Nazi German death camps, such as Auschwitz-Birkenau, as being Polish',\n",
       "  3),\n",
       " ([],\n",
       "  'http://images.opt.be/images/elto/60161.png',\n",
       "  \"<strong>16/08/2013>25/08/2013 ></strong> Wallonia International Women's Open (Charleroi Modal Euro-Ten)\",\n",
       "  10),\n",
       " ([],\n",
       "  'https://prodimage.images-bn.com/pimages/9781441231468_p0_v1_s90x140.jpg',\n",
       "  'The Assault (Harbingers): Cycle Two of the Harbingers Series',\n",
       "  2),\n",
       " ([tensor(77.), tensor(0.), tensor(74.), tensor(77.)],\n",
       "  'https://ae01.alicdn.com/kf/HTB1cxemKFXXXXcoaXXXq6xXFXXX7/Chinese-Pictures-hanzi-pinying-book-for-kids-Three-Character-Classic-Baijiaxing-dizigui-QianZiWen.jpg',\n",
       "  'Chinese Pictures Hanzi Pinying Book For Kids Three Character Classic, Baijiaxing, Dizigui, QianZiWen',\n",
       "  3),\n",
       " ([],\n",
       "  'http://thumbs3.ebaystatic.com/m/mW9a9uVWMI37qv4meU-2w0Q/140.jpg',\n",
       "  'Two Gun Kid (1948) #85 GD 2.0',\n",
       "  2),\n",
       " ([],\n",
       "  'https://d34zlyc2cp9zm7.cloudfront.net/products/027e44bd11ae9e7b256ed1c6322f5c32e118039dbdb94f5a2081eb7294437bbc.jpg',\n",
       "  \"TOM CLANCY'S: RAINBOW SIX SIEGE PC UBISOFT\",\n",
       "  6),\n",
       " ([],\n",
       "  'https://talkingtogetherdotca.files.wordpress.com/2016/06/three-little-pigs.jpg',\n",
       "  'Three Little Pigs',\n",
       "  3),\n",
       " ([],\n",
       "  'https://loveexplosions.files.wordpress.com/2014/10/related-grants.jpg',\n",
       "  \"Five members of the Board of Directors of AS and two management employees are affiliated with institutions that received funding from AS. At December 31, 2013, AS had grants payable and commitments to these institutions totaling approximately $5,532,344. During the year ended December 31, 2013, AS's expenses included approximately $3,669,960 related to awards granted to institutions affiliated with an AS Board member or management employee. Certain members of AS's Scientific Advisory Committee and Scientific Review Panel, which are involved in the grant appropriation process, are also associated with institutions that receive funding from AS.\",\n",
       "  5),\n",
       " ([],\n",
       "  'http://www.sexfucked.com/thumbs/50ea67986807155d7b6583a3f3557895.jpg',\n",
       "  'Terrified Asian Girl Violently Fucked By Three Perverted Guys',\n",
       "  3),\n",
       " ([tensor(3.)],\n",
       "  'http://i01.i.aliimg.com/photo/v0/60153604037/Manufactor_font_b_three_b_font_font.jpg',\n",
       "  'Manufactor three wheel car/three wheel motorcycle for the disabled',\n",
       "  3),\n",
       " ([tensor(29.), tensor(29.), tensor(32.)],\n",
       "  'http://images.slideplayer.com/14/4200833/slides/slide_10.jpg',\n",
       "  'Two People Relating without a Higher Purpose Create a Self-centered Relationship.',\n",
       "  2),\n",
       " ([],\n",
       "  'http://godoseebuy.com/wp-content/uploads/2015/09/SEEseeIf-you-only-see-three-things-this-week-720x173.png',\n",
       "  'SEEseeIf-you-only-see-three-things-this-week',\n",
       "  3),\n",
       " ([],\n",
       "  'https://www.fabby.com/media/catalog/product/cache/4/small_image/210x/9df78eab33525d08d6e5fb8d27136e95/8/0/80473BS.jpg',\n",
       "  'The Welles Style - Three Lamp Vanity Fixture',\n",
       "  3),\n",
       " ([],\n",
       "  'http://images.buyagift.co.uk/common/client/Images/Product/Small/en-GB/marriott_windsor_Exterior_G.jpg',\n",
       "  'Health Club Pass for Two at Heathrow/Windsor Marriott Hotel',\n",
       "  2),\n",
       " ([tensor(0.),\n",
       "   tensor(0.),\n",
       "   tensor(27.),\n",
       "   tensor(27.),\n",
       "   tensor(56.),\n",
       "   tensor(56.),\n",
       "   tensor(0.)],\n",
       "  'https://assets.bwbx.io/images/users/iqjWHBFdfxIU/i_2b1hndCCpQ/v0/560x-1.jpg',\n",
       "  \"Salvini: In Sync With Five Star's Di Maio on Budget, Banks\",\n",
       "  5)]"
      ]
     },
     "execution_count": 36,
     "metadata": {},
     "output_type": "execute_result"
    }
   ],
   "source": [
    "filter_laion(urls_raw,caps_raw)\n",
    "\n",
    "    "
   ]
  },
  {
   "cell_type": "code",
   "execution_count": null,
   "metadata": {},
   "outputs": [],
   "source": [
    "f = open(\"segments0.npy\",\"rb\")\n",
    "out = np.load(f,allow_pickle=True)"
   ]
  },
  {
   "cell_type": "code",
   "execution_count": null,
   "metadata": {},
   "outputs": [],
   "source": [
    "import requests\n",
    "\n",
    "def is_url_image(image_url):\n",
    "   image_formats = (\"image/png\", \"image/jpeg\", \"image/jpg\")\n",
    "   try:\n",
    "      r = requests.head(image_url)\n",
    "   except:\n",
    "      return False\n",
    "   try:\n",
    "      if r.headers[\"content-type\"] in image_formats:\n",
    "         return True\n",
    "   except:\n",
    "         return True\n",
    "      \n",
    "   return False"
   ]
  }
 ],
 "metadata": {
  "kernelspec": {
   "display_name": "Python 3",
   "language": "python",
   "name": "python3"
  },
  "language_info": {
   "codemirror_mode": {
    "name": "ipython",
    "version": 3
   },
   "file_extension": ".py",
   "mimetype": "text/x-python",
   "name": "python",
   "nbconvert_exporter": "python",
   "pygments_lexer": "ipython3",
   "version": "3.11.2"
  }
 },
 "nbformat": 4,
 "nbformat_minor": 2
}
