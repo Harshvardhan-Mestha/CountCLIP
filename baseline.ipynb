{
  "cells": [
    {
      "cell_type": "code",
      "execution_count": 1,
      "metadata": {
        "colab": {
          "base_uri": "https://localhost:8080/"
        },
        "id": "lc1RWdRmKO3g",
        "outputId": "e791817c-a97d-47ff-f78d-a29076f4fba1"
      },
      "outputs": [
        {
          "output_type": "stream",
          "name": "stdout",
          "text": [
            "Downloading...\n",
            "From (original): https://drive.google.com/uc?id=1UG_bXl_vgCdVq3kgf8Y-StXPCttlpFAG\n",
            "From (redirected): https://drive.google.com/uc?id=1UG_bXl_vgCdVq3kgf8Y-StXPCttlpFAG&confirm=t&uuid=fe4b050f-4677-4a72-9a8f-061ec89c4e22\n",
            "To: /content/data.zip\n",
            "100% 960M/960M [00:05<00:00, 166MB/s]\n",
            "Downloading...\n",
            "From: https://drive.google.com/uc?id=13mdK-jX_eDNa5v-HB34WOS3WNHSru_ir\n",
            "To: /content/merged.json\n",
            "100% 2.58M/2.58M [00:00<00:00, 101MB/s]\n",
            "Downloading...\n",
            "From: https://drive.google.com/uc?id=1h9FV9dVvcvLo97reN9_2dbg0QFKyVED2\n",
            "To: /content/val.json\n",
            "100% 144k/144k [00:00<00:00, 85.7MB/s]\n",
            "Downloading...\n",
            "From: https://drive.google.com/uc?id=1es9gtEtl1yiX4DVFRI_Qi0fQg0R9qUO2\n",
            "To: /content/faulty.csv\n",
            "100% 25.8k/25.8k [00:00<00:00, 43.3MB/s]\n"
          ]
        }
      ],
      "source": [
        "!gdown 1UG_bXl_vgCdVq3kgf8Y-StXPCttlpFAG\n",
        "!gdown 13mdK-jX_eDNa5v-HB34WOS3WNHSru_ir\n",
        "!gdown 1h9FV9dVvcvLo97reN9_2dbg0QFKyVED2\n",
        "!gdown 1es9gtEtl1yiX4DVFRI_Qi0fQg0R9qUO2\n",
        "!unzip -q data"
      ]
    },
    {
      "cell_type": "code",
      "execution_count": 2,
      "metadata": {
        "id": "joenjbHqmeoQ",
        "colab": {
          "base_uri": "https://localhost:8080/"
        },
        "outputId": "0f6358a8-f4b6-4646-cb49-9c6df192018e"
      },
      "outputs": [
        {
          "output_type": "stream",
          "name": "stdout",
          "text": [
            "\u001b[2K     \u001b[90m━━━━━━━━━━━━━━━━━━━━━━━━━━━━━━━━━━━━━━━━\u001b[0m \u001b[32m1.4/1.4 MB\u001b[0m \u001b[31m6.5 MB/s\u001b[0m eta \u001b[36m0:00:00\u001b[0m\n",
            "\u001b[?25h  Preparing metadata (setup.py) ... \u001b[?25l\u001b[?25hdone\n",
            "\u001b[2K     \u001b[90m━━━━━━━━━━━━━━━━━━━━━━━━━━━━━━━━━━━━━━━━\u001b[0m \u001b[32m2.2/2.2 MB\u001b[0m \u001b[31m37.5 MB/s\u001b[0m eta \u001b[36m0:00:00\u001b[0m\n",
            "\u001b[2K     \u001b[90m━━━━━━━━━━━━━━━━━━━━━━━━━━━━━━━━━━━━━━━━\u001b[0m \u001b[32m54.4/54.4 kB\u001b[0m \u001b[31m7.0 MB/s\u001b[0m eta \u001b[36m0:00:00\u001b[0m\n",
            "\u001b[2K     \u001b[90m━━━━━━━━━━━━━━━━━━━━━━━━━━━━━━━━━━━━━━━━\u001b[0m \u001b[32m207.3/207.3 kB\u001b[0m \u001b[31m24.9 MB/s\u001b[0m eta \u001b[36m0:00:00\u001b[0m\n",
            "\u001b[2K     \u001b[90m━━━━━━━━━━━━━━━━━━━━━━━━━━━━━━━━━━━━━━━━\u001b[0m \u001b[32m264.9/264.9 kB\u001b[0m \u001b[31m26.3 MB/s\u001b[0m eta \u001b[36m0:00:00\u001b[0m\n",
            "\u001b[2K     \u001b[90m━━━━━━━━━━━━━━━━━━━━━━━━━━━━━━━━━━━━━━━━\u001b[0m \u001b[32m62.7/62.7 kB\u001b[0m \u001b[31m8.8 MB/s\u001b[0m eta \u001b[36m0:00:00\u001b[0m\n",
            "\u001b[?25h  Building wheel for openai-clip (setup.py) ... \u001b[?25l\u001b[?25hdone\n"
          ]
        }
      ],
      "source": [
        "!pip -q install transformers openai-clip wandb"
      ]
    },
    {
      "cell_type": "code",
      "execution_count": 3,
      "metadata": {
        "id": "ua2vuHRfa7k2"
      },
      "outputs": [],
      "source": [
        "from PIL import Image\n",
        "import json\n",
        "import torch\n",
        "import torch.nn as nn\n",
        "from torch.utils.data import DataLoader\n",
        "from tqdm import tqdm\n",
        "from tqdm import trange\n",
        "import clip\n",
        "from transformers import CLIPProcessor, CLIPModel\n",
        "from PIL import ImageFile\n",
        "import random\n",
        "from google.colab import files\n",
        "import matplotlib.pyplot as plt\n",
        "import numpy as np\n",
        "from sklearn.metrics import confusion_matrix\n",
        "from sklearn.metrics import accuracy_score\n",
        "from sklearn.metrics import f1_score\n",
        "from sklearn.metrics import ConfusionMatrixDisplay\n",
        "import wandb\n",
        "import pandas as pd\n",
        "import os\n",
        "\n",
        "ImageFile.LOAD_TRUNCATED_IMAGES = True"
      ]
    },
    {
      "cell_type": "code",
      "execution_count": 4,
      "metadata": {
        "colab": {
          "base_uri": "https://localhost:8080/",
          "height": 191
        },
        "id": "QnFRLudMmrJh",
        "outputId": "daaf6d5b-2cdc-40fe-c92f-3f145801e251"
      },
      "outputs": [
        {
          "output_type": "display_data",
          "data": {
            "text/plain": [
              "<IPython.core.display.Javascript object>"
            ],
            "application/javascript": [
              "\n",
              "        window._wandbApiKey = new Promise((resolve, reject) => {\n",
              "            function loadScript(url) {\n",
              "            return new Promise(function(resolve, reject) {\n",
              "                let newScript = document.createElement(\"script\");\n",
              "                newScript.onerror = reject;\n",
              "                newScript.onload = resolve;\n",
              "                document.body.appendChild(newScript);\n",
              "                newScript.src = url;\n",
              "            });\n",
              "            }\n",
              "            loadScript(\"https://cdn.jsdelivr.net/npm/postmate/build/postmate.min.js\").then(() => {\n",
              "            const iframe = document.createElement('iframe')\n",
              "            iframe.style.cssText = \"width:0;height:0;border:none\"\n",
              "            document.body.appendChild(iframe)\n",
              "            const handshake = new Postmate({\n",
              "                container: iframe,\n",
              "                url: 'https://wandb.ai/authorize'\n",
              "            });\n",
              "            const timeout = setTimeout(() => reject(\"Couldn't auto authenticate\"), 5000)\n",
              "            handshake.then(function(child) {\n",
              "                child.on('authorize', data => {\n",
              "                    clearTimeout(timeout)\n",
              "                    resolve(data)\n",
              "                });\n",
              "            });\n",
              "            })\n",
              "        });\n",
              "    "
            ]
          },
          "metadata": {}
        },
        {
          "output_type": "stream",
          "name": "stderr",
          "text": [
            "\u001b[34m\u001b[1mwandb\u001b[0m: Logging into wandb.ai. (Learn how to deploy a W&B server locally: https://wandb.me/wandb-server)\n",
            "\u001b[34m\u001b[1mwandb\u001b[0m: You can find your API key in your browser here: https://wandb.ai/authorize\n",
            "wandb: Paste an API key from your profile and hit enter, or press ctrl+c to quit:"
          ]
        },
        {
          "name": "stdout",
          "output_type": "stream",
          "text": [
            " ··········\n"
          ]
        },
        {
          "output_type": "stream",
          "name": "stderr",
          "text": [
            "\u001b[34m\u001b[1mwandb\u001b[0m: \u001b[32m\u001b[41mERROR\u001b[0m API key must be 40 characters long, yours was 25\n"
          ]
        },
        {
          "output_type": "display_data",
          "data": {
            "text/plain": [
              "<IPython.core.display.Javascript object>"
            ],
            "application/javascript": [
              "\n",
              "        window._wandbApiKey = new Promise((resolve, reject) => {\n",
              "            function loadScript(url) {\n",
              "            return new Promise(function(resolve, reject) {\n",
              "                let newScript = document.createElement(\"script\");\n",
              "                newScript.onerror = reject;\n",
              "                newScript.onload = resolve;\n",
              "                document.body.appendChild(newScript);\n",
              "                newScript.src = url;\n",
              "            });\n",
              "            }\n",
              "            loadScript(\"https://cdn.jsdelivr.net/npm/postmate/build/postmate.min.js\").then(() => {\n",
              "            const iframe = document.createElement('iframe')\n",
              "            iframe.style.cssText = \"width:0;height:0;border:none\"\n",
              "            document.body.appendChild(iframe)\n",
              "            const handshake = new Postmate({\n",
              "                container: iframe,\n",
              "                url: 'https://wandb.ai/authorize'\n",
              "            });\n",
              "            const timeout = setTimeout(() => reject(\"Couldn't auto authenticate\"), 5000)\n",
              "            handshake.then(function(child) {\n",
              "                child.on('authorize', data => {\n",
              "                    clearTimeout(timeout)\n",
              "                    resolve(data)\n",
              "                });\n",
              "            });\n",
              "            })\n",
              "        });\n",
              "    "
            ]
          },
          "metadata": {}
        },
        {
          "output_type": "stream",
          "name": "stderr",
          "text": [
            "\u001b[34m\u001b[1mwandb\u001b[0m: Logging into wandb.ai. (Learn how to deploy a W&B server locally: https://wandb.me/wandb-server)\n",
            "\u001b[34m\u001b[1mwandb\u001b[0m: You can find your API key in your browser here: https://wandb.ai/authorize\n",
            "wandb: Paste an API key from your profile and hit enter, or press ctrl+c to quit:"
          ]
        },
        {
          "name": "stdout",
          "output_type": "stream",
          "text": [
            " ··········\n"
          ]
        },
        {
          "output_type": "stream",
          "name": "stderr",
          "text": [
            "\u001b[34m\u001b[1mwandb\u001b[0m: Appending key for api.wandb.ai to your netrc file: /root/.netrc\n"
          ]
        },
        {
          "output_type": "execute_result",
          "data": {
            "text/plain": [
              "True"
            ]
          },
          "metadata": {},
          "execution_count": 4
        }
      ],
      "source": [
        "# WanB login - Make sure to change the login call to wandb.login(key='<yourapikey') the first time you run.\n",
        "wandb.login()"
      ]
    },
    {
      "cell_type": "code",
      "execution_count": 5,
      "metadata": {
        "colab": {
          "base_uri": "https://localhost:8080/",
          "height": 143
        },
        "id": "Bg_yas7_m85J",
        "outputId": "cfa49795-a073-4210-ce81-30cb07d4250f"
      },
      "outputs": [
        {
          "output_type": "stream",
          "name": "stderr",
          "text": [
            "\u001b[34m\u001b[1mwandb\u001b[0m: Currently logged in as: \u001b[33mharshvardhanmestha\u001b[0m. Use \u001b[1m`wandb login --relogin`\u001b[0m to force relogin\n"
          ]
        },
        {
          "output_type": "display_data",
          "data": {
            "text/plain": [
              "<IPython.core.display.HTML object>"
            ],
            "text/html": [
              "Tracking run with wandb version 0.16.5"
            ]
          },
          "metadata": {}
        },
        {
          "output_type": "display_data",
          "data": {
            "text/plain": [
              "<IPython.core.display.HTML object>"
            ],
            "text/html": [
              "Run data is saved locally in <code>/content/wandb/run-20240401_184320-zkcp73o3</code>"
            ]
          },
          "metadata": {}
        },
        {
          "output_type": "display_data",
          "data": {
            "text/plain": [
              "<IPython.core.display.HTML object>"
            ],
            "text/html": [
              "Syncing run <strong><a href='https://wandb.ai/harshvardhanmestha/mlrc/runs/zkcp73o3/workspace' target=\"_blank\">baseline</a></strong> to <a href='https://wandb.ai/harshvardhanmestha/mlrc' target=\"_blank\">Weights & Biases</a> (<a href='https://wandb.me/run' target=\"_blank\">docs</a>)<br/>"
            ]
          },
          "metadata": {}
        },
        {
          "output_type": "display_data",
          "data": {
            "text/plain": [
              "<IPython.core.display.HTML object>"
            ],
            "text/html": [
              " View project at <a href='https://wandb.ai/harshvardhanmestha/mlrc' target=\"_blank\">https://wandb.ai/harshvardhanmestha/mlrc</a>"
            ]
          },
          "metadata": {}
        },
        {
          "output_type": "display_data",
          "data": {
            "text/plain": [
              "<IPython.core.display.HTML object>"
            ],
            "text/html": [
              " View run at <a href='https://wandb.ai/harshvardhanmestha/mlrc/runs/zkcp73o3/workspace' target=\"_blank\">https://wandb.ai/harshvardhanmestha/mlrc/runs/zkcp73o3/workspace</a>"
            ]
          },
          "metadata": {}
        },
        {
          "output_type": "execute_result",
          "data": {
            "text/html": [
              "<button onClick=\"this.nextSibling.style.display='block';this.style.display='none';\">Display W&B run</button><iframe src='https://wandb.ai/harshvardhanmestha/mlrc/runs/zkcp73o3?jupyter=true' style='border:none;width:100%;height:420px;display:none;'></iframe>"
            ],
            "text/plain": [
              "<wandb.sdk.wandb_run.Run at 0x7c29ead20070>"
            ]
          },
          "metadata": {},
          "execution_count": 5
        }
      ],
      "source": [
        "wandb.init(\n",
        "      project=\"mlrc\",\n",
        "      name=f\"baseline\",\n",
        "      config={\"learning_rate\": 5e-6,\"epochs\": -1,})"
      ]
    },
    {
      "cell_type": "code",
      "execution_count": 6,
      "metadata": {
        "id": "p78_cuqrUGiY"
      },
      "outputs": [],
      "source": [
        "##options for model\n",
        "ckpt_pth = '' # path to a checkpoint file\n",
        "en_scheduler = False #enable scheduler\n",
        "en_balanced_lambda = False #enable lambda balancing as decscribed in Section X.X of our paper\n",
        "en_data_check = False #iterate over the dataloader once to check if there are any faulty images present (for other datasets)\n",
        "fix_faulty = True #Required to be true for our dataset"
      ]
    },
    {
      "cell_type": "code",
      "execution_count": 7,
      "metadata": {
        "id": "ii_L5G_9nx7u"
      },
      "outputs": [],
      "source": [
        "#paths for the images and their respective data\n",
        "json_path = '/content/merged.json'\n",
        "image_path = '/content/data/merged'\n",
        "val_image_path = '/content/data/VAL'\n",
        "val_json_path = '/content/val.json'\n",
        "faulty_path = '/content/faulty.csv'"
      ]
    },
    {
      "cell_type": "code",
      "execution_count": 8,
      "metadata": {
        "colab": {
          "base_uri": "https://localhost:8080/"
        },
        "id": "8En1MJTkp_vz",
        "outputId": "1c1ff831-e4b7-4a08-bc16-3b9ff04b70ca"
      },
      "outputs": [
        {
          "output_type": "stream",
          "name": "stderr",
          "text": [
            "100%|██████████| 100/100 [00:00<00:00, 74288.06it/s]\n"
          ]
        }
      ],
      "source": [
        "# Loading and fixing raw training data\n",
        "with open(json_path, 'r') as f:\n",
        "    input_data = []\n",
        "    for line in f:\n",
        "        obj = json.loads(line)\n",
        "        input_data.append(obj)\n",
        "\n",
        "if fix_faulty:\n",
        "  faulty = pd.read_csv(faulty_path)\n",
        "  indexes = list(faulty[\"index\"])\n",
        "  json_strs = list(faulty[\"json_str\"])\n",
        "\n",
        "  for i in trange(len(indexes)):\n",
        "    input_data[int(indexes[i])] = json.loads(json_strs[i])\n"
      ]
    },
    {
      "cell_type": "code",
      "execution_count": 9,
      "metadata": {
        "id": "VExIkQiya-jo",
        "colab": {
          "base_uri": "https://localhost:8080/"
        },
        "outputId": "efda9068-7c70-46d9-c74f-f3bde5a3b060"
      },
      "outputs": [
        {
          "output_type": "stream",
          "name": "stderr",
          "text": [
            "100%|████████████████████████████████████████| 338M/338M [00:02<00:00, 132MiB/s]\n"
          ]
        }
      ],
      "source": [
        "device = \"cuda\" if torch.cuda.is_available() else \"cpu\"\n",
        "model, preprocess = clip.load(\"ViT-B/32\", device=device, jit=False)"
      ]
    },
    {
      "cell_type": "code",
      "execution_count": 10,
      "metadata": {
        "id": "9fKIzLB8bWa7"
      },
      "outputs": [],
      "source": [
        "# class for the dataset, handles image preprocessing and text tokenization\n",
        "class image_title_dataset():\n",
        "    def __init__(self, list_image_path,list_txt,list_txt_cf):\n",
        "        # Initialize image paths and corresponding texts\n",
        "        self.image_path = list_image_path\n",
        "        # Tokenize text using CLIP's tokenizer\n",
        "        self.title  = clip.tokenize(list_txt)\n",
        "        self.cf_title = clip.tokenize(list_txt_cf)\n",
        "        self.raw_txts = list_txt\n",
        "        self.raw_counts = list_counts\n",
        "\n",
        "    def __len__(self):\n",
        "        return len(self.title)\n",
        "\n",
        "    def __getitem__(self, idx):\n",
        "        # Preprocess image using CLIP's preprocessing function\n",
        "        image = preprocess(Image.open(self.image_path[idx]))\n",
        "        title = self.title[idx]\n",
        "        cf_title = self.cf_title[idx]\n",
        "        raw_txts = self.raw_txts[idx]\n",
        "        raw_counts = self.raw_counts[idx]\n",
        "        return image, title, cf_title, raw_txts, raw_counts"
      ]
    },
    {
      "cell_type": "code",
      "execution_count": 11,
      "metadata": {
        "id": "5j4LLDvbCgJK"
      },
      "outputs": [],
      "source": [
        "num2word = {1 : 'one', 2 : 'two', 3 : 'three', 4 : 'four', 5 : 'five',\n",
        "               6 : 'six', 7 : 'seven', 8 : 'eight', 9 : 'nine', 10 : 'ten'}"
      ]
    },
    {
      "cell_type": "code",
      "execution_count": 12,
      "metadata": {
        "id": "SCYq89ZS6WPG"
      },
      "outputs": [],
      "source": [
        "loss_img = nn.CrossEntropyLoss()\n",
        "loss_txt = nn.CrossEntropyLoss()"
      ]
    },
    {
      "cell_type": "code",
      "execution_count": 13,
      "metadata": {
        "id": "FJA9EV5kCN_t"
      },
      "outputs": [],
      "source": [
        "def generate_caps(cap,count,counterfactual=False):\n",
        "  '''\n",
        "  generate_caps() - Function to generate captions by replacing the number in the current caption. Only for counting images.\n",
        "\n",
        "  inputs:\n",
        "    - cap:str = The caption of the image\n",
        "    - count:int = The count of the image\n",
        "    - counterfactual:bool = If true a random number is chosen for replacing the current number otherwise produces all possible valid combinations.\n",
        "\n",
        "  outputs:\n",
        "    - val_caps:str or list() of str = List containing all combinations of the caption, or str containing caption with count replaced with a random number,\n",
        "      depending on value of counterfactual.\n",
        "  '''\n",
        "\n",
        "  val_caps = []\n",
        "  if counterfactual==False:\n",
        "    for c in list(set(range(1,11)) - set([1])):\n",
        "      val_cap = cap.replace(num2word[count],num2word[c])\n",
        "      val_caps.append(val_cap)\n",
        "\n",
        "  if counterfactual==True:\n",
        "    l = list(set(range(1,11)) - set([1,count]))\n",
        "    n = random.choice(l)\n",
        "    val_caps = cap.replace(num2word[count],num2word[n])\n",
        "\n",
        "  return val_caps"
      ]
    },
    {
      "cell_type": "code",
      "execution_count": 14,
      "metadata": {
        "colab": {
          "base_uri": "https://localhost:8080/"
        },
        "id": "8TldEVgqqfMR",
        "outputId": "d261ea26-a8ac-44b9-924e-94a56fc3f615"
      },
      "outputs": [
        {
          "output_type": "stream",
          "name": "stdout",
          "text": [
            "\n",
            "Data and model ready.\n"
          ]
        }
      ],
      "source": [
        "## Variables for logging\n",
        "list_image_path = []\n",
        "list_txt = []\n",
        "list_txt_cf = []\n",
        "list_counts = []\n",
        "\n",
        "\n",
        "## Initalising the Dataloader for the training data\n",
        "for item in input_data:\n",
        "  img_path = image_path +str('/')+ item['pths'].split('/')[-1]\n",
        "  caption = item['caps'][:110]\n",
        "  # caption = item['caps']\n",
        "  counts = item['counts']\n",
        "\n",
        "\n",
        "  if counts>0:\n",
        "    cf_cap = generate_caps(caption.lower(),counts,counterfactual=True)\n",
        "    list_txt_cf.extend([cf_cap] * 5)\n",
        "\n",
        "  list_image_path.append(img_path)\n",
        "  list_txt.append(caption)\n",
        "  list_counts.append(counts)\n",
        "\n",
        "dataset = image_title_dataset(list_image_path, list_txt, list_txt_cf)\n",
        "train_dataloader = DataLoader(dataset, batch_size=5, shuffle=False) #Define your own dataloader\n",
        "\n",
        "# Function to convert model's parameters to FP32 format\n",
        "def convert_models_to_fp32(model):\n",
        "    for p in model.parameters():\n",
        "        p.data = p.data.float()\n",
        "        p.grad.data = p.grad.data.float()\n",
        "\n",
        "if device == \"cpu\":\n",
        "  model.double()\n",
        "\n",
        "# Prepare the optimizer\n",
        "optimizer = torch.optim.Adam(model.parameters(), lr=5e-6,betas=(0.9,0.98),eps=5e-6,weight_decay=0.2) # the lr is smaller, more safe for fine tuning to new dataset\n",
        "\n",
        "if en_scheduler:\n",
        "  linear = torch.optim.lr_scheduler.LinearLR(optimizer, start_factor=1/3, total_iters=5)\n",
        "  cosine = torch.optim.lr_scheduler.CosineAnnealingWarmRestarts(optimizer,T_0=5,last_epoch=10)\n",
        "  scheduler = torch.optim.lr_scheduler.SequentialLR(optimizer, schedulers=[linear,cosine], milestones=[5])\n",
        "\n",
        "if en_data_check: #checking data\n",
        "  pbar = tqdm(train_dataloader, total=len(train_dataloader))\n",
        "  for batch in pbar:\n",
        "    pass\n",
        "\n",
        "# Loading from checkpoint (if enabled)\n",
        "if len(ckpt_pth)>0:\n",
        "  api = wandb.Api()\n",
        "  run = api.run(ckpt_pth)\n",
        "\n",
        "  run.file(\"model_9.pt\").download()\n",
        "  model_ckpt = torch.load('model_9.pt')\n",
        "  model.load_state_dict(model_ckpt)\n",
        "\n",
        "  run.file(\"optimzier_9.pt\").download()\n",
        "  optimizer_ckpt = torch.load('optimizer_9.pt')\n",
        "  optimizer.load_state_dict(optimizer_ckpt)\n",
        "\n",
        "  run.file(\"scheduler_9.pt\").download()\n",
        "  scheduler_ckpt = torch.load('scheduler_9.pt')\n",
        "  scheduler.load_state_dict(scheduler_ckpt)\n",
        "\n",
        "print(\"\\nData and model ready.\")\n",
        "\n"
      ]
    },
    {
      "cell_type": "code",
      "execution_count": 15,
      "metadata": {
        "id": "XrIqTMvvBToy"
      },
      "outputs": [],
      "source": [
        "def get_preds(pth,model):\n",
        "  '''\n",
        "    get_preds() - Runs the validation loop, obtains predictions for the zero-shot classification task and reports validation metrics.\n",
        "\n",
        "    inputs:\n",
        "        - pth: Path to validation data\n",
        "        - model:CLIPModel\n",
        "\n",
        "    outputs:\n",
        "        - y:[int] = Ground Truth\n",
        "        - y_pred:[int] = Model Predictions\n",
        "        - np.mean(all_val_loss):float = mean validation loss on the validation set\n",
        "        - val_acc: Zero-Shot Classifiaction Accuracy\n",
        "        - f1_scores: F1 Scores for each class\n",
        "  '''\n",
        "  #opening validation data\n",
        "  with open(pth, 'r') as f:\n",
        "      val_input_data = []\n",
        "      for line in f:\n",
        "          obj = json.loads(line)\n",
        "          val_input_data.append(obj)\n",
        "\n",
        "  all_sims = []\n",
        "  c = 0\n",
        "  all_val_loss = []\n",
        "  y = []\n",
        "  y_pred = []\n",
        "  lbls = []\n",
        "  lmbda = 1\n",
        "\n",
        "  with torch.no_grad():\n",
        "    for i in trange(len(val_input_data)):\n",
        "      try:\n",
        "\n",
        "        sims = []\n",
        "        img = Image.open(val_input_data[i]['pths'])\n",
        "        cap = val_input_data[i]['caps'].lower()\n",
        "        cap = cap[0:77]\n",
        "        count = val_input_data[i]['counts']\n",
        "\n",
        "        # print(count)\n",
        "        cf_cap = generate_caps(cap,count,counterfactual=True)\n",
        "        val_caps = generate_caps(cap,count)\n",
        "\n",
        "        img = preprocess(img).to(device)\n",
        "        encoded_image = model.encode_image(torch.unsqueeze(img, 0))\n",
        "        encoded_image = encoded_image.to(device)\n",
        "\n",
        "        tokenized_f_text = clip.tokenize(cap).to(device)\n",
        "        encoded_f_text = model.encode_text(tokenized_f_text)\n",
        "        encoded_f_text = encoded_f_text.to(device)\n",
        "\n",
        "        tokenized_cf_text = clip.tokenize(cf_cap).to(device)\n",
        "        encoded_cf_text = model.encode_text(tokenized_cf_text)\n",
        "        encoded_cf_text = encoded_cf_text.to(device)\n",
        "\n",
        "        ei = encoded_image\n",
        "        ek = encoded_f_text\n",
        "        ek_cf = encoded_cf_text\n",
        "\n",
        "        for j in range(9):\n",
        "          tokenized_text = clip.tokenize(val_caps[j]).to(device)\n",
        "          encoded_text = model.encode_text(tokenized_text)\n",
        "          encoded_text = encoded_text.to(device)\n",
        "\n",
        "          similarity = torch.cosine_similarity(encoded_text, encoded_image)\n",
        "          sims.append(float(similarity))\n",
        "\n",
        "        all_sims.append((sims,count))\n",
        "        logits_per_image, logits_per_text = model(torch.unsqueeze(img,0), tokenized_f_text)\n",
        "\n",
        "        ground_truth = torch.arange(len(torch.unsqueeze(img,0)),dtype=torch.long,device=device)\n",
        "\n",
        "        # if en_balanced_lambda:\n",
        "        #   lmbda = get_lambda(cap,count)\n",
        "\n",
        "\n",
        "        # counting_loss = count_loss(ei,ek,ek_cf)\n",
        "        val_loss = ((loss_img(logits_per_image,ground_truth) + loss_txt(logits_per_text,ground_truth))/2) # + (lmbda * counting_loss)\n",
        "        all_val_loss.append(val_loss.item())\n",
        "\n",
        "        # print(val_loss.item())\n",
        "      except:\n",
        "         c=c+1\n",
        "         pass\n",
        "    print(c)\n",
        "  # return np.mean(all_val_loss),all_sims\n",
        "  for i in range(len(all_sims)):\n",
        "    y_pred.append(all_sims[i][0].index(max(all_sims[i][0]))+2)\n",
        "    y.append(all_sims[i][1])\n",
        "\n",
        "  val_acc = accuracy_score(y, y_pred)\n",
        "  f1_scores = f1_score(y, y_pred, average=None)\n",
        "\n",
        "  return y,y_pred,np.mean(all_val_loss),val_acc,f1_scores\n",
        "\n"
      ]
    },
    {
      "cell_type": "code",
      "execution_count": 16,
      "metadata": {
        "id": "o6hflXT-skbx"
      },
      "outputs": [],
      "source": [
        "def store_cf(y,y_pred,epoch):\n",
        "  '''\n",
        "  store_cf() - Function saving unnormalised confusion matrix to wandb (if enabled) or locally\n",
        "\n",
        "  inputs:\n",
        "    - y:[int] = ground truth\n",
        "    - y_pred:[int] = model predictions\n",
        "    - epoch:int = current epoch\n",
        "\n",
        "  outputs:\n",
        "    - unnormalised confusion matrix as a pdf\n",
        "  '''\n",
        "  lbls = []\n",
        "  for i in range(len(np.unique(y))):\n",
        "    lbls.append(num2word[np.unique(y)[i]])\n",
        "\n",
        "  labels = lbls\n",
        "  cf_matrix = confusion_matrix(y, y_pred)\n",
        "  cm_display = ConfusionMatrixDisplay(confusion_matrix = cf_matrix, display_labels = labels)\n",
        "\n",
        "  cm_display.plot()\n",
        "\n",
        "  try:\n",
        "    plt.savefig(os.path.join(wandb.run.dir, f\"cfmat_{epoch}.pdf\"))\n",
        "    # files.download(os.path.join(wandb.run.dir, f\"cfmat_{}.pdf\"))\n",
        "  except:\n",
        "    plt.savefig(\"/content/cfmat.pdf\")\n",
        "    files.download(\"/content/cfmat.pdf\")\n",
        "\n",
        "  plt.show()\n",
        "\n"
      ]
    },
    {
      "cell_type": "code",
      "execution_count": 17,
      "metadata": {
        "id": "E0guxSneh3U0"
      },
      "outputs": [],
      "source": [
        "def store_cf_norm(y,y_pred,epoch):\n",
        "  '''\n",
        "  store_cf_norm() - Function saving normalised confusion matrix to wandb (if enabled) or locally\n",
        "\n",
        "  inputs:\n",
        "    - y:[int] = ground truth\n",
        "    - y_pred:[int] = model predictions\n",
        "    - epoch:int = current epoch\n",
        "\n",
        "  outputs:\n",
        "    - normalised confusion matrix as a pdf\n",
        "  '''\n",
        "  lbls = []\n",
        "  for i in range(len(np.unique(y))):\n",
        "    lbls.append(num2word[np.unique(y)[i]])\n",
        "\n",
        "  labels = lbls\n",
        "  cf_matrix = confusion_matrix(y, y_pred,normalize='true')\n",
        "  cm_display = ConfusionMatrixDisplay(confusion_matrix = cf_matrix, display_labels = labels)\n",
        "  cm_display.plot()\n",
        "\n",
        "  try:\n",
        "    plt.savefig(os.path.join(wandb.run.dir, f\"cfmat_norm_{epoch}.pdf\"))\n",
        "    # files.download(os.path.join(wandb.run.dir, f\"cfmat_norm_{}.pdf\"))\n",
        "  except:\n",
        "    plt.savefig(\"/content/cfmat_norm.pdf\")\n",
        "    files.download(\"/content/cfmat_norm.pdf\")\n",
        "\n",
        "  plt.show()\n",
        "\n"
      ]
    },
    {
      "cell_type": "code",
      "source": [
        "pth = val_json_path\n",
        "y,y_pred,v,val_acc,f1_scores = get_preds(pth,model)\n",
        "store_cf(y,y_pred,-1)\n",
        "store_cf_norm(y,y_pred,-1)\n",
        "\n",
        "\n"
      ],
      "metadata": {
        "colab": {
          "base_uri": "https://localhost:8080/",
          "height": 922
        },
        "id": "aSW99leu9aUh",
        "outputId": "a8723f91-e185-4ac9-8597-97b5aacec8f0"
      },
      "execution_count": 21,
      "outputs": [
        {
          "output_type": "stream",
          "name": "stderr",
          "text": [
            "100%|██████████| 540/540 [01:12<00:00,  7.50it/s]\n"
          ]
        },
        {
          "output_type": "stream",
          "name": "stdout",
          "text": [
            "31\n"
          ]
        },
        {
          "output_type": "display_data",
          "data": {
            "text/plain": [
              "<Figure size 640x480 with 2 Axes>"
            ],
            "image/png": "[encoded data removed]"
          },
          "metadata": {}
        },
        {
          "output_type": "display_data",
          "data": {
            "text/plain": [
              "<Figure size 640x480 with 2 Axes>"
            ],
            "image/png": "[encoded data removed]"
          },
          "metadata": {}
        }
      ]
    },
    {
      "cell_type": "code",
      "execution_count": null,
      "metadata": {
        "id": "N7iw0ZBYE-l7"
      },
      "outputs": [],
      "source": [
        "wandb.finish()"
      ]
    }
  ],
  "metadata": {
    "accelerator": "GPU",
    "colab": {
      "gpuType": "T4",
      "provenance": []
    },
    "kernelspec": {
      "display_name": "Python 3",
      "name": "python3"
    },
    "language_info": {
      "name": "python"
    }
  },
  "nbformat": 4,
  "nbformat_minor": 0
}